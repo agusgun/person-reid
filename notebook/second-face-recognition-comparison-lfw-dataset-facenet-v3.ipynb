{
 "cells": [
  {
   "cell_type": "markdown",
   "metadata": {},
   "source": [
    "# Second Comparison Using LFW Dataset - Facenet"
   ]
  },
  {
   "cell_type": "markdown",
   "metadata": {},
   "source": [
    "Several feature extractor:\n",
    "1. Face Embedding: Facenet\n",
    "2. Face Embedding: VGG Face\n",
    "3. Face Embedding: VGG Face - VGG16\n",
    "4. Face Embedding: VGG Face - RESNET50\n",
    "5. LBPH (Local Binary Pattern Histogram)"
   ]
  },
  {
   "cell_type": "code",
   "execution_count": 25,
   "metadata": {},
   "outputs": [],
   "source": [
    "from scipy.spatial.distance import euclidean\n",
    "from sklearn.metrics import accuracy_score, f1_score\n",
    "from keras import backend as K\n",
    "from feature_extractor.face_feature_extractor import FaceFeatureExtractor\n",
    "import numpy as np\n",
    "import cv2 as cv\n",
    "from mtcnn.mtcnn import MTCNN\n",
    "import matplotlib.pyplot as plt"
   ]
  },
  {
   "cell_type": "markdown",
   "metadata": {},
   "source": [
    "# Read Dataset"
   ]
  },
  {
   "cell_type": "code",
   "execution_count": 2,
   "metadata": {},
   "outputs": [],
   "source": [
    "import os"
   ]
  },
  {
   "cell_type": "code",
   "execution_count": 3,
   "metadata": {},
   "outputs": [],
   "source": [
    "DIR_PATH = '../lfw/'\n",
    "image_path_list = []\n",
    "labels = []\n",
    "name_dictionary = {}\n",
    "counter = 0\n",
    "for root, dirs, files in os.walk(DIR_PATH):\n",
    "    for filename in files:\n",
    "        person_name = ' '.join(filename.split('.')[0].split('_')[0:-1]) \n",
    "        file_path = os.path.join(root, filename)\n",
    "        if person_name not in name_dictionary:\n",
    "            counter += 1\n",
    "            name_dictionary[person_name] = counter\n",
    "        image_path_list.append(file_path)\n",
    "        labels.append(name_dictionary[person_name])"
   ]
  },
  {
   "cell_type": "code",
   "execution_count": 4,
   "metadata": {
    "scrolled": false
   },
   "outputs": [
    {
     "name": "stdout",
     "output_type": "stream",
     "text": [
      "13233\n",
      "13233\n"
     ]
    }
   ],
   "source": [
    "print(len(labels))\n",
    "print(len(image_path_list))"
   ]
  },
  {
   "cell_type": "code",
   "execution_count": 5,
   "metadata": {},
   "outputs": [
    {
     "data": {
      "text/plain": [
       "['../lfw/Ryan_Newman/Ryan_Newman_0001.jpg',\n",
       " '../lfw/Dimitar_Berbatov/Dimitar_Berbatov_0001.jpg',\n",
       " '../lfw/Ed_Rendell/Ed_Rendell_0001.jpg',\n",
       " '../lfw/Joe_Crede/Joe_Crede_0001.jpg',\n",
       " '../lfw/Norman_Mailer/Norman_Mailer_0001.jpg']"
      ]
     },
     "execution_count": 5,
     "metadata": {},
     "output_type": "execute_result"
    }
   ],
   "source": [
    "image_path_list[0:5]"
   ]
  },
  {
   "cell_type": "markdown",
   "metadata": {},
   "source": [
    "# Experiment"
   ]
  },
  {
   "cell_type": "code",
   "execution_count": 6,
   "metadata": {},
   "outputs": [],
   "source": [
    "FACENET_MODEL_PATH = 'model_data/facenet/20180402-114759'\n",
    "VGGFACE_MODEL_PATH = 'model_data/vgg_face_weights.h5'"
   ]
  },
  {
   "cell_type": "code",
   "execution_count": 7,
   "metadata": {},
   "outputs": [
    {
     "name": "stdout",
     "output_type": "stream",
     "text": [
      "WARNING:tensorflow:From /home/agusgun/anaconda3/envs/conda_ta/lib/python3.6/site-packages/tensorflow/python/framework/op_def_library.py:263: colocate_with (from tensorflow.python.framework.ops) is deprecated and will be removed in a future version.\n",
      "Instructions for updating:\n",
      "Colocations handled automatically by placer.\n",
      "WARNING:tensorflow:From /home/agusgun/anaconda3/envs/conda_ta/lib/python3.6/site-packages/mtcnn/layer_factory.py:211: calling reduce_max_v1 (from tensorflow.python.ops.math_ops) with keep_dims is deprecated and will be removed in a future version.\n",
      "Instructions for updating:\n",
      "keep_dims is deprecated, use keepdims instead\n",
      "WARNING:tensorflow:From /home/agusgun/anaconda3/envs/conda_ta/lib/python3.6/site-packages/mtcnn/layer_factory.py:213: calling reduce_sum_v1 (from tensorflow.python.ops.math_ops) with keep_dims is deprecated and will be removed in a future version.\n",
      "Instructions for updating:\n",
      "keep_dims is deprecated, use keepdims instead\n",
      "WARNING:tensorflow:From /home/agusgun/anaconda3/envs/conda_ta/lib/python3.6/site-packages/mtcnn/layer_factory.py:214: div (from tensorflow.python.ops.math_ops) is deprecated and will be removed in a future version.\n",
      "Instructions for updating:\n",
      "Deprecated in favor of operator or tf.math.divide.\n"
     ]
    }
   ],
   "source": [
    "mtcnn_detector = MTCNN()"
   ]
  },
  {
   "cell_type": "code",
   "execution_count": 8,
   "metadata": {},
   "outputs": [],
   "source": [
    "def predict(image_representation_list, true_label, test_representation, min_distance):\n",
    "    minimum_label = None\n",
    "    minimum_distance = min_distance\n",
    "    \n",
    "    for idx, image_representation in enumerate(image_representation_list):\n",
    "        distance = euclidean(image_representation, test_representation)\n",
    "        if distance < minimum_distance:\n",
    "            minimum_distance = distance\n",
    "            minimum_label = true_label[idx]\n",
    "    \n",
    "    return minimum_label"
   ]
  },
  {
   "cell_type": "code",
   "execution_count": 9,
   "metadata": {},
   "outputs": [],
   "source": [
    "def compute_score(predictions, labels):\n",
    "    count_same = 0\n",
    "    for idx, prediction in enumerate(predictions):\n",
    "        if labels[idx] == prediction:\n",
    "            count_same += 1\n",
    "        elif labels[idx] == -2: # failed to detect face (still measure as valid)\n",
    "            count_same += 1\n",
    "    return count_same / len(predictions)"
   ]
  },
  {
   "cell_type": "code",
   "execution_count": 10,
   "metadata": {},
   "outputs": [],
   "source": [
    "def write_checkpoint(filename, prediction_results):\n",
    "    f = open(filename, 'w')\n",
    "    for prediction in prediction_results:\n",
    "        f.write(str(prediction) + '\\n')\n",
    "    f.close()"
   ]
  },
  {
   "cell_type": "markdown",
   "metadata": {},
   "source": [
    "## Facenet"
   ]
  },
  {
   "cell_type": "markdown",
   "metadata": {},
   "source": [
    "Based on experiment Facenet have distance below 1.0 for euclidean if two image are the same person"
   ]
  },
  {
   "cell_type": "code",
   "execution_count": 11,
   "metadata": {
    "scrolled": true
   },
   "outputs": [
    {
     "name": "stdout",
     "output_type": "stream",
     "text": [
      "Model directory: model_data/facenet/20180402-114759\n",
      "Metagraph file: model-20180402-114759.meta\n",
      "Checkpoint file: model-20180402-114759.ckpt-275\n",
      "WARNING:tensorflow:From /home/agusgun/anaconda3/envs/conda_ta/lib/python3.6/site-packages/tensorflow/python/training/queue_runner_impl.py:391: QueueRunner.__init__ (from tensorflow.python.training.queue_runner_impl) is deprecated and will be removed in a future version.\n",
      "Instructions for updating:\n",
      "To construct input pipelines, use the `tf.data` module.\n",
      "WARNING:tensorflow:From /home/agusgun/anaconda3/envs/conda_ta/lib/python3.6/site-packages/tensorflow/python/training/saver.py:1266: checkpoint_exists (from tensorflow.python.training.checkpoint_management) is deprecated and will be removed in a future version.\n",
      "Instructions for updating:\n",
      "Use standard file APIs to check for files with this prefix.\n",
      "INFO:tensorflow:Restoring parameters from model_data/facenet/20180402-114759/model-20180402-114759.ckpt-275\n"
     ]
    }
   ],
   "source": [
    "feature_extractor = FaceFeatureExtractor(FACENET_MODEL_PATH, extractor_name='facenet')"
   ]
  },
  {
   "cell_type": "code",
   "execution_count": 12,
   "metadata": {},
   "outputs": [],
   "source": [
    "THRESHOLD = 0.75"
   ]
  },
  {
   "cell_type": "markdown",
   "metadata": {},
   "source": [
    "### Experiment 1"
   ]
  },
  {
   "cell_type": "markdown",
   "metadata": {},
   "source": [
    "### Shuffle Dataset Seed=0"
   ]
  },
  {
   "cell_type": "code",
   "execution_count": 13,
   "metadata": {},
   "outputs": [],
   "source": [
    "import random"
   ]
  },
  {
   "cell_type": "code",
   "execution_count": 14,
   "metadata": {},
   "outputs": [],
   "source": [
    "temp = list(zip(image_path_list, labels))\n",
    "random.Random(0).shuffle(temp) # custom seed\n",
    "image_path_list, labels = zip(*temp)"
   ]
  },
  {
   "cell_type": "code",
   "execution_count": 15,
   "metadata": {},
   "outputs": [
    {
     "data": {
      "text/plain": [
       "('../lfw/Tommy_Maddox/Tommy_Maddox_0001.jpg',\n",
       " '../lfw/David_Millar/David_Millar_0001.jpg',\n",
       " '../lfw/Gregg_Popovich/Gregg_Popovich_0004.jpg',\n",
       " '../lfw/Shimon_Peres/Shimon_Peres_0001.jpg',\n",
       " '../lfw/Rudolph_Giuliani/Rudolph_Giuliani_0024.jpg')"
      ]
     },
     "execution_count": 15,
     "metadata": {},
     "output_type": "execute_result"
    }
   ],
   "source": [
    "image_path_list[0:5]"
   ]
  },
  {
   "cell_type": "code",
   "execution_count": 16,
   "metadata": {},
   "outputs": [
    {
     "data": {
      "text/plain": [
       "(3038, 1517, 3115, 834, 1016)"
      ]
     },
     "execution_count": 16,
     "metadata": {},
     "output_type": "execute_result"
    }
   ],
   "source": [
    "labels[0:5]"
   ]
  },
  {
   "cell_type": "code",
   "execution_count": 17,
   "metadata": {},
   "outputs": [
    {
     "data": {
      "text/plain": [
       "3038"
      ]
     },
     "execution_count": 17,
     "metadata": {},
     "output_type": "execute_result"
    }
   ],
   "source": [
    "name_dictionary['Tommy Maddox']"
   ]
  },
  {
   "cell_type": "markdown",
   "metadata": {},
   "source": [
    "### Experiment Starts"
   ]
  },
  {
   "cell_type": "code",
   "execution_count": 18,
   "metadata": {},
   "outputs": [],
   "source": [
    "image_representation_database = []\n",
    "image_representation_labels = []\n",
    "prediction_result = []"
   ]
  },
  {
   "cell_type": "code",
   "execution_count": 19,
   "metadata": {},
   "outputs": [
    {
     "name": "stdout",
     "output_type": "stream",
     "text": [
      "Checkpoint 0\n",
      "Checkpoint 1000\n",
      "Checkpoint 2000\n",
      "Checkpoint 3000\n",
      "Checkpoint 4000\n",
      "Checkpoint 5000\n",
      "Checkpoint 6000\n",
      "Checkpoint 7000\n",
      "Checkpoint 8000\n",
      "Checkpoint 9000\n",
      "Checkpoint 10000\n",
      "Checkpoint 11000\n",
      "Checkpoint 12000\n",
      "Checkpoint 13000\n",
      "CPU times: user 28min 46s, sys: 58.3 s, total: 29min 44s\n",
      "Wall time: 31min 9s\n"
     ]
    }
   ],
   "source": [
    "%%time\n",
    "for idx, image_path in enumerate(image_path_list):\n",
    "    if idx % 1000 == 0:\n",
    "        print(\"Checkpoint\", idx)\n",
    "    img = cv.cvtColor(cv.imread(image_path), cv.COLOR_BGR2RGB)\n",
    "    detection_result = mtcnn_detector.detect_faces(img)\n",
    "    cropped_image = None\n",
    "    for face in detection_result:\n",
    "        face_bbox = face['box']\n",
    "        x, y, w, h = face_bbox\n",
    "        if x < 0:\n",
    "            x = 0\n",
    "        if y < 0:\n",
    "            y = 0\n",
    "        cropped_image = img[y:y+h, x:x+w]\n",
    "        break\n",
    "    \n",
    "    if not cropped_image is None:\n",
    "        feature_test = feature_extractor.extract_image(cropped_image)\n",
    "        prediction = predict(image_representation_database, image_representation_labels, feature_test, THRESHOLD)\n",
    "        label = labels[idx]\n",
    "        if prediction == None: # predict as new person\n",
    "            if label not in image_representation_labels: # is new person\n",
    "                image_representation_labels.append(label)\n",
    "                image_representation_database.append(feature_test)\n",
    "                prediction_result.append(label)\n",
    "            else: # failed to predict (should be old person)\n",
    "                image_representation_labels.append(label)\n",
    "                image_representation_database.append(feature_test)\n",
    "                prediction_result.append(-1) \n",
    "        else: # predict as old person (always add true label to galery)\n",
    "            image_representation_labels.append(label)\n",
    "            image_representation_database.append(feature_test)\n",
    "            prediction_result.append(prediction)\n",
    "    else: # failed to detect faces\n",
    "        prediction_result.append(-2)"
   ]
  },
  {
   "cell_type": "code",
   "execution_count": 20,
   "metadata": {},
   "outputs": [
    {
     "data": {
      "text/plain": [
       "'../lfw/George_W_Bush/George_W_Bush_0233.jpg'"
      ]
     },
     "execution_count": 20,
     "metadata": {},
     "output_type": "execute_result"
    }
   ],
   "source": [
    "image_path_list[37]"
   ]
  },
  {
   "cell_type": "code",
   "execution_count": 21,
   "metadata": {},
   "outputs": [
    {
     "data": {
      "text/plain": [
       "0.7887100430741328"
      ]
     },
     "execution_count": 21,
     "metadata": {},
     "output_type": "execute_result"
    }
   ],
   "source": [
    "compute_score(prediction_result, labels)"
   ]
  },
  {
   "cell_type": "code",
   "execution_count": 22,
   "metadata": {},
   "outputs": [
    {
     "data": {
      "text/plain": [
       "13233"
      ]
     },
     "execution_count": 22,
     "metadata": {},
     "output_type": "execute_result"
    }
   ],
   "source": [
    "len(prediction_result)"
   ]
  },
  {
   "cell_type": "code",
   "execution_count": 23,
   "metadata": {},
   "outputs": [
    {
     "data": {
      "text/plain": [
       "13233"
      ]
     },
     "execution_count": 23,
     "metadata": {},
     "output_type": "execute_result"
    }
   ],
   "source": [
    "len(labels)"
   ]
  },
  {
   "cell_type": "code",
   "execution_count": 24,
   "metadata": {},
   "outputs": [],
   "source": [
    "write_checkpoint('Facenet LFW Dataset v3 - 1.txt', prediction_result)"
   ]
  },
  {
   "cell_type": "markdown",
   "metadata": {},
   "source": [
    "### Experiment 2"
   ]
  },
  {
   "cell_type": "markdown",
   "metadata": {},
   "source": [
    "### Shuffle Dataset Seed=1"
   ]
  },
  {
   "cell_type": "code",
   "execution_count": 26,
   "metadata": {},
   "outputs": [],
   "source": [
    "import random"
   ]
  },
  {
   "cell_type": "code",
   "execution_count": 27,
   "metadata": {},
   "outputs": [],
   "source": [
    "temp = list(zip(image_path_list, labels))\n",
    "random.Random(1).shuffle(temp) # custom seed\n",
    "image_path_list, labels = zip(*temp)"
   ]
  },
  {
   "cell_type": "code",
   "execution_count": 28,
   "metadata": {},
   "outputs": [
    {
     "data": {
      "text/plain": [
       "('../lfw/Eddy_Merckx/Eddy_Merckx_0002.jpg',\n",
       " '../lfw/Rocco_Buttiglione/Rocco_Buttiglione_0001.jpg',\n",
       " '../lfw/Gerhard_Schroeder/Gerhard_Schroeder_0076.jpg',\n",
       " '../lfw/Mark_Hogan/Mark_Hogan_0001.jpg',\n",
       " '../lfw/Cameron_Diaz/Cameron_Diaz_0003.jpg')"
      ]
     },
     "execution_count": 28,
     "metadata": {},
     "output_type": "execute_result"
    }
   ],
   "source": [
    "image_path_list[0:5]"
   ]
  },
  {
   "cell_type": "code",
   "execution_count": 29,
   "metadata": {},
   "outputs": [
    {
     "data": {
      "text/plain": [
       "(4804, 334, 25, 5684, 4615)"
      ]
     },
     "execution_count": 29,
     "metadata": {},
     "output_type": "execute_result"
    }
   ],
   "source": [
    "labels[0:5]"
   ]
  },
  {
   "cell_type": "code",
   "execution_count": 30,
   "metadata": {},
   "outputs": [
    {
     "data": {
      "text/plain": [
       "4804"
      ]
     },
     "execution_count": 30,
     "metadata": {},
     "output_type": "execute_result"
    }
   ],
   "source": [
    "name_dictionary['Eddy Merckx']"
   ]
  },
  {
   "cell_type": "markdown",
   "metadata": {},
   "source": [
    "### Experiment Starts"
   ]
  },
  {
   "cell_type": "code",
   "execution_count": 31,
   "metadata": {},
   "outputs": [],
   "source": [
    "THRESHOLD = 0.75"
   ]
  },
  {
   "cell_type": "code",
   "execution_count": 32,
   "metadata": {},
   "outputs": [],
   "source": [
    "image_representation_database = []\n",
    "image_representation_labels = []\n",
    "prediction_result = []"
   ]
  },
  {
   "cell_type": "code",
   "execution_count": 33,
   "metadata": {},
   "outputs": [
    {
     "name": "stdout",
     "output_type": "stream",
     "text": [
      "Checkpoint 0\n",
      "Checkpoint 1000\n",
      "Checkpoint 2000\n",
      "Checkpoint 3000\n",
      "Checkpoint 4000\n",
      "Checkpoint 5000\n",
      "Checkpoint 6000\n",
      "Checkpoint 7000\n",
      "Checkpoint 8000\n",
      "Checkpoint 9000\n",
      "Checkpoint 10000\n",
      "Checkpoint 11000\n",
      "Checkpoint 12000\n",
      "Checkpoint 13000\n",
      "CPU times: user 28min 48s, sys: 55.7 s, total: 29min 44s\n",
      "Wall time: 29min 30s\n"
     ]
    }
   ],
   "source": [
    "%%time\n",
    "for idx, image_path in enumerate(image_path_list):\n",
    "    if idx % 1000 == 0:\n",
    "        print(\"Checkpoint\", idx)\n",
    "    img = cv.cvtColor(cv.imread(image_path), cv.COLOR_BGR2RGB)\n",
    "    detection_result = mtcnn_detector.detect_faces(img)\n",
    "    cropped_image = None\n",
    "    for face in detection_result:\n",
    "        face_bbox = face['box']\n",
    "        x, y, w, h = face_bbox\n",
    "        if x < 0:\n",
    "            x = 0\n",
    "        if y < 0:\n",
    "            y = 0\n",
    "        cropped_image = img[y:y+h, x:x+w]\n",
    "        break\n",
    "    \n",
    "    if not cropped_image is None:\n",
    "        feature_test = feature_extractor.extract_image(cropped_image)\n",
    "        prediction = predict(image_representation_database, image_representation_labels, feature_test, THRESHOLD)\n",
    "        label = labels[idx]\n",
    "        if prediction == None: # predict as new person\n",
    "            if label not in image_representation_labels: # is new person\n",
    "                image_representation_labels.append(label)\n",
    "                image_representation_database.append(feature_test)\n",
    "                prediction_result.append(label)\n",
    "            else: # failed to predict (should be old person)\n",
    "                image_representation_labels.append(label)\n",
    "                image_representation_database.append(feature_test)\n",
    "                prediction_result.append(-1) \n",
    "        else: # predict as old person (always add true label to galery)\n",
    "            image_representation_labels.append(label)\n",
    "            image_representation_database.append(feature_test)\n",
    "            prediction_result.append(prediction)\n",
    "    else: # failed to detect faces\n",
    "        prediction_result.append(-2)"
   ]
  },
  {
   "cell_type": "code",
   "execution_count": 34,
   "metadata": {},
   "outputs": [
    {
     "data": {
      "text/plain": [
       "'../lfw/Tom_Cruise/Tom_Cruise_0007.jpg'"
      ]
     },
     "execution_count": 34,
     "metadata": {},
     "output_type": "execute_result"
    }
   ],
   "source": [
    "image_path_list[37]"
   ]
  },
  {
   "cell_type": "code",
   "execution_count": 35,
   "metadata": {},
   "outputs": [
    {
     "data": {
      "text/plain": [
       "0.8039749112068314"
      ]
     },
     "execution_count": 35,
     "metadata": {},
     "output_type": "execute_result"
    }
   ],
   "source": [
    "compute_score(prediction_result, labels)"
   ]
  },
  {
   "cell_type": "code",
   "execution_count": 36,
   "metadata": {},
   "outputs": [
    {
     "data": {
      "text/plain": [
       "13233"
      ]
     },
     "execution_count": 36,
     "metadata": {},
     "output_type": "execute_result"
    }
   ],
   "source": [
    "len(prediction_result)"
   ]
  },
  {
   "cell_type": "code",
   "execution_count": 37,
   "metadata": {},
   "outputs": [
    {
     "data": {
      "text/plain": [
       "13233"
      ]
     },
     "execution_count": 37,
     "metadata": {},
     "output_type": "execute_result"
    }
   ],
   "source": [
    "len(labels)"
   ]
  },
  {
   "cell_type": "code",
   "execution_count": 38,
   "metadata": {},
   "outputs": [],
   "source": [
    "write_checkpoint('Facenet LFW Dataset v3 - 2.txt', prediction_result)"
   ]
  },
  {
   "cell_type": "markdown",
   "metadata": {},
   "source": [
    "### Experiment 3"
   ]
  },
  {
   "cell_type": "markdown",
   "metadata": {},
   "source": [
    "### Shuffle Dataset Seed=2"
   ]
  },
  {
   "cell_type": "code",
   "execution_count": 37,
   "metadata": {},
   "outputs": [],
   "source": [
    "import random"
   ]
  },
  {
   "cell_type": "code",
   "execution_count": 38,
   "metadata": {},
   "outputs": [],
   "source": [
    "temp = list(zip(image_path_list, labels))\n",
    "random.Random(2).shuffle(temp) # custom seed\n",
    "image_path_list, labels = zip(*temp)"
   ]
  },
  {
   "cell_type": "code",
   "execution_count": 39,
   "metadata": {},
   "outputs": [
    {
     "data": {
      "text/plain": [
       "('../lfw/Colin_Powell/Colin_Powell_0014.jpg',\n",
       " '../lfw/Sean_OKeefe/Sean_OKeefe_0001.jpg',\n",
       " '../lfw/David_Wells/David_Wells_0001.jpg',\n",
       " '../lfw/Donald_Rumsfeld/Donald_Rumsfeld_0118.jpg',\n",
       " '../lfw/Rainer_Schuettler/Rainer_Schuettler_0003.jpg')"
      ]
     },
     "execution_count": 39,
     "metadata": {},
     "output_type": "execute_result"
    }
   ],
   "source": [
    "image_path_list[0:5]"
   ]
  },
  {
   "cell_type": "code",
   "execution_count": 40,
   "metadata": {},
   "outputs": [
    {
     "data": {
      "text/plain": [
       "(2196, 4787, 5518, 5402, 5235)"
      ]
     },
     "execution_count": 40,
     "metadata": {},
     "output_type": "execute_result"
    }
   ],
   "source": [
    "labels[0:5]"
   ]
  },
  {
   "cell_type": "code",
   "execution_count": 41,
   "metadata": {},
   "outputs": [
    {
     "data": {
      "text/plain": [
       "2196"
      ]
     },
     "execution_count": 41,
     "metadata": {},
     "output_type": "execute_result"
    }
   ],
   "source": [
    "name_dictionary['Colin Powell']"
   ]
  },
  {
   "cell_type": "markdown",
   "metadata": {},
   "source": [
    "### Experiment Starts"
   ]
  },
  {
   "cell_type": "code",
   "execution_count": 42,
   "metadata": {},
   "outputs": [],
   "source": [
    "image_representation_database = []\n",
    "image_representation_labels = []\n",
    "prediction_result = []"
   ]
  },
  {
   "cell_type": "code",
   "execution_count": 43,
   "metadata": {},
   "outputs": [
    {
     "name": "stdout",
     "output_type": "stream",
     "text": [
      "Checkpoint 0\n",
      "Checkpoint 1000\n",
      "Checkpoint 2000\n",
      "Checkpoint 3000\n",
      "Checkpoint 4000\n",
      "Checkpoint 5000\n",
      "Checkpoint 6000\n",
      "Checkpoint 7000\n",
      "Checkpoint 8000\n",
      "Checkpoint 9000\n",
      "Checkpoint 10000\n",
      "Checkpoint 11000\n",
      "Checkpoint 12000\n",
      "Checkpoint 13000\n",
      "CPU times: user 1h 15min 37s, sys: 1min 46s, total: 1h 17min 23s\n",
      "Wall time: 30min 56s\n"
     ]
    }
   ],
   "source": [
    "%%time\n",
    "for idx, image_path in enumerate(image_path_list):\n",
    "    if idx % 1000 == 0:\n",
    "        print(\"Checkpoint\", idx)\n",
    "    img = cv.cvtColor(cv.imread(image_path), cv.COLOR_BGR2RGB)\n",
    "    detection_result = mtcnn_detector.detect_faces(img)\n",
    "    cropped_image = None\n",
    "    for face in detection_result:\n",
    "        face_bbox = face['box']\n",
    "        x, y, w, h = face_bbox\n",
    "        if x < 0:\n",
    "            x = 0\n",
    "        if y < 0:\n",
    "            y = 0\n",
    "        cropped_image = img[y:y+h, x:x+w]\n",
    "        break\n",
    "    \n",
    "    if not cropped_image is None:\n",
    "        feature_test = feature_extractor.extract_image(cropped_image)\n",
    "        prediction = predict(image_representation_database, image_representation_labels, feature_test, THRESHOLD)\n",
    "        label = labels[idx]\n",
    "        if prediction == None: # predict as new person\n",
    "            if label not in image_representation_labels: # is new person\n",
    "                image_representation_labels.append(label)\n",
    "                image_representation_database.append(feature_test)\n",
    "                prediction_result.append(label)\n",
    "            else: # failed to predict (should be old person)\n",
    "                image_representation_labels.append(label)\n",
    "                image_representation_database.append(feature_test)\n",
    "                prediction_result.append(-1) \n",
    "        else: # predict as old person (always add true label to galery)\n",
    "            image_representation_labels.append(label)\n",
    "            image_representation_database.append(feature_test)\n",
    "            prediction_result.append(prediction)\n",
    "    else: # failed to detect faces\n",
    "        prediction_result.append(-2)"
   ]
  },
  {
   "cell_type": "code",
   "execution_count": 44,
   "metadata": {},
   "outputs": [
    {
     "data": {
      "text/plain": [
       "'../lfw/Junichiro_Koizumi/Junichiro_Koizumi_0025.jpg'"
      ]
     },
     "execution_count": 44,
     "metadata": {},
     "output_type": "execute_result"
    }
   ],
   "source": [
    "image_path_list[37]"
   ]
  },
  {
   "cell_type": "code",
   "execution_count": 45,
   "metadata": {},
   "outputs": [
    {
     "data": {
      "text/plain": [
       "0.6305448499962215"
      ]
     },
     "execution_count": 45,
     "metadata": {},
     "output_type": "execute_result"
    }
   ],
   "source": [
    "compute_score(prediction_result, labels)"
   ]
  },
  {
   "cell_type": "code",
   "execution_count": 46,
   "metadata": {},
   "outputs": [
    {
     "data": {
      "text/plain": [
       "13233"
      ]
     },
     "execution_count": 46,
     "metadata": {},
     "output_type": "execute_result"
    }
   ],
   "source": [
    "len(prediction_result)"
   ]
  },
  {
   "cell_type": "code",
   "execution_count": 47,
   "metadata": {},
   "outputs": [
    {
     "data": {
      "text/plain": [
       "13233"
      ]
     },
     "execution_count": 47,
     "metadata": {},
     "output_type": "execute_result"
    }
   ],
   "source": [
    "len(labels)"
   ]
  },
  {
   "cell_type": "code",
   "execution_count": 48,
   "metadata": {},
   "outputs": [],
   "source": [
    "write_checkpoint('Facenet LFW Dataset - 3.txt', prediction_result)"
   ]
  },
  {
   "cell_type": "markdown",
   "metadata": {},
   "source": [
    "### Experiment 4"
   ]
  },
  {
   "cell_type": "markdown",
   "metadata": {},
   "source": [
    "### Shuffle Dataset Seed=3"
   ]
  },
  {
   "cell_type": "code",
   "execution_count": 49,
   "metadata": {},
   "outputs": [],
   "source": [
    "import random"
   ]
  },
  {
   "cell_type": "code",
   "execution_count": 50,
   "metadata": {},
   "outputs": [],
   "source": [
    "temp = list(zip(image_path_list, labels))\n",
    "random.Random(3).shuffle(temp) # custom seed\n",
    "image_path_list, labels = zip(*temp)"
   ]
  },
  {
   "cell_type": "code",
   "execution_count": 51,
   "metadata": {},
   "outputs": [
    {
     "data": {
      "text/plain": [
       "('../lfw/Lance_Armstrong/Lance_Armstrong_0011.jpg',\n",
       " '../lfw/Lleyton_Hewitt/Lleyton_Hewitt_0009.jpg',\n",
       " '../lfw/Paul_McCartney/Paul_McCartney_0005.jpg',\n",
       " '../lfw/Eva_Dimas/Eva_Dimas_0002.jpg',\n",
       " '../lfw/Paul_Murphy/Paul_Murphy_0001.jpg')"
      ]
     },
     "execution_count": 51,
     "metadata": {},
     "output_type": "execute_result"
    }
   ],
   "source": [
    "image_path_list[0:5]"
   ]
  },
  {
   "cell_type": "code",
   "execution_count": 52,
   "metadata": {},
   "outputs": [
    {
     "data": {
      "text/plain": [
       "(4771, 3676, 427, 1004, 5498)"
      ]
     },
     "execution_count": 52,
     "metadata": {},
     "output_type": "execute_result"
    }
   ],
   "source": [
    "labels[0:5]"
   ]
  },
  {
   "cell_type": "code",
   "execution_count": 53,
   "metadata": {},
   "outputs": [
    {
     "data": {
      "text/plain": [
       "4771"
      ]
     },
     "execution_count": 53,
     "metadata": {},
     "output_type": "execute_result"
    }
   ],
   "source": [
    "name_dictionary['Lance Armstrong']"
   ]
  },
  {
   "cell_type": "markdown",
   "metadata": {},
   "source": [
    "### Experiment Starts"
   ]
  },
  {
   "cell_type": "code",
   "execution_count": 54,
   "metadata": {},
   "outputs": [],
   "source": [
    "image_representation_database = []\n",
    "image_representation_labels = []\n",
    "prediction_result = []"
   ]
  },
  {
   "cell_type": "code",
   "execution_count": 55,
   "metadata": {},
   "outputs": [
    {
     "name": "stdout",
     "output_type": "stream",
     "text": [
      "Checkpoint 0\n",
      "Checkpoint 1000\n",
      "Checkpoint 2000\n",
      "Checkpoint 3000\n",
      "Checkpoint 4000\n",
      "Checkpoint 5000\n",
      "Checkpoint 6000\n",
      "Checkpoint 7000\n",
      "Checkpoint 8000\n",
      "Checkpoint 9000\n",
      "Checkpoint 10000\n",
      "Checkpoint 11000\n",
      "Checkpoint 12000\n",
      "Checkpoint 13000\n",
      "CPU times: user 1h 15min 26s, sys: 1min 42s, total: 1h 17min 9s\n",
      "Wall time: 30min 51s\n"
     ]
    }
   ],
   "source": [
    "%%time\n",
    "for idx, image_path in enumerate(image_path_list):\n",
    "    if idx % 1000 == 0:\n",
    "        print(\"Checkpoint\", idx)\n",
    "    img = cv.cvtColor(cv.imread(image_path), cv.COLOR_BGR2RGB)\n",
    "    detection_result = mtcnn_detector.detect_faces(img)\n",
    "    cropped_image = None\n",
    "    for face in detection_result:\n",
    "        face_bbox = face['box']\n",
    "        x, y, w, h = face_bbox\n",
    "        if x < 0:\n",
    "            x = 0\n",
    "        if y < 0:\n",
    "            y = 0\n",
    "        cropped_image = img[y:y+h, x:x+w]\n",
    "        break\n",
    "    \n",
    "    if not cropped_image is None:\n",
    "        feature_test = feature_extractor.extract_image(cropped_image)\n",
    "        prediction = predict(image_representation_database, image_representation_labels, feature_test, THRESHOLD)\n",
    "        label = labels[idx]\n",
    "        if prediction == None: # predict as new person\n",
    "            if label not in image_representation_labels: # is new person\n",
    "                image_representation_labels.append(label)\n",
    "                image_representation_database.append(feature_test)\n",
    "                prediction_result.append(label)\n",
    "            else: # failed to predict (should be old person)\n",
    "                image_representation_labels.append(label)\n",
    "                image_representation_database.append(feature_test)\n",
    "                prediction_result.append(-1) \n",
    "        else: # predict as old person (always add true label to galery)\n",
    "            image_representation_labels.append(label)\n",
    "            image_representation_database.append(feature_test)\n",
    "            prediction_result.append(prediction)\n",
    "    else: # failed to detect faces\n",
    "        prediction_result.append(-2)"
   ]
  },
  {
   "cell_type": "code",
   "execution_count": 56,
   "metadata": {},
   "outputs": [
    {
     "data": {
      "text/plain": [
       "'../lfw/Adrian_McPherson/Adrian_McPherson_0002.jpg'"
      ]
     },
     "execution_count": 56,
     "metadata": {},
     "output_type": "execute_result"
    }
   ],
   "source": [
    "image_path_list[37]"
   ]
  },
  {
   "cell_type": "code",
   "execution_count": 57,
   "metadata": {},
   "outputs": [
    {
     "data": {
      "text/plain": [
       "0.6299403007632434"
      ]
     },
     "execution_count": 57,
     "metadata": {},
     "output_type": "execute_result"
    }
   ],
   "source": [
    "compute_score(prediction_result, labels)"
   ]
  },
  {
   "cell_type": "code",
   "execution_count": 58,
   "metadata": {},
   "outputs": [
    {
     "data": {
      "text/plain": [
       "13233"
      ]
     },
     "execution_count": 58,
     "metadata": {},
     "output_type": "execute_result"
    }
   ],
   "source": [
    "len(prediction_result)"
   ]
  },
  {
   "cell_type": "code",
   "execution_count": 59,
   "metadata": {},
   "outputs": [
    {
     "data": {
      "text/plain": [
       "13233"
      ]
     },
     "execution_count": 59,
     "metadata": {},
     "output_type": "execute_result"
    }
   ],
   "source": [
    "len(labels)"
   ]
  },
  {
   "cell_type": "code",
   "execution_count": 60,
   "metadata": {},
   "outputs": [],
   "source": [
    "write_checkpoint('Facenet LFW Dataset - 4.txt', prediction_result)"
   ]
  },
  {
   "cell_type": "markdown",
   "metadata": {},
   "source": [
    "### Experiment 5"
   ]
  },
  {
   "cell_type": "markdown",
   "metadata": {},
   "source": [
    "### Shuffle Dataset Seed=4"
   ]
  },
  {
   "cell_type": "code",
   "execution_count": 61,
   "metadata": {},
   "outputs": [],
   "source": [
    "import random"
   ]
  },
  {
   "cell_type": "code",
   "execution_count": 62,
   "metadata": {},
   "outputs": [],
   "source": [
    "temp = list(zip(image_path_list, labels))\n",
    "random.Random(4).shuffle(temp) # custom seed\n",
    "image_path_list, labels = zip(*temp)"
   ]
  },
  {
   "cell_type": "code",
   "execution_count": 63,
   "metadata": {},
   "outputs": [
    {
     "data": {
      "text/plain": [
       "('../lfw/Takashi_Yamamoto/Takashi_Yamamoto_0001.jpg',\n",
       " '../lfw/Jacques_Rogge/Jacques_Rogge_0009.jpg',\n",
       " '../lfw/Gerhard_Schroeder/Gerhard_Schroeder_0005.jpg',\n",
       " '../lfw/Marcus_Garrettson/Marcus_Garrettson_0001.jpg',\n",
       " '../lfw/Job_Cohen/Job_Cohen_0001.jpg')"
      ]
     },
     "execution_count": 63,
     "metadata": {},
     "output_type": "execute_result"
    }
   ],
   "source": [
    "image_path_list[0:5]"
   ]
  },
  {
   "cell_type": "code",
   "execution_count": 64,
   "metadata": {},
   "outputs": [
    {
     "data": {
      "text/plain": [
       "(2730, 4713, 25, 598, 1122)"
      ]
     },
     "execution_count": 64,
     "metadata": {},
     "output_type": "execute_result"
    }
   ],
   "source": [
    "labels[0:5]"
   ]
  },
  {
   "cell_type": "code",
   "execution_count": 65,
   "metadata": {},
   "outputs": [
    {
     "data": {
      "text/plain": [
       "2730"
      ]
     },
     "execution_count": 65,
     "metadata": {},
     "output_type": "execute_result"
    }
   ],
   "source": [
    "name_dictionary['Takashi Yamamoto']"
   ]
  },
  {
   "cell_type": "markdown",
   "metadata": {},
   "source": [
    "### Experiment Starts"
   ]
  },
  {
   "cell_type": "code",
   "execution_count": 66,
   "metadata": {},
   "outputs": [],
   "source": [
    "image_representation_database = []\n",
    "image_representation_labels = []\n",
    "prediction_result = []"
   ]
  },
  {
   "cell_type": "code",
   "execution_count": 67,
   "metadata": {},
   "outputs": [
    {
     "name": "stdout",
     "output_type": "stream",
     "text": [
      "Checkpoint 0\n",
      "Checkpoint 1000\n",
      "Checkpoint 2000\n",
      "Checkpoint 3000\n",
      "Checkpoint 4000\n",
      "Checkpoint 5000\n",
      "Checkpoint 6000\n",
      "Checkpoint 7000\n",
      "Checkpoint 8000\n",
      "Checkpoint 9000\n",
      "Checkpoint 10000\n",
      "Checkpoint 11000\n",
      "Checkpoint 12000\n",
      "Checkpoint 13000\n",
      "CPU times: user 1h 15min 6s, sys: 1min 42s, total: 1h 16min 48s\n",
      "Wall time: 30min 38s\n"
     ]
    }
   ],
   "source": [
    "%%time\n",
    "for idx, image_path in enumerate(image_path_list):\n",
    "    if idx % 1000 == 0:\n",
    "        print(\"Checkpoint\", idx)\n",
    "    img = cv.cvtColor(cv.imread(image_path), cv.COLOR_BGR2RGB)\n",
    "    detection_result = mtcnn_detector.detect_faces(img)\n",
    "    cropped_image = None\n",
    "    for face in detection_result:\n",
    "        face_bbox = face['box']\n",
    "        x, y, w, h = face_bbox\n",
    "        if x < 0:\n",
    "            x = 0\n",
    "        if y < 0:\n",
    "            y = 0\n",
    "        cropped_image = img[y:y+h, x:x+w]\n",
    "        break\n",
    "    \n",
    "    if not cropped_image is None:\n",
    "        feature_test = feature_extractor.extract_image(cropped_image)\n",
    "        prediction = predict(image_representation_database, image_representation_labels, feature_test, THRESHOLD)\n",
    "        label = labels[idx]\n",
    "        if prediction == None: # predict as new person\n",
    "            if label not in image_representation_labels: # is new person\n",
    "                image_representation_labels.append(label)\n",
    "                image_representation_database.append(feature_test)\n",
    "                prediction_result.append(label)\n",
    "            else: # failed to predict (should be old person)\n",
    "                image_representation_labels.append(label)\n",
    "                image_representation_database.append(feature_test)\n",
    "                prediction_result.append(-1) \n",
    "        else: # predict as old person (always add true label to galery)\n",
    "            image_representation_labels.append(label)\n",
    "            image_representation_database.append(feature_test)\n",
    "            prediction_result.append(prediction)\n",
    "    else: # failed to detect faces\n",
    "        prediction_result.append(-2)"
   ]
  },
  {
   "cell_type": "code",
   "execution_count": 68,
   "metadata": {},
   "outputs": [
    {
     "data": {
      "text/plain": [
       "'../lfw/Paul_Gascoigne/Paul_Gascoigne_0001.jpg'"
      ]
     },
     "execution_count": 68,
     "metadata": {},
     "output_type": "execute_result"
    }
   ],
   "source": [
    "image_path_list[37]"
   ]
  },
  {
   "cell_type": "code",
   "execution_count": 69,
   "metadata": {},
   "outputs": [
    {
     "data": {
      "text/plain": [
       "0.6295624574926321"
      ]
     },
     "execution_count": 69,
     "metadata": {},
     "output_type": "execute_result"
    }
   ],
   "source": [
    "compute_score(prediction_result, labels)"
   ]
  },
  {
   "cell_type": "code",
   "execution_count": 70,
   "metadata": {},
   "outputs": [
    {
     "data": {
      "text/plain": [
       "13233"
      ]
     },
     "execution_count": 70,
     "metadata": {},
     "output_type": "execute_result"
    }
   ],
   "source": [
    "len(prediction_result)"
   ]
  },
  {
   "cell_type": "code",
   "execution_count": 71,
   "metadata": {},
   "outputs": [
    {
     "data": {
      "text/plain": [
       "13233"
      ]
     },
     "execution_count": 71,
     "metadata": {},
     "output_type": "execute_result"
    }
   ],
   "source": [
    "len(labels)"
   ]
  },
  {
   "cell_type": "code",
   "execution_count": 72,
   "metadata": {},
   "outputs": [],
   "source": [
    "write_checkpoint('Facenet LFW Dataset - 5.txt', prediction_result)"
   ]
  }
 ],
 "metadata": {
  "kernelspec": {
   "display_name": "Python 3",
   "language": "python",
   "name": "python3"
  },
  "language_info": {
   "codemirror_mode": {
    "name": "ipython",
    "version": 3
   },
   "file_extension": ".py",
   "mimetype": "text/x-python",
   "name": "python",
   "nbconvert_exporter": "python",
   "pygments_lexer": "ipython3",
   "version": "3.6.8"
  }
 },
 "nbformat": 4,
 "nbformat_minor": 2
}
