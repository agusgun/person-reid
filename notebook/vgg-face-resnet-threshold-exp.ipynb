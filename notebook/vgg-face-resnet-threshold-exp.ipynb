{
 "cells": [
  {
   "cell_type": "code",
   "execution_count": 1,
   "metadata": {},
   "outputs": [
    {
     "name": "stderr",
     "output_type": "stream",
     "text": [
      "Using TensorFlow backend.\n"
     ]
    }
   ],
   "source": [
    "from scipy.spatial.distance import euclidean\n",
    "from sklearn.metrics import accuracy_score, f1_score\n",
    "from keras import backend as K\n",
    "from feature_extractor.face_feature_extractor import FaceFeatureExtractor\n",
    "import numpy as np\n",
    "import cv2 as cv\n",
    "from mtcnn.mtcnn import MTCNN\n",
    "import matplotlib.pyplot as plt\n",
    "import os\n",
    "import time"
   ]
  },
  {
   "cell_type": "code",
   "execution_count": 2,
   "metadata": {},
   "outputs": [],
   "source": [
    "DATA_DIR_PATH = '../exp_data/'\n",
    "root_paths = []\n",
    "file_paths = []\n",
    "for root, dirs, files in os.walk(DATA_DIR_PATH):\n",
    "     for file in files:\n",
    "        root_paths.append(root)\n",
    "        file_paths.append(os.path.join(root, file))"
   ]
  },
  {
   "cell_type": "code",
   "execution_count": 3,
   "metadata": {},
   "outputs": [
    {
     "data": {
      "text/plain": [
       "90"
      ]
     },
     "execution_count": 3,
     "metadata": {},
     "output_type": "execute_result"
    }
   ],
   "source": [
    "len(root_paths)"
   ]
  },
  {
   "cell_type": "markdown",
   "metadata": {},
   "source": [
    "# Experiment"
   ]
  },
  {
   "cell_type": "code",
   "execution_count": 4,
   "metadata": {},
   "outputs": [
    {
     "name": "stdout",
     "output_type": "stream",
     "text": [
      "WARNING:tensorflow:From /home/agusgun/anaconda3/envs/conda_ta/lib/python3.6/site-packages/tensorflow/python/framework/op_def_library.py:263: colocate_with (from tensorflow.python.framework.ops) is deprecated and will be removed in a future version.\n",
      "Instructions for updating:\n",
      "Colocations handled automatically by placer.\n",
      "WARNING:tensorflow:From /home/agusgun/anaconda3/envs/conda_ta/lib/python3.6/site-packages/mtcnn/layer_factory.py:211: calling reduce_max_v1 (from tensorflow.python.ops.math_ops) with keep_dims is deprecated and will be removed in a future version.\n",
      "Instructions for updating:\n",
      "keep_dims is deprecated, use keepdims instead\n",
      "WARNING:tensorflow:From /home/agusgun/anaconda3/envs/conda_ta/lib/python3.6/site-packages/mtcnn/layer_factory.py:213: calling reduce_sum_v1 (from tensorflow.python.ops.math_ops) with keep_dims is deprecated and will be removed in a future version.\n",
      "Instructions for updating:\n",
      "keep_dims is deprecated, use keepdims instead\n",
      "WARNING:tensorflow:From /home/agusgun/anaconda3/envs/conda_ta/lib/python3.6/site-packages/mtcnn/layer_factory.py:214: div (from tensorflow.python.ops.math_ops) is deprecated and will be removed in a future version.\n",
      "Instructions for updating:\n",
      "Deprecated in favor of operator or tf.math.divide.\n"
     ]
    }
   ],
   "source": [
    "mtcnn_detector = MTCNN()"
   ]
  },
  {
   "cell_type": "code",
   "execution_count": 5,
   "metadata": {},
   "outputs": [],
   "source": [
    "feature_extractor = FaceFeatureExtractor(None, extractor_name='vgg_face_resnet50')"
   ]
  },
  {
   "cell_type": "code",
   "execution_count": 6,
   "metadata": {},
   "outputs": [],
   "source": [
    "def extract_image_feature(face_detector, feature_extractor, file_path):\n",
    "    img = cv.cvtColor(cv.imread(file_path), cv.COLOR_BGR2RGB)\n",
    "    detection_result = face_detector.detect_faces(img)\n",
    "    cropped_image = None\n",
    "    feature = None\n",
    "    for face in detection_result:\n",
    "        face_bbox = face['box']\n",
    "        x, y, w, h = face_bbox\n",
    "        if x < 0:\n",
    "            x = 0\n",
    "        if y < 0:\n",
    "            y = 0\n",
    "        cropped_image = img[y:y+h, x:x+w]\n",
    "        break\n",
    "    if cropped_image is not None:\n",
    "        feature = feature_extractor.extract_image(cropped_image)\n",
    "    return feature"
   ]
  },
  {
   "cell_type": "code",
   "execution_count": 7,
   "metadata": {},
   "outputs": [
    {
     "name": "stdout",
     "output_type": "stream",
     "text": [
      "None\n"
     ]
    }
   ],
   "source": [
    "feature = extract_image_feature(mtcnn_detector, feature_extractor, file_paths[2])\n",
    "print(feature)"
   ]
  },
  {
   "cell_type": "code",
   "execution_count": 8,
   "metadata": {},
   "outputs": [
    {
     "name": "stdout",
     "output_type": "stream",
     "text": [
      "Checkpoint 0\n",
      "Checkpoint 1\n",
      "Checkpoint 2\n",
      "Checkpoint 3\n",
      "Checkpoint 4\n",
      "Checkpoint 5\n",
      "Checkpoint 6\n",
      "Checkpoint 7\n",
      "Checkpoint 8\n",
      "Checkpoint 9\n",
      "Checkpoint 10\n",
      "Checkpoint 11\n",
      "Checkpoint 12\n",
      "Checkpoint 13\n",
      "Checkpoint 14\n",
      "Checkpoint 15\n",
      "Checkpoint 16\n",
      "Checkpoint 17\n",
      "Checkpoint 18\n",
      "Checkpoint 19\n",
      "Checkpoint 20\n",
      "Checkpoint 21\n",
      "Checkpoint 22\n",
      "Checkpoint 23\n",
      "Checkpoint 24\n",
      "Checkpoint 25\n",
      "Checkpoint 26\n",
      "Checkpoint 27\n",
      "Checkpoint 28\n",
      "Checkpoint 29\n",
      "Checkpoint 30\n",
      "Checkpoint 31\n",
      "Checkpoint 32\n",
      "Checkpoint 33\n",
      "Checkpoint 34\n",
      "Checkpoint 35\n",
      "Checkpoint 36\n",
      "Checkpoint 37\n",
      "Checkpoint 38\n",
      "Checkpoint 39\n",
      "Checkpoint 40\n",
      "Checkpoint 41\n",
      "Checkpoint 42\n",
      "Checkpoint 43\n",
      "Checkpoint 44\n",
      "Checkpoint 45\n",
      "Checkpoint 46\n",
      "Checkpoint 47\n",
      "Checkpoint 48\n",
      "Checkpoint 49\n",
      "Checkpoint 50\n",
      "Checkpoint 51\n",
      "Checkpoint 52\n",
      "Checkpoint 53\n",
      "Checkpoint 54\n",
      "Checkpoint 55\n",
      "Checkpoint 56\n",
      "Checkpoint 57\n",
      "Checkpoint 58\n",
      "Checkpoint 59\n",
      "Checkpoint 60\n",
      "Checkpoint 61\n",
      "Checkpoint 62\n",
      "Checkpoint 63\n",
      "Checkpoint 64\n",
      "Checkpoint 65\n",
      "Checkpoint 66\n",
      "Checkpoint 67\n",
      "Checkpoint 68\n",
      "Checkpoint 69\n",
      "Checkpoint 70\n",
      "Checkpoint 71\n",
      "Checkpoint 72\n",
      "Checkpoint 73\n",
      "Checkpoint 74\n",
      "Checkpoint 75\n",
      "Checkpoint 76\n",
      "Checkpoint 77\n",
      "Checkpoint 78\n",
      "Checkpoint 79\n",
      "Checkpoint 80\n",
      "Checkpoint 81\n",
      "Checkpoint 82\n",
      "Checkpoint 83\n",
      "Checkpoint 84\n",
      "Checkpoint 85\n",
      "Checkpoint 86\n",
      "Checkpoint 87\n",
      "Checkpoint 88\n"
     ]
    }
   ],
   "source": [
    "diff_distances = []\n",
    "same_distances = []\n",
    "result_dict = {}\n",
    "for i in range(len(root_paths) - 1):\n",
    "    for j in range(i + 1, len(root_paths)):\n",
    "        feature1 = extract_image_feature(mtcnn_detector, feature_extractor, file_paths[i])\n",
    "        feature2 = extract_image_feature(mtcnn_detector, feature_extractor, file_paths[j])\n",
    "        if feature1 is not None and feature2 is not None:\n",
    "            distance = euclidean(feature1, feature2)\n",
    "            if root_paths[i] != root_paths[j]:\n",
    "                diff_distances.append(distance)\n",
    "            else: #same\n",
    "                same_distances.append(distance)\n",
    "                \n",
    "            result_dict[str(i) + ' ' + str(j)] = distance\n",
    "        else:\n",
    "            result_dict[str(i) + ' ' + str(j)] = None\n",
    "    print('Checkpoint', i)"
   ]
  },
  {
   "cell_type": "code",
   "execution_count": 10,
   "metadata": {
    "scrolled": true
   },
   "outputs": [],
   "source": [
    "same_distances = sorted(same_distances)"
   ]
  },
  {
   "cell_type": "code",
   "execution_count": 11,
   "metadata": {},
   "outputs": [],
   "source": [
    "diff_distances = sorted(diff_distances)"
   ]
  },
  {
   "cell_type": "code",
   "execution_count": 25,
   "metadata": {},
   "outputs": [
    {
     "name": "stdout",
     "output_type": "stream",
     "text": [
      "73.67320671522549\n"
     ]
    }
   ],
   "source": [
    "print(np.mean(same_distances))"
   ]
  },
  {
   "cell_type": "code",
   "execution_count": 16,
   "metadata": {},
   "outputs": [
    {
     "name": "stdout",
     "output_type": "stream",
     "text": [
      "126.54902474974588\n"
     ]
    }
   ],
   "source": [
    "print(np.mean(diff_distances))"
   ]
  },
  {
   "cell_type": "code",
   "execution_count": 38,
   "metadata": {},
   "outputs": [
    {
     "name": "stdout",
     "output_type": "stream",
     "text": [
      "100.11111573248569\n"
     ]
    }
   ],
   "source": [
    "print((np.mean(diff_distances) + np.mean(same_distances)) / 2)"
   ]
  },
  {
   "cell_type": "markdown",
   "metadata": {},
   "source": [
    "# Distribution"
   ]
  },
  {
   "cell_type": "code",
   "execution_count": 32,
   "metadata": {},
   "outputs": [
    {
     "data": {
      "image/png": "[encoded data removed]",
      "text/plain": [
       "<Figure size 432x288 with 1 Axes>"
      ]
     },
     "metadata": {
      "needs_background": "light"
     },
     "output_type": "display_data"
    }
   ],
   "source": [
    "plt.plot(same_distances)\n",
    "plt.ylabel('Same Distance Threshold')\n",
    "plt.show()"
   ]
  },
  {
   "cell_type": "code",
   "execution_count": 34,
   "metadata": {},
   "outputs": [
    {
     "data": {
      "image/png": "[encoded data removed]",
      "text/plain": [
       "<Figure size 432x288 with 1 Axes>"
      ]
     },
     "metadata": {
      "needs_background": "light"
     },
     "output_type": "display_data"
    }
   ],
   "source": [
    "plt.plot(diff_distances)\n",
    "plt.ylabel('Diff Distance Threshold')\n",
    "plt.show()"
   ]
  },
  {
   "cell_type": "code",
   "execution_count": 37,
   "metadata": {},
   "outputs": [
    {
     "data": {
      "text/plain": [
       "[64.01384735107422,\n",
       " 64.89225006103516,\n",
       " 72.78427124023438,\n",
       " 74.78607177734375,\n",
       " 79.86282348632812,\n",
       " 80.7822036743164,\n",
       " 81.50426483154297,\n",
       " 82.3405990600586,\n",
       " 82.76815032958984,\n",
       " 83.53199005126953,\n",
       " 83.77978515625,\n",
       " 88.14175415039062,\n",
       " 88.85482788085938,\n",
       " 88.88302612304688,\n",
       " 89.45160675048828,\n",
       " 91.37177276611328,\n",
       " 91.56356048583984,\n",
       " 91.87397766113281,\n",
       " 91.87516784667969,\n",
       " 92.1397476196289,\n",
       " 92.67985534667969,\n",
       " 92.78179931640625,\n",
       " 92.97346496582031,\n",
       " 93.08497619628906,\n",
       " 93.5923080444336,\n",
       " 93.73279571533203,\n",
       " 93.93260192871094,\n",
       " 93.9964828491211,\n",
       " 94.17185974121094,\n",
       " 94.32392120361328,\n",
       " 94.60871887207031,\n",
       " 94.61734008789062,\n",
       " 94.64991760253906,\n",
       " 94.92497253417969,\n",
       " 94.9959945678711,\n",
       " 95.12589263916016,\n",
       " 95.12751007080078,\n",
       " 95.1634292602539,\n",
       " 95.23579406738281,\n",
       " 95.3050537109375,\n",
       " 95.43357849121094,\n",
       " 95.4599380493164,\n",
       " 95.46011352539062,\n",
       " 95.46192932128906,\n",
       " 95.64794158935547,\n",
       " 96.19449615478516,\n",
       " 96.29776000976562,\n",
       " 96.78861236572266,\n",
       " 96.94853973388672,\n",
       " 97.02391052246094,\n",
       " 97.1266098022461,\n",
       " 97.22865295410156,\n",
       " 97.33525848388672,\n",
       " 97.3504867553711,\n",
       " 97.3839111328125,\n",
       " 97.46627807617188,\n",
       " 97.49847412109375,\n",
       " 97.55733489990234,\n",
       " 97.87142181396484,\n",
       " 98.34779357910156,\n",
       " 98.37637329101562,\n",
       " 98.7507095336914,\n",
       " 98.77230072021484,\n",
       " 98.82181549072266,\n",
       " 98.86522674560547,\n",
       " 98.87397003173828,\n",
       " 98.90056610107422,\n",
       " 98.90335083007812,\n",
       " 99.05997467041016,\n",
       " 99.08814239501953,\n",
       " 99.09276580810547,\n",
       " 99.29136657714844,\n",
       " 99.42249298095703,\n",
       " 99.59034729003906,\n",
       " 99.7321548461914,\n",
       " 99.74640655517578,\n",
       " 99.83425903320312,\n",
       " 99.8585205078125,\n",
       " 99.8920669555664,\n",
       " 100.01080322265625,\n",
       " 100.08030700683594,\n",
       " 100.27772521972656,\n",
       " 100.3466567993164,\n",
       " 100.37462615966797,\n",
       " 100.54969024658203,\n",
       " 100.77079010009766,\n",
       " 100.78054809570312,\n",
       " 100.78358459472656,\n",
       " 100.84169006347656,\n",
       " 100.90987396240234,\n",
       " 100.9544677734375,\n",
       " 100.97137451171875,\n",
       " 101.04347229003906,\n",
       " 101.09392547607422,\n",
       " 101.29125213623047,\n",
       " 101.30602264404297,\n",
       " 101.34221649169922,\n",
       " 101.41397857666016,\n",
       " 101.4585952758789,\n",
       " 101.49309539794922]"
      ]
     },
     "execution_count": 37,
     "metadata": {},
     "output_type": "execute_result"
    }
   ],
   "source": [
    "diff_distances[:100]"
   ]
  }
 ],
 "metadata": {
  "kernelspec": {
   "display_name": "Python 3",
   "language": "python",
   "name": "python3"
  },
  "language_info": {
   "codemirror_mode": {
    "name": "ipython",
    "version": 3
   },
   "file_extension": ".py",
   "mimetype": "text/x-python",
   "name": "python",
   "nbconvert_exporter": "python",
   "pygments_lexer": "ipython3",
   "version": "3.6.8"
  }
 },
 "nbformat": 4,
 "nbformat_minor": 2
}
