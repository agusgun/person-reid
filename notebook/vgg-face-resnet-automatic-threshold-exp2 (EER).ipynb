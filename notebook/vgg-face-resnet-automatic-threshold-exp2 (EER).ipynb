{
 "cells": [
  {
   "cell_type": "markdown",
   "metadata": {},
   "source": [
    "# EER Method\n",
    "use EER method to automatically generate threshold that has good separability"
   ]
  },
  {
   "cell_type": "code",
   "execution_count": 1,
   "metadata": {},
   "outputs": [
    {
     "name": "stderr",
     "output_type": "stream",
     "text": [
      "Using TensorFlow backend.\n"
     ]
    }
   ],
   "source": [
    "from scipy.spatial.distance import euclidean\n",
    "from sklearn.metrics import accuracy_score, f1_score\n",
    "from keras import backend as K\n",
    "from feature_extractor.face_feature_extractor import FaceFeatureExtractor\n",
    "import numpy as np\n",
    "import cv2 as cv\n",
    "from mtcnn.mtcnn import MTCNN\n",
    "import matplotlib.pyplot as plt\n",
    "import os\n",
    "import time"
   ]
  },
  {
   "cell_type": "code",
   "execution_count": 2,
   "metadata": {},
   "outputs": [],
   "source": [
    "DATA_DIR_PATH = '../exp_data/'\n",
    "root_paths = []\n",
    "file_paths = []\n",
    "for root, dirs, files in os.walk(DATA_DIR_PATH):\n",
    "     for file in files:\n",
    "        root_paths.append(root)\n",
    "        file_paths.append(os.path.join(root, file))"
   ]
  },
  {
   "cell_type": "code",
   "execution_count": 3,
   "metadata": {},
   "outputs": [
    {
     "data": {
      "text/plain": [
       "69"
      ]
     },
     "execution_count": 3,
     "metadata": {},
     "output_type": "execute_result"
    }
   ],
   "source": [
    "len(root_paths)"
   ]
  },
  {
   "cell_type": "markdown",
   "metadata": {},
   "source": [
    "# Experiment"
   ]
  },
  {
   "cell_type": "code",
   "execution_count": 4,
   "metadata": {},
   "outputs": [
    {
     "name": "stdout",
     "output_type": "stream",
     "text": [
      "WARNING:tensorflow:From /home/agusgun/anaconda3/envs/conda_ta/lib/python3.6/site-packages/tensorflow/python/framework/op_def_library.py:263: colocate_with (from tensorflow.python.framework.ops) is deprecated and will be removed in a future version.\n",
      "Instructions for updating:\n",
      "Colocations handled automatically by placer.\n",
      "WARNING:tensorflow:From /home/agusgun/anaconda3/envs/conda_ta/lib/python3.6/site-packages/mtcnn/layer_factory.py:211: calling reduce_max_v1 (from tensorflow.python.ops.math_ops) with keep_dims is deprecated and will be removed in a future version.\n",
      "Instructions for updating:\n",
      "keep_dims is deprecated, use keepdims instead\n",
      "WARNING:tensorflow:From /home/agusgun/anaconda3/envs/conda_ta/lib/python3.6/site-packages/mtcnn/layer_factory.py:213: calling reduce_sum_v1 (from tensorflow.python.ops.math_ops) with keep_dims is deprecated and will be removed in a future version.\n",
      "Instructions for updating:\n",
      "keep_dims is deprecated, use keepdims instead\n",
      "WARNING:tensorflow:From /home/agusgun/anaconda3/envs/conda_ta/lib/python3.6/site-packages/mtcnn/layer_factory.py:214: div (from tensorflow.python.ops.math_ops) is deprecated and will be removed in a future version.\n",
      "Instructions for updating:\n",
      "Deprecated in favor of operator or tf.math.divide.\n"
     ]
    }
   ],
   "source": [
    "mtcnn_detector = MTCNN()"
   ]
  },
  {
   "cell_type": "code",
   "execution_count": 5,
   "metadata": {},
   "outputs": [],
   "source": [
    "feature_extractor = FaceFeatureExtractor(None, extractor_name='vgg_face_resnet50')"
   ]
  },
  {
   "cell_type": "code",
   "execution_count": 6,
   "metadata": {},
   "outputs": [],
   "source": [
    "def extract_image_feature(face_detector, feature_extractor, file_path):\n",
    "    img = cv.cvtColor(cv.imread(file_path), cv.COLOR_BGR2RGB)\n",
    "    detection_result = face_detector.detect_faces(img)\n",
    "    cropped_image = None\n",
    "    feature = None\n",
    "    for face in detection_result:\n",
    "        face_bbox = face['box']\n",
    "        x, y, w, h = face_bbox\n",
    "        if x < 0:\n",
    "            x = 0\n",
    "        if y < 0:\n",
    "            y = 0\n",
    "        cropped_image = img[y:y+h, x:x+w]\n",
    "        break\n",
    "    if cropped_image is not None:\n",
    "        feature = feature_extractor.extract_image(cropped_image)\n",
    "    return feature"
   ]
  },
  {
   "cell_type": "code",
   "execution_count": 7,
   "metadata": {},
   "outputs": [
    {
     "name": "stdout",
     "output_type": "stream",
     "text": [
      "[0.47564152 2.533972   0.36501947 ... 0.         0.         0.03259334]\n"
     ]
    }
   ],
   "source": [
    "feature = extract_image_feature(mtcnn_detector, feature_extractor, file_paths[2])\n",
    "print(feature)"
   ]
  },
  {
   "cell_type": "code",
   "execution_count": 8,
   "metadata": {},
   "outputs": [],
   "source": [
    "def count_tp_tn_fp_fn(threshold, root_paths, file_paths):\n",
    "    # positive is new\n",
    "    # negative is old\n",
    "    tp = 0\n",
    "    fp = 0\n",
    "    tn = 0\n",
    "    fn = 0\n",
    "    for i in range(len(root_paths) - 1):\n",
    "        for j in range(i + 1, len(root_paths)):\n",
    "            feature1 = extract_image_feature(mtcnn_detector, feature_extractor, file_paths[i])\n",
    "            feature2 = extract_image_feature(mtcnn_detector, feature_extractor, file_paths[j])\n",
    "            if feature1 is not None and feature2 is not None:\n",
    "                distance = euclidean(feature1, feature2)\n",
    "                if distance >= threshold: # diff person\n",
    "                    if root_paths[i] != root_paths[j]:\n",
    "                        tp += 1\n",
    "                    else:\n",
    "                        fp += 1\n",
    "                else: # same person\n",
    "                    if root_paths[i] == root_paths[j]:\n",
    "                        tn += 1\n",
    "                    else:\n",
    "                        fn += 1\n",
    "#             else:\n",
    "#                 if feature2 is None: # the one that want to be predicted\n",
    "\n",
    "#                 else: # feature 1 is None\n",
    "    return (tp, tn, fp, fn)"
   ]
  },
  {
   "cell_type": "markdown",
   "metadata": {},
   "source": [
    "### Harusnya dari 35 - 165"
   ]
  },
  {
   "cell_type": "code",
   "execution_count": 10,
   "metadata": {},
   "outputs": [
    {
     "name": "stdout",
     "output_type": "stream",
     "text": [
      "50 (2104, 37, 205, 0)\n",
      "55 (2104, 61, 181, 0)\n",
      "60 (2104, 88, 154, 0)\n",
      "65 (2104, 114, 128, 0)\n",
      "70 (2104, 131, 111, 0)\n",
      "75 (2104, 162, 80, 0)\n",
      "80 (2104, 176, 66, 0)\n",
      "85 (2102, 194, 48, 2)\n",
      "90 (2102, 207, 35, 2)\n",
      "95 (2091, 213, 29, 13)\n",
      "100 (2071, 222, 20, 33)\n",
      "105 (2007, 228, 14, 97)\n",
      "110 (1915, 234, 8, 189)\n",
      "115 (1741, 238, 4, 363)\n",
      "120 (1509, 239, 3, 595)\n",
      "125 (1237, 241, 1, 867)\n",
      "130 (927, 242, 0, 1177)\n",
      "135 (614, 242, 0, 1490)\n",
      "140 (364, 242, 0, 1740)\n"
     ]
    }
   ],
   "source": [
    "result = {}\n",
    "for i in range(50, 145, 5):\n",
    "    result[i] = count_tp_tn_fp_fn(i, root_paths, file_paths)\n",
    "    print(i, result[i])"
   ]
  },
  {
   "cell_type": "markdown",
   "metadata": {},
   "source": [
    "## EER"
   ]
  },
  {
   "cell_type": "code",
   "execution_count": 11,
   "metadata": {},
   "outputs": [],
   "source": [
    "far_list = []\n",
    "frr_list = []"
   ]
  },
  {
   "cell_type": "code",
   "execution_count": 12,
   "metadata": {},
   "outputs": [],
   "source": [
    "for key, value in result.items():\n",
    "    tp, tn, fp, fn = value\n",
    "    far = fp / (fp+tn)\n",
    "    frr = fn / (tp+fn)\n",
    "    far_list.append(far)\n",
    "    frr_list.append(frr)"
   ]
  },
  {
   "cell_type": "code",
   "execution_count": 13,
   "metadata": {},
   "outputs": [
    {
     "name": "stdout",
     "output_type": "stream",
     "text": [
      "50 0.8471074380165289 0.0\n",
      "55 0.7479338842975206 0.0\n",
      "60 0.6363636363636364 0.0\n",
      "65 0.5289256198347108 0.0\n",
      "70 0.45867768595041325 0.0\n",
      "75 0.3305785123966942 0.0\n",
      "80 0.2727272727272727 0.0\n",
      "85 0.19834710743801653 0.0009505703422053232\n",
      "90 0.1446280991735537 0.0009505703422053232\n",
      "95 0.11983471074380166 0.006178707224334601\n",
      "100 0.08264462809917356 0.01568441064638783\n",
      "105 0.05785123966942149 0.046102661596958174\n",
      "110 0.03305785123966942 0.08982889733840305\n",
      "115 0.01652892561983471 0.17252851711026615\n",
      "120 0.012396694214876033 0.28279467680608367\n",
      "125 0.004132231404958678 0.4120722433460076\n",
      "130 0.0 0.5594106463878327\n",
      "135 0.0 0.7081749049429658\n",
      "140 0.0 0.8269961977186312\n"
     ]
    }
   ],
   "source": [
    "counter = 50\n",
    "for i in range(len(frr_list)):\n",
    "    print(counter, far_list[i], frr_list[i])\n",
    "    counter += 5"
   ]
  }
 ],
 "metadata": {
  "kernelspec": {
   "display_name": "Python 3",
   "language": "python",
   "name": "python3"
  },
  "language_info": {
   "codemirror_mode": {
    "name": "ipython",
    "version": 3
   },
   "file_extension": ".py",
   "mimetype": "text/x-python",
   "name": "python",
   "nbconvert_exporter": "python",
   "pygments_lexer": "ipython3",
   "version": "3.6.8"
  }
 },
 "nbformat": 4,
 "nbformat_minor": 2
}
