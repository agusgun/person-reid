{
 "cells": [
  {
   "cell_type": "markdown",
   "metadata": {},
   "source": [
    "# EER Method\n",
    "use EER method to automatically generate threshold that has good separability"
   ]
  },
  {
   "cell_type": "code",
   "execution_count": 1,
   "metadata": {},
   "outputs": [
    {
     "name": "stderr",
     "output_type": "stream",
     "text": [
      "Using TensorFlow backend.\n"
     ]
    }
   ],
   "source": [
    "from scipy.spatial.distance import euclidean\n",
    "from sklearn.metrics import accuracy_score, f1_score\n",
    "from keras import backend as K\n",
    "from feature_extractor.face_feature_extractor import FaceFeatureExtractor\n",
    "import numpy as np\n",
    "import cv2 as cv\n",
    "from mtcnn.mtcnn import MTCNN\n",
    "import matplotlib.pyplot as plt\n",
    "import os\n",
    "import time"
   ]
  },
  {
   "cell_type": "code",
   "execution_count": 2,
   "metadata": {},
   "outputs": [],
   "source": [
    "DATA_DIR_PATH = '../exp_data/'\n",
    "root_paths = []\n",
    "file_paths = []\n",
    "for root, dirs, files in os.walk(DATA_DIR_PATH):\n",
    "     for file in files:\n",
    "        root_paths.append(root)\n",
    "        file_paths.append(os.path.join(root, file))"
   ]
  },
  {
   "cell_type": "code",
   "execution_count": 3,
   "metadata": {},
   "outputs": [
    {
     "data": {
      "text/plain": [
       "90"
      ]
     },
     "execution_count": 3,
     "metadata": {},
     "output_type": "execute_result"
    }
   ],
   "source": [
    "len(root_paths)"
   ]
  },
  {
   "cell_type": "markdown",
   "metadata": {},
   "source": [
    "# Experiment"
   ]
  },
  {
   "cell_type": "code",
   "execution_count": 4,
   "metadata": {},
   "outputs": [
    {
     "name": "stdout",
     "output_type": "stream",
     "text": [
      "WARNING:tensorflow:From /home/agusgun/anaconda3/envs/conda_ta/lib/python3.6/site-packages/tensorflow/python/framework/op_def_library.py:263: colocate_with (from tensorflow.python.framework.ops) is deprecated and will be removed in a future version.\n",
      "Instructions for updating:\n",
      "Colocations handled automatically by placer.\n",
      "WARNING:tensorflow:From /home/agusgun/anaconda3/envs/conda_ta/lib/python3.6/site-packages/mtcnn/layer_factory.py:211: calling reduce_max_v1 (from tensorflow.python.ops.math_ops) with keep_dims is deprecated and will be removed in a future version.\n",
      "Instructions for updating:\n",
      "keep_dims is deprecated, use keepdims instead\n",
      "WARNING:tensorflow:From /home/agusgun/anaconda3/envs/conda_ta/lib/python3.6/site-packages/mtcnn/layer_factory.py:213: calling reduce_sum_v1 (from tensorflow.python.ops.math_ops) with keep_dims is deprecated and will be removed in a future version.\n",
      "Instructions for updating:\n",
      "keep_dims is deprecated, use keepdims instead\n",
      "WARNING:tensorflow:From /home/agusgun/anaconda3/envs/conda_ta/lib/python3.6/site-packages/mtcnn/layer_factory.py:214: div (from tensorflow.python.ops.math_ops) is deprecated and will be removed in a future version.\n",
      "Instructions for updating:\n",
      "Deprecated in favor of operator or tf.math.divide.\n"
     ]
    }
   ],
   "source": [
    "mtcnn_detector = MTCNN()"
   ]
  },
  {
   "cell_type": "code",
   "execution_count": 5,
   "metadata": {},
   "outputs": [],
   "source": [
    "feature_extractor = FaceFeatureExtractor(None, extractor_name='vgg_face_resnet50')"
   ]
  },
  {
   "cell_type": "code",
   "execution_count": 6,
   "metadata": {},
   "outputs": [],
   "source": [
    "def extract_image_feature(face_detector, feature_extractor, file_path):\n",
    "    img = cv.cvtColor(cv.imread(file_path), cv.COLOR_BGR2RGB)\n",
    "    detection_result = face_detector.detect_faces(img)\n",
    "    cropped_image = None\n",
    "    feature = None\n",
    "    for face in detection_result:\n",
    "        face_bbox = face['box']\n",
    "        x, y, w, h = face_bbox\n",
    "        if x < 0:\n",
    "            x = 0\n",
    "        if y < 0:\n",
    "            y = 0\n",
    "        cropped_image = img[y:y+h, x:x+w]\n",
    "        break\n",
    "    if cropped_image is not None:\n",
    "        feature = feature_extractor.extract_image(cropped_image)\n",
    "    return feature"
   ]
  },
  {
   "cell_type": "code",
   "execution_count": 7,
   "metadata": {},
   "outputs": [
    {
     "name": "stdout",
     "output_type": "stream",
     "text": [
      "None\n"
     ]
    }
   ],
   "source": [
    "feature = extract_image_feature(mtcnn_detector, feature_extractor, file_paths[2])\n",
    "print(feature)"
   ]
  },
  {
   "cell_type": "code",
   "execution_count": 28,
   "metadata": {},
   "outputs": [],
   "source": [
    "def count_tp_tn_fp_fn(threshold, root_paths, file_paths):\n",
    "    # positive is new\n",
    "    # negative is old\n",
    "    tp = 0\n",
    "    fp = 0\n",
    "    tn = 0\n",
    "    fn = 0\n",
    "    for i in range(len(root_paths) - 1):\n",
    "        for j in range(i + 1, len(root_paths)):\n",
    "            # Add more condition to handle imbalance\n",
    "            if file_paths[j].split('/')[-1] == file_paths[i].split('/')[-1] or root_paths[i] == root_paths[j]:\n",
    "                feature1 = extract_image_feature(mtcnn_detector, feature_extractor, file_paths[i])\n",
    "                feature2 = extract_image_feature(mtcnn_detector, feature_extractor, file_paths[j])\n",
    "                if feature1 is not None and feature2 is not None:\n",
    "                    distance = euclidean(feature1, feature2)\n",
    "                    if distance >= threshold: # diff person\n",
    "                        if root_paths[i] != root_paths[j]:\n",
    "                            tp += 1\n",
    "                        else:\n",
    "                            fp += 1\n",
    "                    else: # same person\n",
    "                        if root_paths[i] == root_paths[j]:\n",
    "                            tn += 1\n",
    "                        else:\n",
    "                            fn += 1\n",
    "#             else:\n",
    "#                 if feature2 is None: # the one that want to be predicted\n",
    "                    \n",
    "#                 else: # feature 1 is None\n",
    "    return (tp, tn, fp, fn)"
   ]
  },
  {
   "cell_type": "markdown",
   "metadata": {},
   "source": [
    "### Harusnya dari 35 - 165"
   ]
  },
  {
   "cell_type": "code",
   "execution_count": 29,
   "metadata": {},
   "outputs": [
    {
     "name": "stdout",
     "output_type": "stream",
     "text": [
      "(306, 0, 346, 0)\n",
      "(306, 6, 340, 0)\n",
      "(306, 17, 329, 0)\n",
      "(306, 39, 307, 0)\n",
      "(306, 71, 275, 0)\n",
      "(306, 104, 242, 0)\n",
      "(306, 135, 211, 0)\n",
      "(306, 159, 187, 0)\n",
      "(306, 200, 146, 0)\n",
      "(306, 226, 120, 0)\n",
      "(306, 251, 95, 0)\n",
      "(305, 273, 73, 1)\n",
      "(303, 284, 62, 3)\n",
      "(299, 300, 46, 7)\n",
      "(285, 315, 31, 21)\n",
      "(271, 329, 17, 35)\n",
      "(247, 336, 10, 59)\n",
      "(221, 341, 5, 85)\n",
      "(169, 345, 1, 137)\n",
      "(130, 346, 0, 176)\n",
      "(83, 346, 0, 223)\n",
      "(48, 346, 0, 258)\n",
      "(21, 346, 0, 285)\n",
      "(7, 346, 0, 299)\n",
      "(2, 346, 0, 304)\n",
      "(1, 346, 0, 305)\n",
      "(0, 346, 0, 306)\n"
     ]
    }
   ],
   "source": [
    "result = {}\n",
    "for i in range(35, 170, 5):\n",
    "    result[i] = count_tp_tn_fp_fn(i, root_paths, file_paths)\n",
    "    print(result[i])"
   ]
  },
  {
   "cell_type": "markdown",
   "metadata": {},
   "source": [
    "## EER"
   ]
  },
  {
   "cell_type": "code",
   "execution_count": 35,
   "metadata": {},
   "outputs": [],
   "source": [
    "far_list = []\n",
    "frr_list = []"
   ]
  },
  {
   "cell_type": "code",
   "execution_count": 36,
   "metadata": {},
   "outputs": [],
   "source": [
    "for key, value in result.items():\n",
    "    tp, tn, fp, fn = value\n",
    "    far = fp / (fp+tn)\n",
    "    frr = fn / (tp+fn)\n",
    "    far_list.append(far)\n",
    "    frr_list.append(frr)"
   ]
  },
  {
   "cell_type": "code",
   "execution_count": 37,
   "metadata": {},
   "outputs": [
    {
     "name": "stdout",
     "output_type": "stream",
     "text": [
      "40 1.0 0.0\n",
      "45 0.9826589595375722 0.0\n",
      "50 0.9508670520231214 0.0\n",
      "55 0.8872832369942196 0.0\n",
      "60 0.7947976878612717 0.0\n",
      "65 0.6994219653179191 0.0\n",
      "70 0.6098265895953757 0.0\n",
      "75 0.5404624277456648 0.0\n",
      "80 0.42196531791907516 0.0\n",
      "85 0.3468208092485549 0.0\n",
      "90 0.2745664739884393 0.0\n",
      "95 0.21098265895953758 0.0032679738562091504\n",
      "100 0.1791907514450867 0.00980392156862745\n",
      "105 0.1329479768786127 0.02287581699346405\n",
      "110 0.08959537572254335 0.06862745098039216\n",
      "115 0.049132947976878616 0.11437908496732026\n",
      "120 0.028901734104046242 0.19281045751633988\n",
      "125 0.014450867052023121 0.2777777777777778\n",
      "130 0.002890173410404624 0.4477124183006536\n",
      "135 0.0 0.5751633986928104\n",
      "140 0.0 0.7287581699346405\n",
      "145 0.0 0.8431372549019608\n",
      "150 0.0 0.9313725490196079\n",
      "155 0.0 0.9771241830065359\n",
      "160 0.0 0.9934640522875817\n",
      "165 0.0 0.9967320261437909\n",
      "170 0.0 1.0\n"
     ]
    }
   ],
   "source": [
    "counter = 40\n",
    "for i in range(len(frr_list)):\n",
    "    print(counter, far_list[i], frr_list[i])\n",
    "    counter += 5"
   ]
  },
  {
   "cell_type": "code",
   "execution_count": 38,
   "metadata": {},
   "outputs": [
    {
     "data": {
      "text/plain": [
       "{35: (306, 0, 346, 0),\n",
       " 40: (306, 6, 340, 0),\n",
       " 45: (306, 17, 329, 0),\n",
       " 50: (306, 39, 307, 0),\n",
       " 55: (306, 71, 275, 0),\n",
       " 60: (306, 104, 242, 0),\n",
       " 65: (306, 135, 211, 0),\n",
       " 70: (306, 159, 187, 0),\n",
       " 75: (306, 200, 146, 0),\n",
       " 80: (306, 226, 120, 0),\n",
       " 85: (306, 251, 95, 0),\n",
       " 90: (305, 273, 73, 1),\n",
       " 95: (303, 284, 62, 3),\n",
       " 100: (299, 300, 46, 7),\n",
       " 105: (285, 315, 31, 21),\n",
       " 110: (271, 329, 17, 35),\n",
       " 115: (247, 336, 10, 59),\n",
       " 120: (221, 341, 5, 85),\n",
       " 125: (169, 345, 1, 137),\n",
       " 130: (130, 346, 0, 176),\n",
       " 135: (83, 346, 0, 223),\n",
       " 140: (48, 346, 0, 258),\n",
       " 145: (21, 346, 0, 285),\n",
       " 150: (7, 346, 0, 299),\n",
       " 155: (2, 346, 0, 304),\n",
       " 160: (1, 346, 0, 305),\n",
       " 165: (0, 346, 0, 306)}"
      ]
     },
     "execution_count": 38,
     "metadata": {},
     "output_type": "execute_result"
    }
   ],
   "source": [
    "result"
   ]
  },
  {
   "cell_type": "code",
   "execution_count": null,
   "metadata": {},
   "outputs": [],
   "source": []
  }
 ],
 "metadata": {
  "kernelspec": {
   "display_name": "Python 3",
   "language": "python",
   "name": "python3"
  },
  "language_info": {
   "codemirror_mode": {
    "name": "ipython",
    "version": 3
   },
   "file_extension": ".py",
   "mimetype": "text/x-python",
   "name": "python",
   "nbconvert_exporter": "python",
   "pygments_lexer": "ipython3",
   "version": "3.6.8"
  }
 },
 "nbformat": 4,
 "nbformat_minor": 2
}
