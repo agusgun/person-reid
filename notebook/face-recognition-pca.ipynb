{
 "cells": [
  {
   "cell_type": "code",
   "execution_count": 1,
   "metadata": {},
   "outputs": [],
   "source": [
    "import os\n",
    "import scipy\n",
    "import numpy as np\n",
    "import cv2 as cv"
   ]
  },
  {
   "cell_type": "code",
   "execution_count": 2,
   "metadata": {},
   "outputs": [],
   "source": [
    "img_path_list = os.listdir('../face_data')\n",
    "img_path_list = [os.path.join('../face_data', img_path) for img_path in img_path_list]"
   ]
  },
  {
   "cell_type": "code",
   "execution_count": 3,
   "metadata": {},
   "outputs": [],
   "source": [
    "target = []\n",
    "for img_path in img_path_list:\n",
    "    if ('/1_' in img_path):\n",
    "        target.append(1)\n",
    "    elif ('/2_' in img_path):\n",
    "        target.append(2)\n",
    "    elif ('/7_' in img_path):\n",
    "        target.append(3)\n",
    "    elif ('/12_' in img_path):\n",
    "        target.append(3)\n",
    "    elif ('/17_' in img_path):\n",
    "        target.append(4)"
   ]
  },
  {
   "cell_type": "code",
   "execution_count": 4,
   "metadata": {},
   "outputs": [],
   "source": [
    "from sklearn.model_selection import train_test_split"
   ]
  },
  {
   "cell_type": "code",
   "execution_count": 5,
   "metadata": {},
   "outputs": [],
   "source": [
    "X_train_filename, X_test_filename, y_train_filename, y_test_filename = train_test_split(\n",
    "    img_path_list, target, test_size=0.2, random_state=0\n",
    ")"
   ]
  },
  {
   "cell_type": "code",
   "execution_count": 6,
   "metadata": {},
   "outputs": [],
   "source": [
    "def read_batch_image(img_path_list, resized_dimension=(60,60)):\n",
    "    image_data_list = []\n",
    "    for img_path in img_path_list:\n",
    "        img = cv.resize(cv.imread(img_path, cv.IMREAD_GRAYSCALE), resized_dimension, interpolation=cv.INTER_AREA)\n",
    "        image_data_list.append(img)\n",
    "    return image_data_list\n",
    "\n",
    "def flatten_batch_image(image_data_list):\n",
    "    flattened_image_list = []\n",
    "    for i in range(len(image_data_list)):\n",
    "        flattened_image = image_data_list[i].flatten()\n",
    "        flattened_image_list.append(flattened_image)\n",
    "    return flattened_image_list"
   ]
  },
  {
   "cell_type": "markdown",
   "metadata": {},
   "source": [
    "## PCA"
   ]
  },
  {
   "cell_type": "code",
   "execution_count": 7,
   "metadata": {},
   "outputs": [],
   "source": [
    "X_train_image_data = np.matrix(flatten_batch_image(read_batch_image(X_train_filename)))\n",
    "X_test_image_data = np.matrix(flatten_batch_image(read_batch_image(X_test_filename)))"
   ]
  },
  {
   "cell_type": "code",
   "execution_count": 8,
   "metadata": {},
   "outputs": [],
   "source": [
    "from sklearn.decomposition import PCA\n",
    "from sklearn.neighbors import KNeighborsClassifier\n",
    "from sklearn.metrics import accuracy_score, f1_score"
   ]
  },
  {
   "cell_type": "code",
   "execution_count": 9,
   "metadata": {},
   "outputs": [],
   "source": [
    "pca_component = 15\n",
    "pca = PCA(pca_component, whiten=True).fit(X_train_image_data)"
   ]
  },
  {
   "cell_type": "code",
   "execution_count": 10,
   "metadata": {},
   "outputs": [],
   "source": [
    "X_train_pca = pca.transform(X_train_image_data)\n",
    "X_test_pca = pca.transform(X_test_image_data)"
   ]
  },
  {
   "cell_type": "markdown",
   "metadata": {},
   "source": [
    "## Model"
   ]
  },
  {
   "cell_type": "markdown",
   "metadata": {},
   "source": [
    "### kNN"
   ]
  },
  {
   "cell_type": "code",
   "execution_count": 11,
   "metadata": {},
   "outputs": [
    {
     "data": {
      "text/plain": [
       "KNeighborsClassifier(algorithm='auto', leaf_size=30, metric='minkowski',\n",
       "           metric_params=None, n_jobs=None, n_neighbors=3, p=2,\n",
       "           weights='uniform')"
      ]
     },
     "execution_count": 11,
     "metadata": {},
     "output_type": "execute_result"
    }
   ],
   "source": [
    "knn_classifier = KNeighborsClassifier(n_neighbors = 3)\n",
    "knn_classifier.fit(X_train_pca, y_train_filename)"
   ]
  },
  {
   "cell_type": "code",
   "execution_count": 12,
   "metadata": {},
   "outputs": [
    {
     "name": "stdout",
     "output_type": "stream",
     "text": [
      "0.9649122807017544\n",
      "0.9649122807017544\n"
     ]
    }
   ],
   "source": [
    "predicted = knn_classifier.predict(X_test_pca)\n",
    "confidence = knn_classifier.predict_proba(X_test_pca)\n",
    "print(accuracy_score(predicted, y_test_filename))\n",
    "print(f1_score(predicted, y_test_filename, average='weighted'))"
   ]
  },
  {
   "cell_type": "code",
   "execution_count": 13,
   "metadata": {},
   "outputs": [
    {
     "data": {
      "text/plain": [
       "array([[0.        , 0.        , 0.        , 1.        ],\n",
       "       [0.        , 0.        , 1.        , 0.        ],\n",
       "       [0.        , 0.        , 1.        , 0.        ],\n",
       "       [0.        , 0.        , 1.        , 0.        ],\n",
       "       [0.        , 0.        , 0.        , 1.        ],\n",
       "       [0.        , 1.        , 0.        , 0.        ],\n",
       "       [1.        , 0.        , 0.        , 0.        ],\n",
       "       [0.        , 0.        , 1.        , 0.        ],\n",
       "       [0.        , 0.        , 0.66666667, 0.33333333],\n",
       "       [0.        , 0.        , 1.        , 0.        ],\n",
       "       [0.        , 0.        , 0.        , 1.        ],\n",
       "       [0.        , 0.        , 1.        , 0.        ],\n",
       "       [0.        , 0.        , 1.        , 0.        ],\n",
       "       [0.        , 1.        , 0.        , 0.        ],\n",
       "       [0.        , 0.        , 1.        , 0.        ],\n",
       "       [0.        , 0.        , 1.        , 0.        ],\n",
       "       [0.        , 0.        , 1.        , 0.        ],\n",
       "       [0.        , 0.        , 1.        , 0.        ],\n",
       "       [0.        , 1.        , 0.        , 0.        ],\n",
       "       [0.        , 0.        , 1.        , 0.        ],\n",
       "       [0.        , 1.        , 0.        , 0.        ],\n",
       "       [0.        , 0.        , 1.        , 0.        ],\n",
       "       [1.        , 0.        , 0.        , 0.        ],\n",
       "       [0.        , 0.        , 0.        , 1.        ],\n",
       "       [0.        , 0.        , 1.        , 0.        ],\n",
       "       [0.        , 0.        , 1.        , 0.        ],\n",
       "       [0.66666667, 0.        , 0.33333333, 0.        ],\n",
       "       [0.        , 0.        , 1.        , 0.        ],\n",
       "       [0.        , 0.        , 1.        , 0.        ],\n",
       "       [0.        , 0.        , 1.        , 0.        ],\n",
       "       [0.        , 0.        , 1.        , 0.        ],\n",
       "       [0.        , 0.        , 0.        , 1.        ],\n",
       "       [0.        , 0.        , 1.        , 0.        ],\n",
       "       [0.        , 0.        , 1.        , 0.        ],\n",
       "       [0.        , 0.        , 0.        , 1.        ],\n",
       "       [0.        , 1.        , 0.        , 0.        ],\n",
       "       [0.        , 0.        , 1.        , 0.        ],\n",
       "       [0.        , 0.        , 1.        , 0.        ],\n",
       "       [0.        , 0.        , 1.        , 0.        ],\n",
       "       [0.        , 0.        , 1.        , 0.        ],\n",
       "       [0.        , 0.        , 1.        , 0.        ],\n",
       "       [1.        , 0.        , 0.        , 0.        ],\n",
       "       [0.        , 0.        , 0.        , 1.        ],\n",
       "       [0.        , 0.        , 1.        , 0.        ],\n",
       "       [0.        , 0.        , 0.        , 1.        ],\n",
       "       [0.        , 1.        , 0.        , 0.        ],\n",
       "       [0.        , 0.        , 0.66666667, 0.33333333],\n",
       "       [0.        , 1.        , 0.        , 0.        ],\n",
       "       [0.        , 0.        , 0.        , 1.        ],\n",
       "       [0.        , 0.        , 1.        , 0.        ],\n",
       "       [0.        , 0.        , 0.        , 1.        ],\n",
       "       [1.        , 0.        , 0.        , 0.        ],\n",
       "       [0.        , 1.        , 0.        , 0.        ],\n",
       "       [0.        , 0.        , 1.        , 0.        ],\n",
       "       [1.        , 0.        , 0.        , 0.        ],\n",
       "       [0.        , 0.        , 1.        , 0.        ],\n",
       "       [1.        , 0.        , 0.        , 0.        ]])"
      ]
     },
     "execution_count": 13,
     "metadata": {},
     "output_type": "execute_result"
    }
   ],
   "source": [
    "confidence"
   ]
  },
  {
   "cell_type": "markdown",
   "metadata": {},
   "source": [
    "## SVM"
   ]
  },
  {
   "cell_type": "code",
   "execution_count": 14,
   "metadata": {},
   "outputs": [],
   "source": [
    "from sklearn.svm import SVC"
   ]
  },
  {
   "cell_type": "code",
   "execution_count": 15,
   "metadata": {},
   "outputs": [
    {
     "data": {
      "text/plain": [
       "SVC(C=1.0, cache_size=200, class_weight=None, coef0=0.0,\n",
       "  decision_function_shape='ovr', degree=3, gamma='scale', kernel='rbf',\n",
       "  max_iter=-1, probability=False, random_state=None, shrinking=True,\n",
       "  tol=0.001, verbose=False)"
      ]
     },
     "execution_count": 15,
     "metadata": {},
     "output_type": "execute_result"
    }
   ],
   "source": [
    "svm_classifier = SVC(gamma='scale')\n",
    "svm_classifier.fit(X_train_pca, y_train_filename)"
   ]
  },
  {
   "cell_type": "code",
   "execution_count": 16,
   "metadata": {},
   "outputs": [
    {
     "name": "stdout",
     "output_type": "stream",
     "text": [
      "[[-0.24816251  0.82081083  2.04314422  3.38420746]\n",
      " [ 0.85501315  0.85082759  3.4202649   0.87389436]\n",
      " [-0.21756448  0.87066664  3.40821427  1.93868358]\n",
      " [-0.22077831  0.86016479  3.38091054  1.97970299]\n",
      " [-0.24283593  0.90965574  1.96039929  3.3727809 ]\n",
      " [-0.31157564  3.31991115  0.9429774   2.04868709]\n",
      " [ 3.37790497 -0.29159416  1.99107643  0.92261276]\n",
      " [-0.20802822  0.87881896  3.38012556  1.9490837 ]\n",
      " [-0.20704099  0.83182479  3.28714752  2.08806867]\n",
      " [ 0.79963455 -0.22693612  3.4454857   1.98181587]\n",
      " [-0.2602002   0.83846901  2.04162407  3.38010712]\n",
      " [ 1.90858349 -0.15545908  3.39174867  0.85512693]\n",
      " [-0.21436103  0.9739417   3.2352063   2.00521303]\n",
      " [-0.31117153  3.5         2.0086364   0.80253513]\n",
      " [ 0.83452851 -0.22103457  3.47699738  1.90950868]\n",
      " [-0.20644637  0.86968327  3.40661812  1.93014497]\n",
      " [-0.23598785  0.8316089   3.40562377  1.99875519]\n",
      " [-0.19126287  0.88044595  3.40452219  1.90629473]\n",
      " [-0.28725108  3.44555256  1.94226854  0.89942997]\n",
      " [-0.19547033  0.82663706  3.36571991  2.00311337]\n",
      " [-0.37020336  3.25352128  1.06714388  2.0495382 ]\n",
      " [-0.24069596  0.85741136  3.39569327  1.98759133]\n",
      " [ 3.38517473 -0.25313346  2.02403066  0.84392807]\n",
      " [-0.33749499  1.95548482  0.97827923  3.40373093]\n",
      " [-0.18052098  0.83778692  3.43211822  1.91061584]\n",
      " [ 0.85407334 -0.21402955  3.42850006  1.93145615]\n",
      " [ 2.20990504 -0.23381624  3.26753639  0.75637481]\n",
      " [-0.24416876  0.87983536  3.41647496  1.94785844]\n",
      " [-0.19363447  0.84100585  3.4116125   1.94101612]\n",
      " [ 1.89255134 -0.18108521  3.41591631  0.87261756]\n",
      " [-0.21313584  0.85747447  3.39943992  1.95622145]\n",
      " [-0.2743178   0.83943452  2.08097937  3.35390392]\n",
      " [ 1.96409253 -0.25174907  3.41150009  0.87615645]\n",
      " [ 0.84630509  0.85078987  3.41977755  0.8831275 ]\n",
      " [-0.25821066  0.84488868  2.05037786  3.36294411]\n",
      " [-0.21077754  3.39272845  1.97709745  0.84095164]\n",
      " [-0.23936285  0.86409933  3.43212563  1.9431379 ]\n",
      " [-0.19357364  0.87127385  3.43921958  1.88308021]\n",
      " [-0.20954132  0.8653002   3.4483839   1.89585722]\n",
      " [ 0.85639893 -0.1757624   3.41395931  1.90540416]\n",
      " [-0.19080283  0.82054575  3.4626343   1.90762279]\n",
      " [ 3.39284727 -0.27806646  2.01376057  0.87145862]\n",
      " [-0.20545428  0.81806702  2.01866784  3.36871942]\n",
      " [-0.19025932  0.83517937  3.39424349  1.96083646]\n",
      " [-0.24290002  0.82228182  2.04716216  3.37345604]\n",
      " [-0.16807641  0.9482935   3.23332789  1.98645502]\n",
      " [-0.28322278  1.01318869  3.16427117  2.10576292]\n",
      " [-0.28308899  3.38984996  0.9309338   1.96230523]\n",
      " [-0.25129662  0.96620832  1.98152051  3.30356779]\n",
      " [-0.23315593  0.8876936   3.3838972   1.96156514]\n",
      " [-0.23533881  0.93641214  2.0509809   3.24794578]\n",
      " [ 3.36724553 -0.25385254  2.03143935  0.85516766]\n",
      " [-0.33798841  3.43236387  0.95015282  1.95547173]\n",
      " [-0.21899015  0.86456774  3.42673082  1.92769159]\n",
      " [ 3.42298718 -0.26471121  2.00678843  0.8349356 ]\n",
      " [-0.16265887  0.94336662  3.23188128  1.98741098]\n",
      " [ 3.24691641 -0.29130259  1.00002801  2.04435817]]\n",
      "[4 3 3 3 4 2 1 3 3 3 4 3 3 2 3 3 3 3 2 3 2 3 1 4 3 3 3 3 3 3 3 4 3 3 4 2 3\n",
      " 3 3 3 3 1 4 3 4 3 3 2 4 3 4 1 2 3 1 3 1]\n",
      "[4, 3, 3, 3, 4, 2, 1, 3, 3, 3, 4, 3, 3, 2, 3, 3, 3, 3, 2, 3, 2, 3, 1, 4, 3, 3, 1, 3, 3, 3, 3, 4, 3, 3, 4, 2, 3, 3, 3, 3, 3, 1, 4, 3, 4, 3, 2, 2, 4, 3, 4, 1, 2, 3, 1, 3, 1]\n"
     ]
    }
   ],
   "source": [
    "confidence = svm_classifier.decision_function(X_test_pca)\n",
    "predicted = svm_classifier.predict(X_test_pca)\n",
    "\n",
    "print(confidence)\n",
    "print(predicted)\n",
    "print(y_test_filename)\n",
    "# print(accuracy_score(predicted, y_test_filename))\n",
    "# print(f1_score(predicted, y_test_filename, average='weighted'))"
   ]
  },
  {
   "cell_type": "markdown",
   "metadata": {},
   "source": [
    "## Matching using Distance"
   ]
  },
  {
   "cell_type": "code",
   "execution_count": 17,
   "metadata": {},
   "outputs": [],
   "source": [
    "from scipy.spatial.distance import euclidean"
   ]
  },
  {
   "cell_type": "code",
   "execution_count": 18,
   "metadata": {},
   "outputs": [],
   "source": [
    "def predict(image_pca_database, label_database, pca_data, top_N=3, majority_threshold=0.7):\n",
    "    distance_result_list = []\n",
    "    for idx, image_pca_iterator in enumerate(image_pca_database):\n",
    "        distance = euclidean(image_pca_iterator, pca_data)\n",
    "        distance_result_list.append((distance, label_database[idx]))\n",
    "    \n",
    "    distance_result_list.sort()\n",
    "    top_arr = []\n",
    "    for top_i in range(top_N):\n",
    "        top_arr.append(distance_result_list[top_i][1])\n",
    "    maximum_label = None\n",
    "    maximum_count = -1\n",
    "    for element in top_arr:\n",
    "        count_element = top_arr.count(element)\n",
    "        if count_element > maximum_count:\n",
    "            maximum_count = count_element\n",
    "            maximum_label = element\n",
    "            if maximum_count >= int(top_N * majority_threshold):\n",
    "                break\n",
    "    return maximum_label"
   ]
  },
  {
   "cell_type": "code",
   "execution_count": 19,
   "metadata": {},
   "outputs": [
    {
     "data": {
      "text/plain": [
       "4"
      ]
     },
     "execution_count": 19,
     "metadata": {},
     "output_type": "execute_result"
    }
   ],
   "source": [
    "predict(X_train_pca, y_train_filename, X_test_pca[0])"
   ]
  },
  {
   "cell_type": "code",
   "execution_count": 20,
   "metadata": {},
   "outputs": [],
   "source": [
    "predicted_result_list = []\n",
    "for pca_data in X_test_pca:\n",
    "    predicted_result_list.append(predict(X_train_pca, y_train_filename, pca_data))"
   ]
  },
  {
   "cell_type": "code",
   "execution_count": 21,
   "metadata": {
    "scrolled": true
   },
   "outputs": [
    {
     "data": {
      "text/plain": [
       "0.9649122807017544"
      ]
     },
     "execution_count": 21,
     "metadata": {},
     "output_type": "execute_result"
    }
   ],
   "source": [
    "accuracy_score(predicted_result_list, y_test_filename)"
   ]
  }
 ],
 "metadata": {
  "kernelspec": {
   "display_name": "Python 3",
   "language": "python",
   "name": "python3"
  },
  "language_info": {
   "codemirror_mode": {
    "name": "ipython",
    "version": 3
   },
   "file_extension": ".py",
   "mimetype": "text/x-python",
   "name": "python",
   "nbconvert_exporter": "python",
   "pygments_lexer": "ipython3",
   "version": "3.6.8"
  }
 },
 "nbformat": 4,
 "nbformat_minor": 2
}
