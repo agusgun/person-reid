{
 "cells": [
  {
   "cell_type": "markdown",
   "metadata": {},
   "source": [
    "# Comparison Using LFW Dataset - VGGFace (VGG16)"
   ]
  },
  {
   "cell_type": "markdown",
   "metadata": {},
   "source": [
    "Several feature extractor:\n",
    "1. Face Embedding: Facenet\n",
    "2. Face Embedding: VGG Face\n",
    "3. Face Embedding: VGG Face - VGG16\n",
    "4. Face Embedding: VGG Face - RESNET50\n",
    "5. LBPH (Local Binary Pattern Histogram)"
   ]
  },
  {
   "cell_type": "code",
   "execution_count": 1,
   "metadata": {},
   "outputs": [
    {
     "name": "stderr",
     "output_type": "stream",
     "text": [
      "/home/agusgun/anaconda3/envs/basic/lib/python3.6/site-packages/h5py/__init__.py:36: FutureWarning: Conversion of the second argument of issubdtype from `float` to `np.floating` is deprecated. In future, it will be treated as `np.float64 == np.dtype(float).type`.\n",
      "  from ._conv import register_converters as _register_converters\n",
      "Using TensorFlow backend.\n"
     ]
    }
   ],
   "source": [
    "from scipy.spatial.distance import euclidean\n",
    "from sklearn.metrics import accuracy_score, f1_score\n",
    "from keras import backend as K\n",
    "from feature_extractor.face_feature_extractor import FaceFeatureExtractor\n",
    "import numpy as np\n",
    "import cv2 as cv\n",
    "from mtcnn.mtcnn import MTCNN\n",
    "import matplotlib.pyplot as plt"
   ]
  },
  {
   "cell_type": "markdown",
   "metadata": {},
   "source": [
    "# Read Dataset"
   ]
  },
  {
   "cell_type": "code",
   "execution_count": 2,
   "metadata": {},
   "outputs": [],
   "source": [
    "import os"
   ]
  },
  {
   "cell_type": "code",
   "execution_count": 3,
   "metadata": {},
   "outputs": [],
   "source": [
    "DIR_PATH = '../lfw/'\n",
    "image_path_list = []\n",
    "labels = []\n",
    "name_dictionary = {}\n",
    "counter = 0\n",
    "for root, dirs, files in os.walk(DIR_PATH):\n",
    "    for filename in files:\n",
    "        person_name = ' '.join(filename.split('.')[0].split('_')[0:-1]) \n",
    "        file_path = os.path.join(root, filename)\n",
    "        if person_name not in name_dictionary:\n",
    "            counter += 1\n",
    "            name_dictionary[person_name] = counter\n",
    "        image_path_list.append(file_path)\n",
    "        labels.append(name_dictionary[person_name])"
   ]
  },
  {
   "cell_type": "code",
   "execution_count": 4,
   "metadata": {
    "scrolled": true
   },
   "outputs": [
    {
     "name": "stdout",
     "output_type": "stream",
     "text": [
      "13233\n",
      "13233\n"
     ]
    }
   ],
   "source": [
    "print(len(labels))\n",
    "print(len(image_path_list))"
   ]
  },
  {
   "cell_type": "code",
   "execution_count": 5,
   "metadata": {},
   "outputs": [
    {
     "data": {
      "text/plain": [
       "['../lfw/Ryan_Newman/Ryan_Newman_0001.jpg',\n",
       " '../lfw/Dimitar_Berbatov/Dimitar_Berbatov_0001.jpg',\n",
       " '../lfw/Ed_Rendell/Ed_Rendell_0001.jpg',\n",
       " '../lfw/Joe_Crede/Joe_Crede_0001.jpg',\n",
       " '../lfw/Norman_Mailer/Norman_Mailer_0001.jpg']"
      ]
     },
     "execution_count": 5,
     "metadata": {},
     "output_type": "execute_result"
    }
   ],
   "source": [
    "image_path_list[0:5]"
   ]
  },
  {
   "cell_type": "markdown",
   "metadata": {},
   "source": [
    "## Shuffle It"
   ]
  },
  {
   "cell_type": "code",
   "execution_count": 6,
   "metadata": {},
   "outputs": [],
   "source": [
    "import random"
   ]
  },
  {
   "cell_type": "code",
   "execution_count": 7,
   "metadata": {},
   "outputs": [],
   "source": [
    "temp = list(zip(image_path_list, labels))\n",
    "random.Random(0).shuffle(temp) # custom seed\n",
    "image_path_list, labels = zip(*temp)"
   ]
  },
  {
   "cell_type": "code",
   "execution_count": 8,
   "metadata": {},
   "outputs": [
    {
     "data": {
      "text/plain": [
       "('../lfw/Tommy_Maddox/Tommy_Maddox_0001.jpg',\n",
       " '../lfw/David_Millar/David_Millar_0001.jpg',\n",
       " '../lfw/Gregg_Popovich/Gregg_Popovich_0004.jpg',\n",
       " '../lfw/Shimon_Peres/Shimon_Peres_0001.jpg',\n",
       " '../lfw/Rudolph_Giuliani/Rudolph_Giuliani_0024.jpg')"
      ]
     },
     "execution_count": 8,
     "metadata": {},
     "output_type": "execute_result"
    }
   ],
   "source": [
    "image_path_list[0:5]"
   ]
  },
  {
   "cell_type": "code",
   "execution_count": 9,
   "metadata": {},
   "outputs": [
    {
     "data": {
      "text/plain": [
       "(3038, 1517, 3115, 834, 1016)"
      ]
     },
     "execution_count": 9,
     "metadata": {},
     "output_type": "execute_result"
    }
   ],
   "source": [
    "labels[0:5]"
   ]
  },
  {
   "cell_type": "code",
   "execution_count": 10,
   "metadata": {},
   "outputs": [
    {
     "data": {
      "text/plain": [
       "482"
      ]
     },
     "execution_count": 10,
     "metadata": {},
     "output_type": "execute_result"
    }
   ],
   "source": [
    "name_dictionary['John Ashcroft']"
   ]
  },
  {
   "cell_type": "markdown",
   "metadata": {},
   "source": [
    "# Experiment"
   ]
  },
  {
   "cell_type": "code",
   "execution_count": 11,
   "metadata": {},
   "outputs": [],
   "source": [
    "FACENET_MODEL_PATH = 'model_data/facenet/20180402-114759'\n",
    "VGGFACE_MODEL_PATH = 'model_data/vgg_face_weights.h5'"
   ]
  },
  {
   "cell_type": "code",
   "execution_count": 12,
   "metadata": {},
   "outputs": [
    {
     "name": "stdout",
     "output_type": "stream",
     "text": [
      "WARNING:tensorflow:From /home/agusgun/anaconda3/envs/basic/lib/python3.6/site-packages/mtcnn/layer_factory.py:211: calling reduce_max (from tensorflow.python.ops.math_ops) with keep_dims is deprecated and will be removed in a future version.\n",
      "Instructions for updating:\n",
      "keep_dims is deprecated, use keepdims instead\n",
      "WARNING:tensorflow:From /home/agusgun/anaconda3/envs/basic/lib/python3.6/site-packages/mtcnn/layer_factory.py:213: calling reduce_sum (from tensorflow.python.ops.math_ops) with keep_dims is deprecated and will be removed in a future version.\n",
      "Instructions for updating:\n",
      "keep_dims is deprecated, use keepdims instead\n"
     ]
    }
   ],
   "source": [
    "mtcnn_detector = MTCNN()"
   ]
  },
  {
   "cell_type": "code",
   "execution_count": 13,
   "metadata": {},
   "outputs": [],
   "source": [
    "def predict(image_representation_list, true_label, test_representation, min_distance):\n",
    "    minimum_label = None\n",
    "    minimum_distance = min_distance\n",
    "    \n",
    "    for idx, image_representation in enumerate(image_representation_list):\n",
    "        distance = euclidean(image_representation, test_representation)\n",
    "        if distance < minimum_distance:\n",
    "            minimum_distance = distance\n",
    "            minimum_label = true_label[idx]\n",
    "    \n",
    "    return minimum_label"
   ]
  },
  {
   "cell_type": "code",
   "execution_count": 14,
   "metadata": {},
   "outputs": [],
   "source": [
    "def compute_score(predictions, labels):\n",
    "    count_same = 0\n",
    "    for idx, prediction in enumerate(predictions):\n",
    "        if labels[idx] == prediction:\n",
    "            count_same += 1\n",
    "    return count_same / len(predictions)"
   ]
  },
  {
   "cell_type": "markdown",
   "metadata": {},
   "source": [
    "## VGGFace - VGG16"
   ]
  },
  {
   "cell_type": "markdown",
   "metadata": {},
   "source": [
    "Based on experiment VGGFace - VGG16 have distance below 95 for euclidean if two image are the same person"
   ]
  },
  {
   "cell_type": "code",
   "execution_count": 15,
   "metadata": {},
   "outputs": [],
   "source": [
    "feature_extractor = FaceFeatureExtractor(None, extractor_name='vgg_face_vgg16')"
   ]
  },
  {
   "cell_type": "markdown",
   "metadata": {},
   "source": [
    "### Testing Starts Here"
   ]
  },
  {
   "cell_type": "code",
   "execution_count": 16,
   "metadata": {},
   "outputs": [],
   "source": [
    "THRESHOLD = 95"
   ]
  },
  {
   "cell_type": "code",
   "execution_count": 17,
   "metadata": {},
   "outputs": [],
   "source": [
    "image_representation_database = []\n",
    "image_representation_labels = []\n",
    "prediction_result = []"
   ]
  },
  {
   "cell_type": "code",
   "execution_count": 18,
   "metadata": {},
   "outputs": [
    {
     "name": "stdout",
     "output_type": "stream",
     "text": [
      "Checkpoint 0\n",
      "Checkpoint 1000\n",
      "Checkpoint 2000\n",
      "Checkpoint 3000\n",
      "Checkpoint 4000\n",
      "Checkpoint 5000\n",
      "Checkpoint 6000\n",
      "Checkpoint 7000\n",
      "Checkpoint 8000\n",
      "Checkpoint 9000\n",
      "Checkpoint 10000\n",
      "Checkpoint 11000\n",
      "Checkpoint 12000\n",
      "Checkpoint 13000\n",
      "CPU times: user 4h 41min 24s, sys: 1h 12min 51s, total: 5h 54min 16s\n",
      "Wall time: 1h 1min 17s\n"
     ]
    }
   ],
   "source": [
    "%%time\n",
    "for idx, image_path in enumerate(image_path_list):\n",
    "    if idx % 1000 == 0:\n",
    "        print(\"Checkpoint\", idx)\n",
    "    img = cv.cvtColor(cv.imread(image_path), cv.COLOR_BGR2RGB)\n",
    "    detection_result = mtcnn_detector.detect_faces(img)\n",
    "    cropped_image = None\n",
    "    for face in detection_result:\n",
    "        face_bbox = face['box']\n",
    "        x, y, w, h = face_bbox\n",
    "        if x < 0:\n",
    "            x = 0\n",
    "        if y < 0:\n",
    "            y = 0\n",
    "        cropped_image = img[y:y+h, x:x+w]\n",
    "        break\n",
    "    \n",
    "    if not cropped_image is None:\n",
    "        feature_test = feature_extractor.extract_image(cropped_image)\n",
    "        prediction = predict(image_representation_database, image_representation_labels, feature_test, THRESHOLD)\n",
    "        if prediction == None:\n",
    "            label = labels[idx]\n",
    "            if label not in image_representation_labels:\n",
    "                image_representation_labels.append(label)\n",
    "                image_representation_database.append(feature_test)\n",
    "                prediction_result.append(label)\n",
    "            else: # false prediction\n",
    "                prediction_result.append(-1) \n",
    "        else:\n",
    "            prediction_result.append(prediction)\n",
    "    else: # failed to detect faces\n",
    "        prediction_result.append(-1)"
   ]
  },
  {
   "cell_type": "code",
   "execution_count": 19,
   "metadata": {},
   "outputs": [
    {
     "data": {
      "text/plain": [
       "array([7.10956514e-01, 6.23499870e-01, 2.00736523e+00, 2.21811786e-01,\n",
       "       1.10849090e-01, 1.34789670e+00, 3.71814394e+00, 4.20973569e-01,\n",
       "       4.89456058e-01, 5.40997458e+00, 1.41513538e+00, 3.39693522e+00,\n",
       "       3.96513772e+00, 4.52590561e+00, 3.52742732e-01, 0.00000000e+00,\n",
       "       1.81685376e+00, 3.15170377e-01, 4.03955841e+00, 3.87913322e+00,\n",
       "       2.65097618e+00, 0.00000000e+00, 5.49662924e+00, 1.34617674e+00,\n",
       "       0.00000000e+00, 2.08477211e+00, 1.64396811e+00, 5.60633469e+00,\n",
       "       4.18782085e-01, 1.59958565e+00, 8.65523458e-01, 1.50462985e-01,\n",
       "       0.00000000e+00, 2.11442852e+00, 5.56344795e+00, 4.31068778e-01,\n",
       "       8.59199703e-01, 9.23207581e-01, 2.05308700e+00, 3.42654490e+00,\n",
       "       4.07599735e+00, 4.58178854e+00, 0.00000000e+00, 1.99404061e+00,\n",
       "       0.00000000e+00, 1.39009148e-01, 1.81344724e+00, 9.82851148e-01,\n",
       "       4.52302742e+00, 1.75863862e+00, 3.60591626e+00, 1.95506632e+00,\n",
       "       2.73243380e+00, 3.08880186e+00, 1.14372447e-02, 2.66136169e+00,\n",
       "       2.16217637e+00, 2.15059683e-01, 0.00000000e+00, 2.15280867e+00,\n",
       "       1.78897798e+00, 2.02672791e+00, 5.91584504e-01, 1.97291815e+00,\n",
       "       5.01730561e-01, 1.54717779e+00, 2.19817472e+00, 0.00000000e+00,\n",
       "       2.32162285e+00, 2.19666004e+00, 7.86910820e+00, 3.88269210e+00,\n",
       "       0.00000000e+00, 3.22257489e-01, 2.09190488e+00, 1.91609859e+00,\n",
       "       2.32352745e-02, 0.00000000e+00, 8.81351888e-01, 2.60810733e+00,\n",
       "       0.00000000e+00, 2.87693620e+00, 3.01711297e+00, 3.74437332e+00,\n",
       "       4.91960144e+00, 5.05675125e+00, 3.22117597e-01, 5.41113758e+00,\n",
       "       7.17632580e+00, 1.06490862e+00, 3.55121702e-01, 6.91464186e-01,\n",
       "       0.00000000e+00, 4.72006464e+00, 7.33998585e+00, 3.55301309e+00,\n",
       "       3.58722162e+00, 1.30701101e+00, 1.48766613e+00, 1.65076995e+00,\n",
       "       0.00000000e+00, 9.94507134e-01, 1.20920789e+00, 1.65224147e+00,\n",
       "       1.03871310e+00, 0.00000000e+00, 1.80706382e-01, 3.08436298e+00,\n",
       "       1.64991641e+00, 3.03083587e+00, 1.09144535e+01, 2.82093477e+00,\n",
       "       1.29931393e+01, 8.83489490e-01, 4.74378490e+00, 3.43886232e+00,\n",
       "       8.57669830e+00, 4.93570185e+00, 1.22701240e+00, 2.88586259e-01,\n",
       "       1.03544152e+00, 3.39916617e-01, 1.07831430e+00, 2.07100701e+00,\n",
       "       3.62451375e-02, 1.28662482e-01, 2.33120632e+00, 6.12334967e-01,\n",
       "       0.00000000e+00, 6.91114426e+00, 1.37252557e+00, 1.07571192e-01,\n",
       "       1.03809595e+00, 2.16181922e+00, 2.01658607e+00, 8.19972992e+00,\n",
       "       5.10221529e+00, 1.59103966e+00, 2.93249440e+00, 1.13165796e+00,\n",
       "       3.35619330e-01, 3.20640373e+00, 1.02605987e+00, 4.91727543e+00,\n",
       "       1.33825600e-01, 7.49537611e+00, 3.41490006e+00, 4.49729681e+00,\n",
       "       1.23651326e+00, 3.90788674e+00, 4.69566494e-01, 1.57953529e+01,\n",
       "       1.27079391e+00, 4.86081362e+00, 3.79544199e-01, 8.79711211e-01,\n",
       "       1.83273673e+00, 4.63487959e+00, 7.29499996e-01, 2.54145765e+00,\n",
       "       3.55972219e+00, 2.73940742e-01, 1.06496716e+00, 3.61953163e+00,\n",
       "       4.82421577e-01, 2.98722935e+00, 9.20568764e-01, 4.29135621e-01,\n",
       "       8.83567147e-03, 0.00000000e+00, 6.20081902e-01, 1.99496222e+00,\n",
       "       7.48712480e-01, 9.31281662e+00, 0.00000000e+00, 4.86291742e+00,\n",
       "       1.33462274e+00, 2.58919168e+00, 6.16093218e-01, 9.60319698e-01,\n",
       "       0.00000000e+00, 1.93941641e+00, 4.07784653e+00, 3.34235042e-01,\n",
       "       2.65401435e+00, 2.03705263e+00, 7.31230915e-01, 5.92091620e-01,\n",
       "       7.69535065e-01, 2.81737876e+00, 0.00000000e+00, 0.00000000e+00,\n",
       "       0.00000000e+00, 5.57678699e+00, 2.91444087e+00, 1.11934364e+00,\n",
       "       6.39938354e-01, 1.48329568e+00, 3.19234085e+00, 1.07139021e-01,\n",
       "       3.78603721e+00, 2.52436876e+00, 2.11461574e-01, 8.44621468e+00,\n",
       "       2.80207419e+00, 2.20498109e+00, 1.36391449e+00, 3.20673442e+00,\n",
       "       1.74649334e+00, 2.27386546e+00, 1.38043833e+00, 4.17142838e-01,\n",
       "       1.57061851e+00, 1.95024502e+00, 1.06651855e+00, 3.06348920e-01,\n",
       "       3.08022237e+00, 0.00000000e+00, 1.18092203e+00, 8.49303365e-01,\n",
       "       4.36958265e+00, 5.58547401e+00, 1.45516253e+00, 1.54481602e+00,\n",
       "       4.78641319e+00, 4.68028247e-01, 1.86094069e+00, 4.98452520e+00,\n",
       "       4.92354095e-01, 4.06286144e+00, 0.00000000e+00, 4.34220028e+00,\n",
       "       8.62522185e-01, 9.12524164e-01, 0.00000000e+00, 4.06638956e+00,\n",
       "       6.44293547e+00, 3.46524644e+00, 9.87376976e+00, 9.50106740e-01,\n",
       "       3.87577564e-01, 0.00000000e+00, 2.97660697e-02, 6.86990547e+00,\n",
       "       1.10078208e-01, 9.72545922e-01, 6.02521133e+00, 2.81061625e+00,\n",
       "       7.25768328e-01, 2.06175160e+00, 1.10271215e+00, 2.12974787e+00,\n",
       "       5.69290698e-01, 6.74968290e+00, 5.23533297e+00, 0.00000000e+00,\n",
       "       4.12896776e+00, 9.54538465e-01, 2.22291064e+00, 0.00000000e+00,\n",
       "       0.00000000e+00, 3.99904084e+00, 5.90920353e+00, 5.97720087e-01,\n",
       "       1.70132482e+00, 7.60844946e-01, 2.52287447e-01, 0.00000000e+00,\n",
       "       1.56905565e+01, 3.90361714e+00, 1.31713307e+00, 2.91803777e-01,\n",
       "       5.88138282e-01, 6.40066862e-01, 1.04766774e+00, 0.00000000e+00,\n",
       "       2.19153953e+00, 1.03766413e+01, 6.19491959e+00, 7.67133772e-01,\n",
       "       7.89838457e+00, 1.03419867e+01, 5.57044983e-01, 1.29228437e+00,\n",
       "       3.78638816e+00, 9.51837897e-01, 8.37350178e+00, 3.66396403e+00,\n",
       "       5.69691420e+00, 2.15031457e+00, 2.65831089e+00, 9.63869810e-01,\n",
       "       3.10617745e-01, 6.52383089e-01, 4.51586914e+00, 6.36618853e+00,\n",
       "       0.00000000e+00, 2.34666049e-01, 1.05775639e-01, 4.28329855e-01,\n",
       "       1.73404121e+00, 5.83312929e-01, 1.93094349e+01, 1.82896543e+00,\n",
       "       3.70322680e+00, 7.57062078e-01, 1.06310778e+01, 2.10286140e+00,\n",
       "       7.64301047e-02, 1.57204235e+00, 4.18704629e-01, 9.70677948e+00,\n",
       "       1.95286393e-01, 2.72375512e+00, 2.61068016e-01, 3.37655973e+00,\n",
       "       2.19149923e+00, 2.01812172e+00, 2.88944674e+00, 3.32664847e-01,\n",
       "       3.65185118e+00, 7.60162115e-01, 1.55025885e-01, 2.62972546e+00,\n",
       "       1.11045766e+00, 5.78720093e+00, 8.95080757e+00, 4.25354749e-01,\n",
       "       3.30416751e+00, 4.32222366e-01, 5.25509596e+00, 3.96942353e+00,\n",
       "       1.30662084e+00, 5.07388473e-01, 2.75454807e+00, 7.09125376e+00,\n",
       "       0.00000000e+00, 2.15956140e+00, 2.22408819e+00, 3.86975384e+00,\n",
       "       2.29754472e+00, 1.86735928e+00, 2.84986639e+00, 0.00000000e+00,\n",
       "       1.82374966e+00, 2.52695227e+00, 2.82051921e+00, 4.25524569e+00,\n",
       "       5.91989326e+00, 1.20259643e+00, 0.00000000e+00, 1.24966908e+00,\n",
       "       6.08837509e+00, 4.68021774e+00, 1.65438235e+00, 1.57645434e-01,\n",
       "       1.23408163e+00, 5.11244726e+00, 0.00000000e+00, 1.49827337e+00,\n",
       "       3.72364092e+00, 2.61673594e+00, 1.94535995e+00, 1.57047796e+00,\n",
       "       3.53210717e-01, 8.23898986e-02, 9.51206970e+00, 0.00000000e+00,\n",
       "       4.24883080e+00, 3.22782087e+00, 2.64911413e-01, 0.00000000e+00,\n",
       "       2.05535245e+00, 4.93862152e+00, 4.53820419e+00, 5.83054185e-01,\n",
       "       9.19481575e-01, 2.53867745e+00, 9.29632708e-02, 5.28877854e-01,\n",
       "       2.77396965e+00, 4.69802713e+00, 3.07335091e+00, 5.81834316e+00,\n",
       "       4.56394672e+00, 0.00000000e+00, 8.47682667e+00, 5.24707854e-01,\n",
       "       1.16666734e-01, 7.05744886e+00, 8.16389561e-01, 2.32678533e+00,\n",
       "       1.42461860e+00, 1.61608174e-01, 8.10214937e-01, 1.10282697e-01,\n",
       "       1.62012172e+00, 3.35054231e+00, 1.07954960e+01, 2.29494095e+00,\n",
       "       4.56627655e+00, 2.11175609e+00, 2.53219891e+00, 3.12430286e+00,\n",
       "       3.13157892e+00, 3.54118037e+00, 1.37890065e+00, 2.59459710e+00,\n",
       "       7.60819018e-02, 3.55137169e-01, 6.37793541e-01, 1.56573725e+00,\n",
       "       1.84437111e-01, 0.00000000e+00, 5.48069894e-01, 5.70663071e+00,\n",
       "       1.59678745e+00, 1.50399256e+00, 8.07211325e-02, 2.92803615e-01,\n",
       "       1.00609863e+00, 2.60390490e-01, 0.00000000e+00, 5.02759933e+00,\n",
       "       8.04317713e-01, 1.61764467e+00, 5.74635983e+00, 3.16045582e-01,\n",
       "       6.70525551e-01, 2.47850990e+00, 3.92464101e-01, 3.48138332e+00,\n",
       "       5.56862712e-01, 4.17131138e+00, 3.62774879e-01, 0.00000000e+00,\n",
       "       3.78368425e+00, 2.53094149e+00, 5.14082074e-01, 1.82762957e+00,\n",
       "       2.04302335e+00, 9.35350513e+00, 6.01284623e-01, 7.31821728e+00,\n",
       "       5.26417315e-01, 1.80568993e-01, 1.19261539e+00, 1.40023661e+00,\n",
       "       4.13874769e+00, 4.35734034e-01, 1.61723018e+00, 5.81232166e+00,\n",
       "       4.75858164e+00, 8.92053890e+00, 8.69130254e-01, 0.00000000e+00,\n",
       "       4.43000376e-01, 8.77533495e-01, 2.70334268e+00, 1.57318830e+00,\n",
       "       4.89737749e+00, 1.23578024e+00, 9.65543687e-01, 3.24421310e+00,\n",
       "       1.29566878e-01, 6.18975782e+00, 5.80942535e+00, 5.60378432e-01,\n",
       "       1.66974962e+00, 3.01874900e+00, 3.10468972e-01, 0.00000000e+00,\n",
       "       3.01043415e+00, 7.93255925e-01, 0.00000000e+00, 3.56647944e+00,\n",
       "       1.43126595e+00, 6.22284770e-01, 7.80252886e+00, 1.35623169e+00,\n",
       "       4.29815722e+00, 1.63479400e+00, 1.34358311e+00, 1.89498615e+00,\n",
       "       5.90998125e+00, 1.52861798e+00, 1.11531425e+00, 1.94381452e+00,\n",
       "       4.69317734e-01, 2.07112956e+00, 2.59821236e-01, 4.16956806e+00,\n",
       "       8.56367826e-01, 2.06004843e-01, 6.67166615e+00, 1.22945011e+00,\n",
       "       1.61933243e+00, 3.84403646e-01, 2.84811211e+00, 1.49593800e-01,\n",
       "       9.32580650e-01, 7.21688807e-01, 1.22962836e-02, 9.67364430e-01,\n",
       "       4.60886806e-01, 4.04864967e-01, 1.20144939e+00, 5.76097345e+00,\n",
       "       5.26245070e+00, 7.35361910e+00, 4.23061657e+00, 0.00000000e+00],\n",
       "      dtype=float32)"
      ]
     },
     "execution_count": 19,
     "metadata": {},
     "output_type": "execute_result"
    }
   ],
   "source": [
    "feature_extractor.extract_image(img)"
   ]
  },
  {
   "cell_type": "code",
   "execution_count": 20,
   "metadata": {},
   "outputs": [
    {
     "data": {
      "text/plain": [
       "'../lfw/George_W_Bush/George_W_Bush_0233.jpg'"
      ]
     },
     "execution_count": 20,
     "metadata": {},
     "output_type": "execute_result"
    }
   ],
   "source": [
    "image_path_list[37]"
   ]
  },
  {
   "cell_type": "code",
   "execution_count": 21,
   "metadata": {},
   "outputs": [
    {
     "data": {
      "text/plain": [
       "0.3436106702939621"
      ]
     },
     "execution_count": 21,
     "metadata": {},
     "output_type": "execute_result"
    }
   ],
   "source": [
    "compute_score(prediction_result, labels)"
   ]
  },
  {
   "cell_type": "code",
   "execution_count": 22,
   "metadata": {},
   "outputs": [
    {
     "data": {
      "text/plain": [
       "13233"
      ]
     },
     "execution_count": 22,
     "metadata": {},
     "output_type": "execute_result"
    }
   ],
   "source": [
    "len(prediction_result)"
   ]
  },
  {
   "cell_type": "code",
   "execution_count": 23,
   "metadata": {},
   "outputs": [
    {
     "data": {
      "text/plain": [
       "13233"
      ]
     },
     "execution_count": 23,
     "metadata": {},
     "output_type": "execute_result"
    }
   ],
   "source": [
    "len(labels)"
   ]
  },
  {
   "cell_type": "code",
   "execution_count": 24,
   "metadata": {},
   "outputs": [],
   "source": [
    "# feature_extractor.extractor.close_session()"
   ]
  },
  {
   "cell_type": "code",
   "execution_count": 25,
   "metadata": {},
   "outputs": [],
   "source": [
    "image_path_list = sorted(image_path_list)"
   ]
  },
  {
   "cell_type": "code",
   "execution_count": 26,
   "metadata": {},
   "outputs": [
    {
     "data": {
      "text/plain": [
       "['../lfw/Abdullah_Gul/Abdullah_Gul_0001.jpg',\n",
       " '../lfw/Abdullah_Gul/Abdullah_Gul_0002.jpg',\n",
       " '../lfw/Abdullah_Gul/Abdullah_Gul_0003.jpg',\n",
       " '../lfw/Abdullah_Gul/Abdullah_Gul_0004.jpg',\n",
       " '../lfw/Abdullah_Gul/Abdullah_Gul_0005.jpg',\n",
       " '../lfw/Abdullah_Gul/Abdullah_Gul_0006.jpg',\n",
       " '../lfw/Abdullah_Gul/Abdullah_Gul_0007.jpg',\n",
       " '../lfw/Abdullah_Gul/Abdullah_Gul_0008.jpg',\n",
       " '../lfw/Abdullah_Gul/Abdullah_Gul_0009.jpg',\n",
       " '../lfw/Abdullah_Gul/Abdullah_Gul_0010.jpg',\n",
       " '../lfw/Abdullah_Gul/Abdullah_Gul_0011.jpg',\n",
       " '../lfw/Abdullah_Gul/Abdullah_Gul_0012.jpg',\n",
       " '../lfw/Abdullah_Gul/Abdullah_Gul_0013.jpg',\n",
       " '../lfw/Abdullah_Gul/Abdullah_Gul_0014.jpg',\n",
       " '../lfw/Abdullah_Gul/Abdullah_Gul_0015.jpg',\n",
       " '../lfw/Abdullah_Gul/Abdullah_Gul_0016.jpg',\n",
       " '../lfw/Abdullah_Gul/Abdullah_Gul_0017.jpg',\n",
       " '../lfw/Abdullah_Gul/Abdullah_Gul_0018.jpg',\n",
       " '../lfw/Abdullah_Gul/Abdullah_Gul_0019.jpg']"
      ]
     },
     "execution_count": 26,
     "metadata": {},
     "output_type": "execute_result"
    }
   ],
   "source": [
    "image_path_list[31:50]"
   ]
  },
  {
   "cell_type": "code",
   "execution_count": 27,
   "metadata": {},
   "outputs": [
    {
     "name": "stdout",
     "output_type": "stream",
     "text": [
      "Checkpoint 0\n",
      "CPU times: user 1.22 s, sys: 336 ms, total: 1.55 s\n",
      "Wall time: 249 ms\n"
     ]
    }
   ],
   "source": [
    "%%time\n",
    "for idx, image_path in enumerate(image_path_list[31:32]):\n",
    "    if idx % 1000 == 0:\n",
    "        print(\"Checkpoint\", idx)\n",
    "    img = cv.cvtColor(cv.imread(image_path), cv.COLOR_BGR2RGB)\n",
    "    detection_result = mtcnn_detector.detect_faces(img)\n",
    "    cropped_image = None\n",
    "    for face in detection_result:\n",
    "        face_bbox = face['box']\n",
    "        x, y, w, h = face_bbox\n",
    "        if x < 0:\n",
    "            x = 0\n",
    "        if y < 0:\n",
    "            y = 0\n",
    "        cropped_image = img[y:y+h, x:x+w]\n",
    "        break\n",
    "    \n",
    "    if not cropped_image is None:\n",
    "        feature_test = feature_extractor.extract_image(cropped_image)\n",
    "        prediction = predict(image_representation_database, image_representation_labels, feature_test, THRESHOLD)\n",
    "        if prediction == None:\n",
    "            label = labels[idx]\n",
    "            if label not in image_representation_labels:\n",
    "                image_representation_labels.append(label)\n",
    "                image_representation_database.append(feature_test)\n",
    "                prediction_result.append(label)\n",
    "            else: # false prediction\n",
    "                prediction_result.append(-1) \n",
    "        else:\n",
    "            prediction_result.append(prediction)\n",
    "    else: # failed to detect faces\n",
    "        prediction_result.append(-1)"
   ]
  },
  {
   "cell_type": "code",
   "execution_count": 28,
   "metadata": {
    "scrolled": true
   },
   "outputs": [
    {
     "data": {
      "text/plain": [
       "array([4.65718478e-01, 7.17355919e+00, 1.02863121e+00, 3.69372582e+00,\n",
       "       0.00000000e+00, 5.61206520e-01, 2.21609616e+00, 3.97615433e+00,\n",
       "       1.13573246e+01, 1.92073703e+00, 3.36199856e+00, 2.14290071e+00,\n",
       "       6.93783617e+00, 3.55302334e+00, 1.44352703e+01, 7.30758619e+00,\n",
       "       6.03733718e-01, 7.17423964e+00, 1.94288135e-01, 4.22098112e+00,\n",
       "       5.83752453e-01, 2.74037290e+00, 9.79675865e+00, 2.27779579e+00,\n",
       "       0.00000000e+00, 8.42406034e-01, 7.48322248e-01, 2.18280271e-01,\n",
       "       1.02587938e+01, 2.79036582e-01, 5.75377989e+00, 1.28302937e+01,\n",
       "       1.83160210e+00, 9.86547756e+00, 1.32050447e+01, 7.49301314e-01,\n",
       "       3.91818428e+00, 1.26217842e-01, 1.14301097e+00, 5.35817623e-01,\n",
       "       5.88977098e-01, 8.46186924e+00, 4.31389809e+00, 8.48773956e+00,\n",
       "       2.14935184e+00, 9.26305473e-01, 3.10160017e+00, 0.00000000e+00,\n",
       "       4.73534393e+00, 3.64004135e+00, 2.50589561e+00, 0.00000000e+00,\n",
       "       9.40837622e-01, 1.50598609e+00, 1.25661302e+00, 1.68752408e+00,\n",
       "       4.11785316e+00, 1.03661880e+01, 7.54964066e+00, 2.17030533e-02,\n",
       "       9.60341245e-02, 6.86143446e+00, 4.32581949e+00, 8.08651447e+00,\n",
       "       6.78574368e-02, 6.80428934e+00, 2.46903825e+00, 4.27399826e+00,\n",
       "       1.51688182e+00, 4.74274969e+00, 1.31079984e+00, 3.84124184e+00,\n",
       "       1.08119622e-01, 1.32868690e+01, 1.02705631e+01, 8.41245353e-01,\n",
       "       1.77614880e+00, 2.28388333e+00, 4.30874252e+00, 1.56061659e+01,\n",
       "       6.99347162e+00, 8.05334151e-01, 3.76417708e+00, 1.72938240e+00,\n",
       "       6.29900646e+00, 2.80138820e-01, 5.92433251e-02, 3.52131158e-01,\n",
       "       5.02265882e+00, 1.71480823e+00, 5.48339605e+00, 6.30814886e+00,\n",
       "       1.72480774e+01, 6.66897440e+00, 3.37005347e-01, 1.76314369e-01,\n",
       "       5.95769465e-01, 5.20672894e+00, 3.32017541e+00, 3.03561163e+00,\n",
       "       1.70376849e+00, 1.50761259e+00, 3.53611290e-01, 3.54531765e+00,\n",
       "       0.00000000e+00, 1.01547184e+01, 4.67877579e+00, 4.13938141e+00,\n",
       "       6.31843901e+00, 5.61278641e-01, 4.88465726e-01, 1.60654616e+00,\n",
       "       2.59014559e+00, 1.54560015e-01, 9.19503123e-02, 1.17571993e+01,\n",
       "       4.57850313e+00, 7.07370996e+00, 4.54997015e+00, 1.09331667e+00,\n",
       "       4.64907408e-01, 5.79982325e-02, 2.28497553e+00, 5.90501165e+00,\n",
       "       2.22050920e-01, 1.48024070e+00, 1.02513599e+01, 8.02591896e+00,\n",
       "       4.11880732e+00, 7.81741524e+00, 7.54051590e+00, 9.36247253e+00,\n",
       "       1.59426470e+01, 1.24669635e+00, 2.65012789e+00, 0.00000000e+00,\n",
       "       4.09703541e+00, 0.00000000e+00, 2.01658487e+00, 5.92737150e+00,\n",
       "       1.24218273e+00, 5.92403841e+00, 1.19549770e+01, 2.84728265e+00,\n",
       "       7.14132607e-01, 1.26978016e+00, 5.22150421e+00, 3.90983748e+00,\n",
       "       2.10097218e+00, 1.81985602e-01, 9.68957067e-01, 6.36549592e-02,\n",
       "       0.00000000e+00, 0.00000000e+00, 1.34278452e-02, 7.75220203e+00,\n",
       "       3.79752326e+00, 1.58574572e+01, 3.70028877e+00, 2.73836076e-01,\n",
       "       1.07422698e+00, 1.82793369e+01, 5.18248081e-01, 3.41716194e+00,\n",
       "       3.04910922e+00, 1.47809041e+00, 2.34765206e-02, 4.12495041e+00,\n",
       "       1.12688513e+01, 2.54574323e+00, 4.14484358e+00, 1.73102398e+01,\n",
       "       4.62547207e+00, 0.00000000e+00, 1.66768956e+00, 1.94401038e+00,\n",
       "       7.51227587e-02, 2.19056726e+00, 4.49704111e-01, 4.66748238e+00,\n",
       "       4.43047571e+00, 3.22508955e+00, 7.35256577e+00, 2.31178164e-01,\n",
       "       0.00000000e+00, 1.95543587e+00, 2.27137542e+00, 5.56490421e+00,\n",
       "       5.97614813e+00, 1.71404114e+01, 1.64081955e+01, 7.51619482e+00,\n",
       "       1.36850996e+01, 3.11348915e+00, 1.02479935e+01, 8.85757446e-01,\n",
       "       1.64642441e+00, 1.13716784e+01, 1.80522861e+01, 3.32249546e+00,\n",
       "       2.81702900e+00, 1.81802893e+00, 6.76567078e-01, 3.36373985e-01,\n",
       "       5.21671200e+00, 4.12568712e+00, 0.00000000e+00, 4.58137131e+00,\n",
       "       4.42222738e+00, 2.55081415e+00, 1.79538989e+00, 9.69485664e+00,\n",
       "       1.63600445e+00, 7.14433241e+00, 1.28333294e+00, 5.39907627e-02,\n",
       "       1.69425952e+00, 1.24158125e+01, 3.45089626e+00, 1.89271224e+00,\n",
       "       4.57524824e+00, 2.45121837e+00, 1.23171008e+00, 6.37299061e-01,\n",
       "       1.51293535e+01, 3.11999631e+00, 3.68267012e+00, 7.68082142e-01,\n",
       "       6.26117736e-02, 4.09702492e+00, 1.13596189e+00, 6.96538925e+00,\n",
       "       1.06183663e-01, 5.34704828e+00, 1.97484283e+01, 2.72625089e+00,\n",
       "       3.76600480e+00, 2.47996712e+00, 3.35565448e-01, 7.00957584e+00,\n",
       "       6.15139151e+00, 9.75722980e+00, 7.10862756e-01, 5.23624361e-01,\n",
       "       1.91803455e+00, 3.07240200e+00, 1.76780093e+00, 4.76402998e-01,\n",
       "       6.18374491e+00, 3.30927444e+00, 5.10847926e-01, 4.72114182e+00,\n",
       "       1.55086875e-01, 6.58582115e+00, 3.19790530e+00, 1.67717393e-02,\n",
       "       5.97688377e-01, 9.40779400e+00, 1.51676683e+01, 8.29324341e+00,\n",
       "       3.23939323e+00, 3.11641765e+00, 6.20048881e-01, 1.62804067e+00,\n",
       "       8.15896416e+00, 5.67852545e+00, 4.94503927e+00, 2.28804320e-01,\n",
       "       1.31383157e+00, 1.06877375e+00, 8.91859245e+00, 1.78112373e+01,\n",
       "       1.31467021e+00, 2.65150607e-01, 2.04239044e+01, 1.95207274e+00,\n",
       "       2.72855453e+01, 7.99745142e-01, 2.15089321e+00, 1.88430309e+00,\n",
       "       1.07830155e+00, 1.15259719e+00, 6.02321625e+00, 2.67952466e+00,\n",
       "       2.06169510e+00, 1.80516851e+00, 4.92909342e-01, 7.84142971e-01,\n",
       "       1.31754303e+00, 1.24366748e+00, 1.02012312e+00, 5.60073709e+00,\n",
       "       2.22863173e+00, 5.37247086e+00, 2.25914836e+00, 4.60494232e+00,\n",
       "       7.28892040e+00, 1.04058916e-02, 3.70419073e+00, 2.04832697e+00,\n",
       "       9.59779263e-01, 3.26957083e+00, 1.80597568e+00, 3.12572956e-01,\n",
       "       3.65283132e+00, 4.13896465e+00, 8.17079735e+00, 3.17828584e+00,\n",
       "       4.21706295e+00, 1.01523962e+01, 2.86772537e+00, 2.72689080e+00,\n",
       "       8.72107315e+00, 3.31629968e+00, 1.44619942e+01, 1.84818864e+00,\n",
       "       7.08319426e+00, 1.25355787e+01, 4.96973515e+00, 6.46261454e+00,\n",
       "       1.43461714e+01, 1.07811842e+01, 1.91604221e+00, 1.18543839e+00,\n",
       "       8.94958079e-01, 7.48710454e-01, 4.77611637e+00, 1.22881758e+00,\n",
       "       5.06337786e+00, 3.63390326e+00, 1.68650961e+00, 8.95825577e+00,\n",
       "       1.40369501e+01, 9.84290481e-01, 2.11900139e+00, 0.00000000e+00,\n",
       "       6.89527094e-01, 2.04067659e+00, 1.32857680e-01, 1.45028651e+00,\n",
       "       5.25641620e-01, 8.67579937e+00, 2.26943493e+00, 1.83927417e+00,\n",
       "       7.05328047e-01, 6.75780106e+00, 1.14294507e-01, 6.63567781e-02,\n",
       "       1.13715458e+01, 1.27576904e+01, 1.64950252e-01, 1.09228106e+01,\n",
       "       7.58152294e+00, 7.75278807e-01, 8.30897212e-01, 7.10388422e-01,\n",
       "       8.53381157e-01, 8.34407628e-01, 1.65983117e+00, 3.65686446e-01,\n",
       "       7.54092455e+00, 1.78360403e+00, 2.66205025e+00, 4.88145733e+00,\n",
       "       5.17805243e+00, 4.91872025e+00, 4.93021154e+00, 5.82311964e+00,\n",
       "       3.01021427e-01, 1.92939358e+01, 3.99301499e-01, 7.97595918e-01,\n",
       "       1.42878838e+01, 4.08754736e-01, 1.09950352e+00, 7.15695238e+00,\n",
       "       3.28443193e+00, 0.00000000e+00, 1.10231562e+01, 2.89932346e+00,\n",
       "       3.14189911e-01, 1.00554907e+00, 8.72176886e-01, 4.12934971e+00,\n",
       "       7.36238813e+00, 2.01157236e+00, 7.35520792e+00, 3.67077410e-01,\n",
       "       6.22304320e-01, 5.13795519e+00, 5.79444981e+00, 2.93768239e+00,\n",
       "       1.16471291e+00, 7.03102875e+00, 2.01181197e+00, 9.02162266e+00,\n",
       "       7.15704107e+00, 4.00645249e-02, 1.04666376e+00, 1.10859287e+00,\n",
       "       3.75220609e+00, 1.83959413e+00, 5.58665097e-01, 2.96969914e+00,\n",
       "       5.50850391e+00, 1.51820585e-01, 3.11861604e-01, 6.10489273e+00,\n",
       "       1.76922703e+01, 6.96676910e-01, 2.99501228e+00, 3.17181140e-01,\n",
       "       2.06371993e-01, 2.94863853e+01, 6.43199086e-01, 4.43832636e+00,\n",
       "       8.95990562e+00, 2.84122181e+00, 9.47171271e-01, 7.68716192e+00,\n",
       "       1.52254272e+00, 1.31585169e+00, 1.49451618e+01, 4.13421249e+00,\n",
       "       7.67937005e-01, 6.97737598e+00, 2.07379031e+00, 1.35782423e+01,\n",
       "       3.24718857e+00, 3.89401841e+00, 6.52613497e+00, 6.33619595e+00,\n",
       "       1.01018171e+01, 2.31843328e+00, 5.85650587e+00, 1.67083219e-01,\n",
       "       1.48018643e-01, 9.49901164e-01, 7.75135338e-01, 2.09617949e+00,\n",
       "       0.00000000e+00, 1.19238544e+00, 1.03820753e+00, 6.67236924e-01,\n",
       "       0.00000000e+00, 1.11282095e-01, 0.00000000e+00, 5.20399928e-01,\n",
       "       0.00000000e+00, 3.81329465e+00, 1.44954824e+00, 9.37396526e-01,\n",
       "       5.16974592e+00, 3.23331022e+00, 2.04851007e+00, 4.24661827e+00,\n",
       "       1.30184472e+00, 1.27815902e+00, 2.46341991e+00, 4.05789948e+00,\n",
       "       6.13814735e+00, 8.07157326e+00, 6.22496605e-01, 5.86847723e-01,\n",
       "       1.99006653e+00, 2.17295215e-01, 1.57385755e+00, 1.19779862e-01,\n",
       "       7.79008102e+00, 6.05961514e+00, 5.72809649e+00, 1.11506214e+01,\n",
       "       1.70257664e+00, 5.02402115e+00, 7.02471375e-01, 1.77623904e+00,\n",
       "       9.44483280e-01, 8.26904178e-02, 5.36757183e+00, 2.72080207e+00,\n",
       "       3.91052961e-01, 5.16052425e-01, 4.51093721e+00, 7.24501312e-01,\n",
       "       7.68399090e-02, 4.62935257e+00, 1.03999031e+00, 1.03555977e+00,\n",
       "       7.71879911e+00, 3.76948762e+00, 2.82954478e+00, 7.54927921e+00,\n",
       "       3.26686192e+00, 5.16498995e+00, 3.89410019e+00, 3.45853877e+00,\n",
       "       2.98048859e+01, 3.44386101e+00, 1.54262829e+00, 3.53115535e+00,\n",
       "       1.90537834e+00, 3.48793960e+00, 1.46314468e+01, 7.20841312e+00,\n",
       "       2.55012536e+00, 5.69686031e+00, 2.91187048e+00, 3.71037453e-01,\n",
       "       3.68133664e+00, 2.68757846e-02, 1.08947077e+01, 6.00492525e+00],\n",
       "      dtype=float32)"
      ]
     },
     "execution_count": 28,
     "metadata": {},
     "output_type": "execute_result"
    }
   ],
   "source": [
    "base_feature = feature_test.copy()\n",
    "base_feature"
   ]
  },
  {
   "cell_type": "code",
   "execution_count": 29,
   "metadata": {},
   "outputs": [
    {
     "name": "stdout",
     "output_type": "stream",
     "text": [
      "Checkpoint 0\n",
      "0.0\n",
      "95.87703704833984\n",
      "84.3180160522461\n",
      "101.34901428222656\n",
      "81.51607513427734\n",
      "72.37901306152344\n",
      "64.24150085449219\n",
      "83.32807159423828\n",
      "117.56531524658203\n",
      "90.58826446533203\n",
      "64.10580444335938\n",
      "88.19580841064453\n",
      "70.6436996459961\n",
      "73.2634506225586\n",
      "78.26561737060547\n",
      "90.03889465332031\n",
      "72.2740478515625\n",
      "100.68028259277344\n",
      "80.21116638183594\n",
      "CPU times: user 40.5 s, sys: 5.94 s, total: 46.4 s\n",
      "Wall time: 7.11 s\n"
     ]
    }
   ],
   "source": [
    "%%time\n",
    "for idx, image_path in enumerate(image_path_list[31:50]):\n",
    "    if idx % 1000 == 0:\n",
    "        print(\"Checkpoint\", idx)\n",
    "    img = cv.cvtColor(cv.imread(image_path), cv.COLOR_BGR2RGB)\n",
    "    detection_result = mtcnn_detector.detect_faces(img)\n",
    "    cropped_image = None\n",
    "    for face in detection_result:\n",
    "        face_bbox = face['box']\n",
    "        x, y, w, h = face_bbox\n",
    "        if x < 0:\n",
    "            x = 0\n",
    "        if y < 0:\n",
    "            y = 0\n",
    "        cropped_image = img[y:y+h, x:x+w]\n",
    "        break\n",
    "    \n",
    "    if not cropped_image is None:\n",
    "        feature_test = feature_extractor.extract_image(cropped_image)\n",
    "        distance = euclidean(feature_test, base_feature)\n",
    "        print(distance)"
   ]
  },
  {
   "cell_type": "code",
   "execution_count": 30,
   "metadata": {},
   "outputs": [
    {
     "name": "stdout",
     "output_type": "stream",
     "text": [
      "Checkpoint 0\n",
      "135.57504272460938\n",
      "146.82711791992188\n",
      "132.0380401611328\n",
      "116.71697998046875\n",
      "108.9965591430664\n",
      "115.4239730834961\n",
      "114.09256744384766\n",
      "119.49925231933594\n",
      "127.69943237304688\n",
      "120.90898132324219\n",
      "129.04684448242188\n",
      "112.8216781616211\n",
      "106.85029602050781\n",
      "123.42777252197266\n",
      "118.61515808105469\n",
      "109.36315155029297\n",
      "113.8707275390625\n",
      "119.15155792236328\n",
      "127.2124252319336\n",
      "125.74362182617188\n",
      "132.28395080566406\n",
      "126.56423950195312\n",
      "142.0778045654297\n",
      "110.94503784179688\n",
      "145.28713989257812\n",
      "118.19072723388672\n",
      "118.54680633544922\n",
      "116.43965911865234\n",
      "121.696044921875\n",
      "118.87250518798828\n",
      "CPU times: user 56.1 s, sys: 12 s, total: 1min 8s\n",
      "Wall time: 11.1 s\n"
     ]
    }
   ],
   "source": [
    "%%time\n",
    "for idx, image_path in enumerate(image_path_list[0:30]):\n",
    "    if idx % 1000 == 0:\n",
    "        print(\"Checkpoint\", idx)\n",
    "    img = cv.cvtColor(cv.imread(image_path), cv.COLOR_BGR2RGB)\n",
    "    detection_result = mtcnn_detector.detect_faces(img)\n",
    "    cropped_image = None\n",
    "    for face in detection_result:\n",
    "        face_bbox = face['box']\n",
    "        x, y, w, h = face_bbox\n",
    "        if x < 0:\n",
    "            x = 0\n",
    "        if y < 0:\n",
    "            y = 0\n",
    "        cropped_image = img[y:y+h, x:x+w]\n",
    "        break\n",
    "    \n",
    "    if not cropped_image is None:\n",
    "        feature_test = feature_extractor.extract_image(cropped_image)\n",
    "        distance = euclidean(feature_test, base_feature)\n",
    "        print(distance)"
   ]
  }
 ],
 "metadata": {
  "kernelspec": {
   "display_name": "Python 3",
   "language": "python",
   "name": "python3"
  },
  "language_info": {
   "codemirror_mode": {
    "name": "ipython",
    "version": 3
   },
   "file_extension": ".py",
   "mimetype": "text/x-python",
   "name": "python",
   "nbconvert_exporter": "python",
   "pygments_lexer": "ipython3",
   "version": "3.6.8"
  }
 },
 "nbformat": 4,
 "nbformat_minor": 2
}
