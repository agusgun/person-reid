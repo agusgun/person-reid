{
 "cells": [
  {
   "cell_type": "markdown",
   "metadata": {},
   "source": [
    "# Finding Threshold"
   ]
  },
  {
   "cell_type": "markdown",
   "metadata": {},
   "source": [
    "Several feature extractor:\n",
    "1. Face Embedding: Facenet\n",
    "2. Face Embedding: VGG Face\n",
    "3. Face Embedding: VGG Face - VGG16\n",
    "4. Face Embedding: VGG Face - RESNET50\n",
    "5. LBPH (Local Binary Pattern Histogram)"
   ]
  },
  {
   "cell_type": "code",
   "execution_count": 1,
   "metadata": {},
   "outputs": [
    {
     "name": "stderr",
     "output_type": "stream",
     "text": [
      "Using TensorFlow backend.\n"
     ]
    }
   ],
   "source": [
    "from scipy.spatial.distance import euclidean\n",
    "from sklearn.metrics import accuracy_score, f1_score\n",
    "from keras import backend as K\n",
    "from feature_extractor.face_feature_extractor import FaceFeatureExtractor\n",
    "import numpy as np\n",
    "import cv2 as cv\n",
    "from mtcnn.mtcnn import MTCNN\n",
    "import matplotlib.pyplot as plt"
   ]
  },
  {
   "cell_type": "markdown",
   "metadata": {},
   "source": [
    "# Read Dataset"
   ]
  },
  {
   "cell_type": "code",
   "execution_count": 2,
   "metadata": {},
   "outputs": [],
   "source": [
    "import os"
   ]
  },
  {
   "cell_type": "code",
   "execution_count": 3,
   "metadata": {},
   "outputs": [],
   "source": [
    "DIR_PATH = '../lfw/'\n",
    "image_path_list = []\n",
    "labels = []\n",
    "name_dictionary = {}\n",
    "counter = 0\n",
    "for root, dirs, files in os.walk(DIR_PATH):\n",
    "    for filename in files:\n",
    "        person_name = ' '.join(filename.split('.')[0].split('_')[0:-1]) \n",
    "        file_path = os.path.join(root, filename)\n",
    "        if person_name not in name_dictionary:\n",
    "            counter += 1\n",
    "            name_dictionary[person_name] = counter\n",
    "        image_path_list.append(file_path)\n",
    "        labels.append(name_dictionary[person_name])"
   ]
  },
  {
   "cell_type": "code",
   "execution_count": 4,
   "metadata": {
    "scrolled": true
   },
   "outputs": [
    {
     "name": "stdout",
     "output_type": "stream",
     "text": [
      "13233\n",
      "13233\n"
     ]
    }
   ],
   "source": [
    "print(len(labels))\n",
    "print(len(image_path_list))"
   ]
  },
  {
   "cell_type": "code",
   "execution_count": 5,
   "metadata": {},
   "outputs": [
    {
     "data": {
      "text/plain": [
       "['../lfw/Ryan_Newman/Ryan_Newman_0001.jpg',\n",
       " '../lfw/Dimitar_Berbatov/Dimitar_Berbatov_0001.jpg',\n",
       " '../lfw/Ed_Rendell/Ed_Rendell_0001.jpg',\n",
       " '../lfw/Joe_Crede/Joe_Crede_0001.jpg',\n",
       " '../lfw/Norman_Mailer/Norman_Mailer_0001.jpg']"
      ]
     },
     "execution_count": 5,
     "metadata": {},
     "output_type": "execute_result"
    }
   ],
   "source": [
    "image_path_list[0:5]"
   ]
  },
  {
   "cell_type": "code",
   "execution_count": 6,
   "metadata": {},
   "outputs": [],
   "source": [
    "image_path_list = sorted(image_path_list)"
   ]
  },
  {
   "cell_type": "code",
   "execution_count": 7,
   "metadata": {},
   "outputs": [
    {
     "data": {
      "text/plain": [
       "['../lfw/Arnold_Schwarzenegger/Arnold_Schwarzenegger_0001.jpg',\n",
       " '../lfw/Arnold_Schwarzenegger/Arnold_Schwarzenegger_0002.jpg',\n",
       " '../lfw/Arnold_Schwarzenegger/Arnold_Schwarzenegger_0003.jpg',\n",
       " '../lfw/Arnold_Schwarzenegger/Arnold_Schwarzenegger_0004.jpg',\n",
       " '../lfw/Arnold_Schwarzenegger/Arnold_Schwarzenegger_0005.jpg',\n",
       " '../lfw/Arnold_Schwarzenegger/Arnold_Schwarzenegger_0006.jpg',\n",
       " '../lfw/Arnold_Schwarzenegger/Arnold_Schwarzenegger_0007.jpg',\n",
       " '../lfw/Arnold_Schwarzenegger/Arnold_Schwarzenegger_0008.jpg',\n",
       " '../lfw/Arnold_Schwarzenegger/Arnold_Schwarzenegger_0009.jpg',\n",
       " '../lfw/Arnold_Schwarzenegger/Arnold_Schwarzenegger_0010.jpg',\n",
       " '../lfw/Arnold_Schwarzenegger/Arnold_Schwarzenegger_0011.jpg',\n",
       " '../lfw/Arnold_Schwarzenegger/Arnold_Schwarzenegger_0012.jpg',\n",
       " '../lfw/Arnold_Schwarzenegger/Arnold_Schwarzenegger_0013.jpg',\n",
       " '../lfw/Arnold_Schwarzenegger/Arnold_Schwarzenegger_0014.jpg',\n",
       " '../lfw/Arnold_Schwarzenegger/Arnold_Schwarzenegger_0015.jpg',\n",
       " '../lfw/Arnold_Schwarzenegger/Arnold_Schwarzenegger_0016.jpg',\n",
       " '../lfw/Arnold_Schwarzenegger/Arnold_Schwarzenegger_0017.jpg',\n",
       " '../lfw/Arnold_Schwarzenegger/Arnold_Schwarzenegger_0018.jpg',\n",
       " '../lfw/Arnold_Schwarzenegger/Arnold_Schwarzenegger_0019.jpg',\n",
       " '../lfw/Arnold_Schwarzenegger/Arnold_Schwarzenegger_0020.jpg',\n",
       " '../lfw/Arnold_Schwarzenegger/Arnold_Schwarzenegger_0021.jpg',\n",
       " '../lfw/Arnold_Schwarzenegger/Arnold_Schwarzenegger_0022.jpg',\n",
       " '../lfw/Arnold_Schwarzenegger/Arnold_Schwarzenegger_0023.jpg',\n",
       " '../lfw/Arnold_Schwarzenegger/Arnold_Schwarzenegger_0024.jpg',\n",
       " '../lfw/Arnold_Schwarzenegger/Arnold_Schwarzenegger_0025.jpg',\n",
       " '../lfw/Arnold_Schwarzenegger/Arnold_Schwarzenegger_0026.jpg',\n",
       " '../lfw/Arnold_Schwarzenegger/Arnold_Schwarzenegger_0027.jpg',\n",
       " '../lfw/Arnold_Schwarzenegger/Arnold_Schwarzenegger_0028.jpg',\n",
       " '../lfw/Arnold_Schwarzenegger/Arnold_Schwarzenegger_0029.jpg',\n",
       " '../lfw/Arnold_Schwarzenegger/Arnold_Schwarzenegger_0030.jpg',\n",
       " '../lfw/Arnold_Schwarzenegger/Arnold_Schwarzenegger_0031.jpg',\n",
       " '../lfw/Arnold_Schwarzenegger/Arnold_Schwarzenegger_0032.jpg',\n",
       " '../lfw/Arnold_Schwarzenegger/Arnold_Schwarzenegger_0033.jpg',\n",
       " '../lfw/Arnold_Schwarzenegger/Arnold_Schwarzenegger_0034.jpg',\n",
       " '../lfw/Arnold_Schwarzenegger/Arnold_Schwarzenegger_0035.jpg',\n",
       " '../lfw/Arnold_Schwarzenegger/Arnold_Schwarzenegger_0036.jpg',\n",
       " '../lfw/Arnold_Schwarzenegger/Arnold_Schwarzenegger_0037.jpg',\n",
       " '../lfw/Arnold_Schwarzenegger/Arnold_Schwarzenegger_0038.jpg',\n",
       " '../lfw/Arnold_Schwarzenegger/Arnold_Schwarzenegger_0039.jpg',\n",
       " '../lfw/Arnold_Schwarzenegger/Arnold_Schwarzenegger_0040.jpg',\n",
       " '../lfw/Arnold_Schwarzenegger/Arnold_Schwarzenegger_0041.jpg',\n",
       " '../lfw/Arnold_Schwarzenegger/Arnold_Schwarzenegger_0042.jpg']"
      ]
     },
     "execution_count": 7,
     "metadata": {},
     "output_type": "execute_result"
    }
   ],
   "source": [
    "image_path_list[914:956]"
   ]
  },
  {
   "cell_type": "markdown",
   "metadata": {},
   "source": [
    "# Experiment"
   ]
  },
  {
   "cell_type": "code",
   "execution_count": 8,
   "metadata": {},
   "outputs": [],
   "source": [
    "FACENET_MODEL_PATH = 'model_data/facenet/20180402-114759'\n",
    "VGGFACE_MODEL_PATH = 'model_data/vgg_face_weights.h5'"
   ]
  },
  {
   "cell_type": "code",
   "execution_count": 9,
   "metadata": {},
   "outputs": [
    {
     "name": "stdout",
     "output_type": "stream",
     "text": [
      "WARNING:tensorflow:From /home/agusgun/anaconda3/envs/conda_ta/lib/python3.6/site-packages/mtcnn/layer_factory.py:211: calling reduce_max (from tensorflow.python.ops.math_ops) with keep_dims is deprecated and will be removed in a future version.\n",
      "Instructions for updating:\n",
      "keep_dims is deprecated, use keepdims instead\n",
      "WARNING:tensorflow:From /home/agusgun/anaconda3/envs/conda_ta/lib/python3.6/site-packages/mtcnn/layer_factory.py:213: calling reduce_sum (from tensorflow.python.ops.math_ops) with keep_dims is deprecated and will be removed in a future version.\n",
      "Instructions for updating:\n",
      "keep_dims is deprecated, use keepdims instead\n"
     ]
    }
   ],
   "source": [
    "mtcnn_detector = MTCNN()"
   ]
  },
  {
   "cell_type": "markdown",
   "metadata": {},
   "source": [
    "## Facenet"
   ]
  },
  {
   "cell_type": "code",
   "execution_count": 10,
   "metadata": {},
   "outputs": [
    {
     "name": "stdout",
     "output_type": "stream",
     "text": [
      "Model directory: model_data/facenet/20180402-114759\n",
      "Metagraph file: model-20180402-114759.meta\n",
      "Checkpoint file: model-20180402-114759.ckpt-275\n",
      "WARNING:tensorflow:From /home/agusgun/anaconda3/envs/basic/lib/python3.6/site-packages/tensorflow/python/training/queue_runner_impl.py:391: QueueRunner.__init__ (from tensorflow.python.training.queue_runner_impl) is deprecated and will be removed in a future version.\n",
      "Instructions for updating:\n",
      "To construct input pipelines, use the `tf.data` module.\n",
      "INFO:tensorflow:Restoring parameters from model_data/facenet/20180402-114759/model-20180402-114759.ckpt-275\n"
     ]
    }
   ],
   "source": [
    "feature_extractor = FaceFeatureExtractor(FACENET_MODEL_PATH, extractor_name='facenet')"
   ]
  },
  {
   "cell_type": "markdown",
   "metadata": {},
   "source": [
    "## Finding Threshold"
   ]
  },
  {
   "cell_type": "markdown",
   "metadata": {},
   "source": [
    "### Base Feature Same Person"
   ]
  },
  {
   "cell_type": "code",
   "execution_count": 11,
   "metadata": {},
   "outputs": [
    {
     "name": "stdout",
     "output_type": "stream",
     "text": [
      "Checkpoint 0\n",
      "CPU times: user 5.69 s, sys: 652 ms, total: 6.34 s\n",
      "Wall time: 5.21 s\n"
     ]
    }
   ],
   "source": [
    "%%time\n",
    "for idx, image_path in enumerate(image_path_list[914:915]):\n",
    "    if idx % 1000 == 0:\n",
    "        print(\"Checkpoint\", idx)\n",
    "    img = cv.cvtColor(cv.imread(image_path), cv.COLOR_BGR2RGB)\n",
    "    detection_result = mtcnn_detector.detect_faces(img)\n",
    "    cropped_image = None\n",
    "    for face in detection_result:\n",
    "        face_bbox = face['box']\n",
    "        x, y, w, h = face_bbox\n",
    "        if x < 0:\n",
    "            x = 0\n",
    "        if y < 0:\n",
    "            y = 0\n",
    "        cropped_image = img[y:y+h, x:x+w]\n",
    "        break\n",
    "    \n",
    "    if not cropped_image is None:\n",
    "        feature_test = feature_extractor.extract_image(cropped_image)"
   ]
  },
  {
   "cell_type": "code",
   "execution_count": 12,
   "metadata": {
    "scrolled": true
   },
   "outputs": [
    {
     "data": {
      "text/plain": [
       "array([-0.02005969, -0.05056864,  0.01026126,  0.01742446,  0.02215639,\n",
       "        0.01717553,  0.0363065 ,  0.03492048, -0.00316124,  0.0156415 ,\n",
       "        0.01338803,  0.0119026 , -0.01074322,  0.01188657, -0.04681126,\n",
       "        0.0182586 ,  0.00043653,  0.02466263, -0.06686319, -0.03734707,\n",
       "       -0.08993586,  0.07345945,  0.07387831, -0.0692407 , -0.06713409,\n",
       "       -0.01115576, -0.055341  , -0.03616242,  0.00777087,  0.07503883,\n",
       "        0.00155666,  0.00863445,  0.06811176, -0.09804851,  0.03359478,\n",
       "        0.03583899,  0.04942855, -0.02359399, -0.00993581, -0.00890585,\n",
       "       -0.01316803,  0.04314459,  0.04884369, -0.01185691, -0.00249397,\n",
       "       -0.00734212,  0.02021011,  0.04437131, -0.00410194, -0.00865446,\n",
       "        0.00823828,  0.01580766, -0.00934255, -0.04321346, -0.05499689,\n",
       "        0.02872187, -0.00497116,  0.0262275 , -0.02250077,  0.02877656,\n",
       "       -0.034068  , -0.02791355, -0.02561077, -0.03420937, -0.07754732,\n",
       "       -0.00139099, -0.01407351,  0.03491594,  0.07275735, -0.01144389,\n",
       "        0.01524965,  0.06216604,  0.05753837, -0.07910348, -0.03104373,\n",
       "       -0.06028197,  0.0339019 , -0.0253235 , -0.00732194,  0.05347651,\n",
       "       -0.04788281, -0.08267752,  0.03777326,  0.01781013,  0.04828838,\n",
       "       -0.00327347, -0.00391673,  0.0121648 , -0.01419041, -0.01508806,\n",
       "       -0.00321643, -0.08239983,  0.06248632, -0.03853654,  0.00306683,\n",
       "       -0.06045471,  0.0082466 , -0.00196013,  0.00525315,  0.06554872,\n",
       "        0.04809695,  0.06341809,  0.04935321,  0.0847169 ,  0.09258106,\n",
       "       -0.00274045, -0.00689376, -0.03835403,  0.11074755, -0.05760312,\n",
       "        0.02564115,  0.08428253,  0.00326244, -0.09306341, -0.0361091 ,\n",
       "       -0.02369189,  0.05133298, -0.05591931,  0.07709666, -0.03628257,\n",
       "        0.04681219, -0.0496886 , -0.07317076,  0.00441019,  0.00416775,\n",
       "       -0.01639941, -0.01182633,  0.0354273 ,  0.04829602,  0.03051626,\n",
       "        0.04728757, -0.01333047, -0.00830225,  0.03494027, -0.02270013,\n",
       "        0.00581025, -0.07445996,  0.00896976,  0.1271018 ,  0.08181902,\n",
       "       -0.02120345,  0.04502915, -0.02372491,  0.01983691,  0.0120653 ,\n",
       "        0.0261075 , -0.01403657, -0.08729668, -0.00974944,  0.07513858,\n",
       "        0.07439674, -0.07341286,  0.0331264 , -0.00027557,  0.00091062,\n",
       "        0.00351831,  0.02106794,  0.01811257, -0.05645036, -0.04456029,\n",
       "       -0.01017972, -0.042788  , -0.08294697, -0.04294799,  0.06262362,\n",
       "        0.00037426,  0.04740182, -0.00879649, -0.05262212, -0.04013391,\n",
       "       -0.00268898, -0.03767028, -0.03936673,  0.04242806,  0.03623957,\n",
       "       -0.00903091,  0.02085758, -0.03825713,  0.0417556 , -0.00420569,\n",
       "       -0.03358516,  0.01030218,  0.01047116, -0.02693516,  0.03996653,\n",
       "        0.03291297,  0.0355133 , -0.02387655, -0.04328326, -0.00534425,\n",
       "        0.01896696,  0.00320026, -0.04292532, -0.02379978,  0.0983116 ,\n",
       "        0.01667894, -0.03211462,  0.06108297,  0.03466753,  0.03024908,\n",
       "       -0.0735541 ,  0.05372717, -0.02066809, -0.11351906, -0.02101499,\n",
       "        0.03166657,  0.01348941,  0.01698941, -0.00496308, -0.02962324,\n",
       "       -0.06138204, -0.04518613,  0.06985122, -0.02640795, -0.01987052,\n",
       "        0.06973912, -0.01629938, -0.01837591,  0.02187172,  0.02679448,\n",
       "        0.00051143, -0.01700083,  0.01468855, -0.03778186, -0.03478021,\n",
       "       -0.01219262, -0.06548005, -0.04144888,  0.07266264,  0.05127232,\n",
       "        0.04646571,  0.01732115, -0.08461013,  0.04020919, -0.01304501,\n",
       "       -0.08858668,  0.01684311, -0.04048929,  0.00196673, -0.02169075,\n",
       "        0.04262003, -0.08010099,  0.07055239, -0.04633054,  0.04491464,\n",
       "       -0.02411306, -0.04601229,  0.05727345, -0.02535814, -0.04327084,\n",
       "        0.10145627, -0.01844945, -0.03218494, -0.02012951, -0.00782884,\n",
       "       -0.02417756,  0.01658225, -0.03556328,  0.06657676, -0.01642443,\n",
       "        0.01086904,  0.0022282 ,  0.0587721 ,  0.08177385,  0.04815265,\n",
       "       -0.01066929, -0.01065695,  0.02010361,  0.03016636, -0.00776214,\n",
       "       -0.02950835,  0.01680025,  0.02859975, -0.01033792, -0.05605987,\n",
       "       -0.04833888,  0.03391309,  0.05387796, -0.062944  , -0.04332101,\n",
       "        0.06121433,  0.06661322,  0.02302682, -0.0105404 , -0.05557092,\n",
       "       -0.10818427, -0.0007734 ,  0.01303953,  0.00816143, -0.05087004,\n",
       "       -0.06105394, -0.05968949, -0.0822918 , -0.00875052,  0.00465314,\n",
       "        0.06280659, -0.07116666, -0.04057388, -0.04581875,  0.02197163,\n",
       "        0.03120253,  0.03890337,  0.04900301, -0.03190845, -0.0310006 ,\n",
       "       -0.04170132,  0.01736289, -0.04094416, -0.0501463 ,  0.02198168,\n",
       "        0.04106295, -0.02463352, -0.08361837, -0.08090422,  0.0372525 ,\n",
       "        0.00354694, -0.05131442,  0.05310141, -0.04387714, -0.04216674,\n",
       "       -0.00478101,  0.03152055,  0.05031601,  0.06218585, -0.02980306,\n",
       "        0.05368065, -0.07459589,  0.00764496,  0.07748665, -0.05434408,\n",
       "        0.04152614, -0.01852243,  0.03791191,  0.00832599,  0.0055415 ,\n",
       "       -0.00561449,  0.06613944,  0.06811439, -0.0345063 , -0.02422401,\n",
       "        0.04044472,  0.00431756, -0.02806207,  0.02287497, -0.01837242,\n",
       "        0.00752946, -0.03333264, -0.05736195,  0.06688139, -0.09409258,\n",
       "        0.05685931, -0.02521489,  0.0414625 , -0.06623554,  0.04363173,\n",
       "       -0.06486028, -0.05239629,  0.053561  , -0.07625002, -0.02065998,\n",
       "       -0.05148482,  0.04414672, -0.06409393, -0.01449812,  0.03157536,\n",
       "       -0.0227601 ,  0.01690555, -0.01426198, -0.07377487,  0.04006916,\n",
       "       -0.05416721, -0.05481905, -0.04053794,  0.017439  ,  0.00082876,\n",
       "       -0.01717019, -0.02976182,  0.03652499,  0.0312885 ,  0.04613336,\n",
       "       -0.06076583, -0.00935274, -0.09671532,  0.02827978,  0.02157076,\n",
       "        0.06062225,  0.02236708, -0.03605162, -0.04927156,  0.00357099,\n",
       "        0.0667133 ,  0.01128398, -0.07244317, -0.0065297 ,  0.0523064 ,\n",
       "        0.00466869,  0.09859437, -0.04019314,  0.04357549, -0.02562362,\n",
       "       -0.02949385,  0.00031508, -0.04319428,  0.07841988,  0.0108492 ,\n",
       "       -0.03162114, -0.06550916, -0.07994296, -0.04593536, -0.0124427 ,\n",
       "        0.00280201, -0.05461925, -0.01344392,  0.00101196, -0.0275748 ,\n",
       "        0.01869328,  0.00777725,  0.04279838,  0.05276257,  0.00113079,\n",
       "        0.0587265 , -0.03977335, -0.0034136 , -0.06235558,  0.00860369,\n",
       "        0.03021736,  0.00088066,  0.0328682 , -0.0486857 ,  0.0571002 ,\n",
       "       -0.01386107,  0.02905624, -0.0279044 ,  0.06058078, -0.06885373,\n",
       "       -0.04385852,  0.0388908 ,  0.09067184, -0.0674127 ,  0.02193025,\n",
       "       -0.04834975, -0.00913666,  0.00806115, -0.04767038,  0.00762277,\n",
       "       -0.01039991, -0.03970768, -0.04771522,  0.01863479, -0.09789013,\n",
       "        0.04245084,  0.02761056,  0.06970316,  0.0167636 ,  0.06419055,\n",
       "       -0.04969653, -0.0240593 ,  0.00730613, -0.01869572,  0.04346651,\n",
       "       -0.00110072, -0.00156636,  0.01808959, -0.0102394 ,  0.00599527,\n",
       "       -0.00444206,  0.0546752 , -0.05625873, -0.01360047, -0.06561173,\n",
       "       -0.02801886,  0.00534924,  0.00721674, -0.02085317, -0.04521685,\n",
       "       -0.00708918,  0.03800559, -0.08880907, -0.00858793,  0.08318724,\n",
       "       -0.00764983,  0.06650969,  0.01109724, -0.05835527,  0.0344859 ,\n",
       "        0.08857416, -0.04673467, -0.00334894, -0.00810027, -0.03829147,\n",
       "        0.00896954,  0.00423462, -0.06999157, -0.03540339,  0.07330076,\n",
       "        0.03414145, -0.01421573,  0.05241049,  0.00131061, -0.00838116,\n",
       "       -0.04387672, -0.03099547,  0.05417657,  0.02388969,  0.03730763,\n",
       "        0.0364119 ,  0.04724208,  0.031248  ,  0.05847247,  0.0046915 ,\n",
       "       -0.04141569, -0.05288635], dtype=float32)"
      ]
     },
     "execution_count": 12,
     "metadata": {},
     "output_type": "execute_result"
    }
   ],
   "source": [
    "base_feature = feature_test.copy()\n",
    "base_feature"
   ]
  },
  {
   "cell_type": "markdown",
   "metadata": {},
   "source": [
    "### Find Distance With Same Person"
   ]
  },
  {
   "cell_type": "code",
   "execution_count": 13,
   "metadata": {},
   "outputs": [
    {
     "name": "stdout",
     "output_type": "stream",
     "text": [
      "Checkpoint 0\n",
      "0.8130298852920532\n",
      "0.7526906728744507\n",
      "0.7656626105308533\n",
      "0.9419419765472412\n",
      "0.841714084148407\n",
      "0.9273679852485657\n",
      "1.246404767036438\n",
      "0.8177686333656311\n",
      "0.8727921843528748\n",
      "1.1033804416656494\n",
      "0.8299792408943176\n",
      "0.7919194102287292\n",
      "0.8341163992881775\n",
      "0.9972293972969055\n",
      "0.9661878347396851\n",
      "0.8906254172325134\n",
      "0.9554269313812256\n",
      "0.8980324864387512\n",
      "0.8356178998947144\n",
      "0.9626778364181519\n",
      "0.9394333958625793\n",
      "0.8426283001899719\n",
      "0.7394007444381714\n",
      "1.078840732574463\n",
      "0.8271809816360474\n",
      "0.8836042284965515\n",
      "0.8984346985816956\n",
      "1.2705713510513306\n",
      "1.0150607824325562\n",
      "0.8812487721443176\n",
      "0.8757113218307495\n",
      "0.8704571723937988\n",
      "0.8863216042518616\n",
      "0.870261013507843\n",
      "0.7747063040733337\n",
      "0.8275177478790283\n",
      "0.9177504777908325\n",
      "0.8642610907554626\n",
      "0.9547302722930908\n",
      "0.7103040814399719\n",
      "0.9604081511497498\n",
      "CPU times: user 22.6 s, sys: 20.8 s, total: 43.4 s\n",
      "Wall time: 6.31 s\n"
     ]
    }
   ],
   "source": [
    "%%time\n",
    "same_person_distances = []\n",
    "for idx, image_path in enumerate(image_path_list[915:956]):\n",
    "    if idx % 1000 == 0:\n",
    "        print(\"Checkpoint\", idx)\n",
    "    img = cv.cvtColor(cv.imread(image_path), cv.COLOR_BGR2RGB)\n",
    "    detection_result = mtcnn_detector.detect_faces(img)\n",
    "    cropped_image = None\n",
    "    for face in detection_result:\n",
    "        face_bbox = face['box']\n",
    "        x, y, w, h = face_bbox\n",
    "        if x < 0:\n",
    "            x = 0\n",
    "        if y < 0:\n",
    "            y = 0\n",
    "        cropped_image = img[y:y+h, x:x+w]\n",
    "        break\n",
    "    \n",
    "    if not cropped_image is None:\n",
    "        feature_test = feature_extractor.extract_image(cropped_image)\n",
    "        distance = euclidean(feature_test, base_feature)\n",
    "        same_person_distances.append(distance)\n",
    "        print(distance)"
   ]
  },
  {
   "cell_type": "code",
   "execution_count": 14,
   "metadata": {},
   "outputs": [
    {
     "name": "stdout",
     "output_type": "stream",
     "text": [
      "0.9008146175524083\n"
     ]
    }
   ],
   "source": [
    "print(np.mean(same_person_distances))"
   ]
  },
  {
   "cell_type": "markdown",
   "metadata": {},
   "source": [
    "### Find Distance With Diff Person"
   ]
  },
  {
   "cell_type": "code",
   "execution_count": 15,
   "metadata": {
    "scrolled": true
   },
   "outputs": [
    {
     "name": "stdout",
     "output_type": "stream",
     "text": [
      "Checkpoint 0\n",
      "CPU times: user 11min 28s, sys: 9min 11s, total: 20min 39s\n",
      "Wall time: 3min 20s\n"
     ]
    }
   ],
   "source": [
    "%%time\n",
    "diff_person_distances = []\n",
    "min_distance = np.inf\n",
    "min_path = None\n",
    "distance_path_tuples = []\n",
    "for idx, image_path in enumerate(image_path_list[0:914]):\n",
    "    if idx % 1000 == 0:\n",
    "        print(\"Checkpoint\", idx)\n",
    "    img = cv.cvtColor(cv.imread(image_path), cv.COLOR_BGR2RGB)\n",
    "    detection_result = mtcnn_detector.detect_faces(img)\n",
    "    cropped_image = None\n",
    "    for face in detection_result:\n",
    "        face_bbox = face['box']\n",
    "        x, y, w, h = face_bbox\n",
    "        if x < 0:\n",
    "            x = 0\n",
    "        if y < 0:\n",
    "            y = 0\n",
    "        cropped_image = img[y:y+h, x:x+w]\n",
    "        break\n",
    "    \n",
    "    if not cropped_image is None:\n",
    "        feature_test = feature_extractor.extract_image(cropped_image)\n",
    "        distance = euclidean(feature_test, base_feature)\n",
    "        if distance < min_distance:\n",
    "            min_distance = distance\n",
    "            min_path = image_path\n",
    "        distance_path_tuples.append((distance, image_path))\n",
    "        diff_person_distances.append(distance)"
   ]
  },
  {
   "cell_type": "code",
   "execution_count": 16,
   "metadata": {
    "scrolled": true
   },
   "outputs": [
    {
     "name": "stdout",
     "output_type": "stream",
     "text": [
      "0.9111239314079285 ../lfw/Andres_DAlessandro/Andres_DAlessandro_0001.jpg\n"
     ]
    }
   ],
   "source": [
    "print(min_distance, min_path)"
   ]
  },
  {
   "cell_type": "code",
   "execution_count": 17,
   "metadata": {},
   "outputs": [
    {
     "name": "stdout",
     "output_type": "stream",
     "text": [
      "AVG: 1.385503837068441\n"
     ]
    }
   ],
   "source": [
    "print(\"AVG:\", np.mean(diff_person_distances))"
   ]
  },
  {
   "cell_type": "code",
   "execution_count": 20,
   "metadata": {
    "scrolled": true
   },
   "outputs": [
    {
     "data": {
      "text/plain": [
       "[(0.9111239314079285, '../lfw/Andres_DAlessandro/Andres_DAlessandro_0001.jpg'),\n",
       " (1.0896060466766357, '../lfw/Ariel_Sharon/Ariel_Sharon_0047.jpg'),\n",
       " (1.1000478267669678, '../lfw/Andrew_Firestone/Andrew_Firestone_0001.jpg'),\n",
       " (1.101060390472412, '../lfw/Anibal_Ibarra/Anibal_Ibarra_0001.jpg'),\n",
       " (1.1044726371765137, '../lfw/Andre_Agassi/Andre_Agassi_0012.jpg')]"
      ]
     },
     "execution_count": 20,
     "metadata": {},
     "output_type": "execute_result"
    }
   ],
   "source": [
    "sorted(distance_path_tuples, key=lambda x: x[0])[0:5]"
   ]
  },
  {
   "cell_type": "markdown",
   "metadata": {},
   "source": [
    "Conclusion: Threshold Facenet=1.0 (Rounding for simplicity)"
   ]
  },
  {
   "cell_type": "markdown",
   "metadata": {},
   "source": [
    "## LBPH"
   ]
  },
  {
   "cell_type": "code",
   "execution_count": 10,
   "metadata": {},
   "outputs": [],
   "source": [
    "feature_extractor = FaceFeatureExtractor(None, extractor_name='lbph')"
   ]
  },
  {
   "cell_type": "markdown",
   "metadata": {},
   "source": [
    "## Finding Threshold"
   ]
  },
  {
   "cell_type": "markdown",
   "metadata": {},
   "source": [
    "### Base Feature Same Person"
   ]
  },
  {
   "cell_type": "code",
   "execution_count": 11,
   "metadata": {},
   "outputs": [],
   "source": [
    "import time"
   ]
  },
  {
   "cell_type": "code",
   "execution_count": 12,
   "metadata": {},
   "outputs": [
    {
     "name": "stdout",
     "output_type": "stream",
     "text": [
      "Checkpoint 0\n",
      "0.8437561988830566\n"
     ]
    },
    {
     "name": "stderr",
     "output_type": "stream",
     "text": [
      "/home/agusgun/anaconda3/envs/conda_ta/lib/python3.6/site-packages/facerec/feature.py:266: VisibleDeprecationWarning: Passing `normed=True` on non-uniform bins has always been broken, and computes neither the probability density function nor the probability mass function. The result is only correct if the bins are uniform, when density=True will produce the same result anyway. The argument will be removed in a future version of numpy.\n",
      "  H = np.histogram(C, bins=2**self.lbp_operator.neighbors, range=(0, 2**self.lbp_operator.neighbors), normed=True)[0]\n"
     ]
    }
   ],
   "source": [
    "start = time.time()\n",
    "for idx, image_path in enumerate(image_path_list[914:915]):\n",
    "    if idx % 1000 == 0:\n",
    "        print(\"Checkpoint\", idx)\n",
    "    img = cv.cvtColor(cv.imread(image_path), cv.COLOR_BGR2RGB)\n",
    "    detection_result = mtcnn_detector.detect_faces(img)\n",
    "    cropped_image = None\n",
    "    for face in detection_result:\n",
    "        face_bbox = face['box']\n",
    "        x, y, w, h = face_bbox\n",
    "        if x < 0:\n",
    "            x = 0\n",
    "        if y < 0:\n",
    "            y = 0\n",
    "        cropped_image = img[y:y+h, x:x+w]\n",
    "        break\n",
    "    \n",
    "    if not cropped_image is None:\n",
    "        feature_test = feature_extractor.extract_image(cropped_image)\n",
    "end = time.time()\n",
    "print(end-start)"
   ]
  },
  {
   "cell_type": "code",
   "execution_count": 13,
   "metadata": {
    "scrolled": true
   },
   "outputs": [
    {
     "data": {
      "text/plain": [
       "array([0.04081633, 0.02040816, 0.        , ..., 0.        , 0.02040816,\n",
       "       0.08163265])"
      ]
     },
     "execution_count": 13,
     "metadata": {},
     "output_type": "execute_result"
    }
   ],
   "source": [
    "base_feature = feature_test.copy()\n",
    "base_feature"
   ]
  },
  {
   "cell_type": "markdown",
   "metadata": {},
   "source": [
    "### Find Distance With Same Person"
   ]
  },
  {
   "cell_type": "code",
   "execution_count": 14,
   "metadata": {},
   "outputs": [
    {
     "name": "stdout",
     "output_type": "stream",
     "text": [
      "Checkpoint 0\n",
      "3.3287209516085356\n",
      "3.1102201510110343\n",
      "2.977774117056493\n",
      "3.231328320603648\n",
      "3.01129347288532\n",
      "3.0068642835449815\n",
      "3.1053956080584864\n",
      "3.000347057531731\n",
      "3.093705234553012\n",
      "2.7235533053801206\n",
      "2.835633320182744\n",
      "2.85889159311632\n",
      "2.8006068242299498\n",
      "2.882251191059374\n",
      "2.84618891448599\n",
      "2.9088613555260134\n",
      "2.869506776060866\n",
      "3.010878513170957\n",
      "3.2412378279333582\n",
      "3.0779136905346576\n",
      "2.8206119421938354\n",
      "3.109416580360493\n",
      "2.7096016050290204\n",
      "2.645830019696629\n",
      "2.8368081035869217\n",
      "3.0834566841234325\n",
      "2.953336940431132\n",
      "2.760916012151722\n",
      "3.017372992371628\n",
      "2.776110379286849\n",
      "2.8748721066025036\n",
      "2.7263045244158\n",
      "3.0621767226462238\n",
      "2.868200178083406\n",
      "3.251245236086144\n",
      "2.7936084603795512\n",
      "3.138879008935572\n",
      "2.9411838204577787\n",
      "2.7422982909780935\n",
      "3.0381442855316227\n",
      "2.8248908527344128\n",
      "1.9966025352478027\n"
     ]
    }
   ],
   "source": [
    "start = time.time()\n",
    "same_person_distances = []\n",
    "for idx, image_path in enumerate(image_path_list[915:956]):\n",
    "    if idx % 1000 == 0:\n",
    "        print(\"Checkpoint\", idx)\n",
    "    img = cv.cvtColor(cv.imread(image_path), cv.COLOR_BGR2RGB)\n",
    "    detection_result = mtcnn_detector.detect_faces(img)\n",
    "    cropped_image = None\n",
    "    for face in detection_result:\n",
    "        face_bbox = face['box']\n",
    "        x, y, w, h = face_bbox\n",
    "        if x < 0:\n",
    "            x = 0\n",
    "        if y < 0:\n",
    "            y = 0\n",
    "        cropped_image = img[y:y+h, x:x+w]\n",
    "        break\n",
    "    \n",
    "    if not cropped_image is None:\n",
    "        feature_test = feature_extractor.extract_image(cropped_image)\n",
    "        distance = euclidean(feature_test, base_feature)\n",
    "        same_person_distances.append(distance)\n",
    "        print(distance)\n",
    "end = time.time()\n",
    "print(end-start)"
   ]
  },
  {
   "cell_type": "code",
   "execution_count": 15,
   "metadata": {},
   "outputs": [
    {
     "name": "stdout",
     "output_type": "stream",
     "text": [
      "2.948693591576009\n"
     ]
    }
   ],
   "source": [
    "print(np.mean(same_person_distances))"
   ]
  },
  {
   "cell_type": "markdown",
   "metadata": {},
   "source": [
    "### Find Distance With Diff Person"
   ]
  },
  {
   "cell_type": "code",
   "execution_count": 16,
   "metadata": {
    "scrolled": true
   },
   "outputs": [
    {
     "name": "stdout",
     "output_type": "stream",
     "text": [
      "Checkpoint 0\n",
      "42.20249342918396\n"
     ]
    }
   ],
   "source": [
    "start = time.time()\n",
    "diff_person_distances = []\n",
    "min_distance = np.inf\n",
    "min_path = None\n",
    "distance_path_tuples = []\n",
    "for idx, image_path in enumerate(image_path_list[0:914]):\n",
    "    if idx % 1000 == 0:\n",
    "        print(\"Checkpoint\", idx)\n",
    "    img = cv.cvtColor(cv.imread(image_path), cv.COLOR_BGR2RGB)\n",
    "    detection_result = mtcnn_detector.detect_faces(img)\n",
    "    cropped_image = None\n",
    "    for face in detection_result:\n",
    "        face_bbox = face['box']\n",
    "        x, y, w, h = face_bbox\n",
    "        if x < 0:\n",
    "            x = 0\n",
    "        if y < 0:\n",
    "            y = 0\n",
    "        cropped_image = img[y:y+h, x:x+w]\n",
    "        break\n",
    "    \n",
    "    if not cropped_image is None:\n",
    "        feature_test = feature_extractor.extract_image(cropped_image)\n",
    "        distance = euclidean(feature_test, base_feature)\n",
    "        if distance < min_distance:\n",
    "            min_distance = distance\n",
    "            min_path = image_path\n",
    "        distance_path_tuples.append((distance, image_path))\n",
    "        diff_person_distances.append(distance)\n",
    "end = time.time()\n",
    "print(end-start)"
   ]
  },
  {
   "cell_type": "code",
   "execution_count": 17,
   "metadata": {
    "scrolled": true
   },
   "outputs": [
    {
     "name": "stdout",
     "output_type": "stream",
     "text": [
      "2.4320845795152497 ../lfw/Angelo_Reyes/Angelo_Reyes_0004.jpg\n"
     ]
    }
   ],
   "source": [
    "print(min_distance, min_path)"
   ]
  },
  {
   "cell_type": "code",
   "execution_count": 18,
   "metadata": {},
   "outputs": [
    {
     "name": "stdout",
     "output_type": "stream",
     "text": [
      "AVG: 3.0644682269666124\n"
     ]
    }
   ],
   "source": [
    "print(\"AVG:\", np.mean(diff_person_distances))"
   ]
  },
  {
   "cell_type": "code",
   "execution_count": 19,
   "metadata": {
    "scrolled": true
   },
   "outputs": [
    {
     "data": {
      "text/plain": [
       "[(2.4320845795152497, '../lfw/Angelo_Reyes/Angelo_Reyes_0004.jpg'),\n",
       " (2.616227830925081, '../lfw/Alvaro_Uribe/Alvaro_Uribe_0012.jpg'),\n",
       " (2.6530612244897958, '../lfw/Andrew_Gilligan/Andrew_Gilligan_0001.jpg'),\n",
       " (2.6571397222464967, '../lfw/Anders_Ebbeson/Anders_Ebbeson_0001.jpg'),\n",
       " (2.657609915376478, '../lfw/Anibal_Ibarra/Anibal_Ibarra_0003.jpg')]"
      ]
     },
     "execution_count": 19,
     "metadata": {},
     "output_type": "execute_result"
    }
   ],
   "source": [
    "sorted(distance_path_tuples, key=lambda x: x[0])[0:5]"
   ]
  },
  {
   "cell_type": "markdown",
   "metadata": {},
   "source": [
    "Conclusion: Threshold LBPH=2.5 (Rounding for simplicity)"
   ]
  },
  {
   "cell_type": "markdown",
   "metadata": {},
   "source": [
    "## VGG Face - RESNET50"
   ]
  },
  {
   "cell_type": "code",
   "execution_count": 10,
   "metadata": {},
   "outputs": [],
   "source": [
    "feature_extractor = FaceFeatureExtractor(None, extractor_name='vgg_face_resnet50')"
   ]
  },
  {
   "cell_type": "markdown",
   "metadata": {},
   "source": [
    "## Finding Threshold"
   ]
  },
  {
   "cell_type": "markdown",
   "metadata": {},
   "source": [
    "### Base Feature Same Person"
   ]
  },
  {
   "cell_type": "code",
   "execution_count": 11,
   "metadata": {},
   "outputs": [],
   "source": [
    "import time"
   ]
  },
  {
   "cell_type": "code",
   "execution_count": 12,
   "metadata": {},
   "outputs": [
    {
     "name": "stdout",
     "output_type": "stream",
     "text": [
      "Checkpoint 0\n",
      "2.1601386070251465\n"
     ]
    }
   ],
   "source": [
    "start = time.time()\n",
    "for idx, image_path in enumerate(image_path_list[914:915]):\n",
    "    if idx % 1000 == 0:\n",
    "        print(\"Checkpoint\", idx)\n",
    "    img = cv.cvtColor(cv.imread(image_path), cv.COLOR_BGR2RGB)\n",
    "    detection_result = mtcnn_detector.detect_faces(img)\n",
    "    cropped_image = None\n",
    "    for face in detection_result:\n",
    "        face_bbox = face['box']\n",
    "        x, y, w, h = face_bbox\n",
    "        if x < 0:\n",
    "            x = 0\n",
    "        if y < 0:\n",
    "            y = 0\n",
    "        cropped_image = img[y:y+h, x:x+w]\n",
    "        break\n",
    "    \n",
    "    if not cropped_image is None:\n",
    "        feature_test = feature_extractor.extract_image(cropped_image)\n",
    "end = time.time()\n",
    "print(end-start)"
   ]
  },
  {
   "cell_type": "code",
   "execution_count": 13,
   "metadata": {
    "scrolled": true
   },
   "outputs": [
    {
     "data": {
      "text/plain": [
       "array([0.        , 0.        , 0.81484425, ..., 4.7339234 , 0.        ,\n",
       "       0.0314533 ], dtype=float32)"
      ]
     },
     "execution_count": 13,
     "metadata": {},
     "output_type": "execute_result"
    }
   ],
   "source": [
    "base_feature = feature_test.copy()\n",
    "base_feature"
   ]
  },
  {
   "cell_type": "markdown",
   "metadata": {},
   "source": [
    "### Find Distance With Same Person"
   ]
  },
  {
   "cell_type": "code",
   "execution_count": 14,
   "metadata": {},
   "outputs": [
    {
     "name": "stdout",
     "output_type": "stream",
     "text": [
      "Checkpoint 0\n",
      "104.15174102783203\n",
      "97.89521789550781\n",
      "86.51909637451172\n",
      "101.3939208984375\n",
      "97.29674530029297\n",
      "92.4189224243164\n",
      "129.88865661621094\n",
      "90.91893768310547\n",
      "104.22125244140625\n",
      "113.3676528930664\n",
      "80.53562927246094\n",
      "100.95791625976562\n",
      "90.62042999267578\n",
      "107.2735824584961\n",
      "113.50267028808594\n",
      "125.45764923095703\n",
      "93.08356475830078\n",
      "110.21676635742188\n",
      "112.44432830810547\n",
      "106.92987060546875\n",
      "124.18465423583984\n",
      "95.99147033691406\n",
      "81.55104064941406\n",
      "130.40789794921875\n",
      "100.2811508178711\n",
      "96.12640380859375\n",
      "117.74563598632812\n",
      "113.28272247314453\n",
      "110.75565338134766\n",
      "100.73863983154297\n",
      "109.44210052490234\n",
      "101.48326110839844\n",
      "113.94477081298828\n",
      "110.74088287353516\n",
      "109.66216278076172\n",
      "93.85488891601562\n",
      "108.48161315917969\n",
      "104.99198913574219\n",
      "93.01565551757812\n",
      "76.61616516113281\n",
      "117.52426147460938\n",
      "2.428919553756714\n"
     ]
    }
   ],
   "source": [
    "start = time.time()\n",
    "same_person_distances = []\n",
    "for idx, image_path in enumerate(image_path_list[915:956]):\n",
    "    if idx % 1000 == 0:\n",
    "        print(\"Checkpoint\", idx)\n",
    "    img = cv.cvtColor(cv.imread(image_path), cv.COLOR_BGR2RGB)\n",
    "    detection_result = mtcnn_detector.detect_faces(img)\n",
    "    cropped_image = None\n",
    "    for face in detection_result:\n",
    "        face_bbox = face['box']\n",
    "        x, y, w, h = face_bbox\n",
    "        if x < 0:\n",
    "            x = 0\n",
    "        if y < 0:\n",
    "            y = 0\n",
    "        cropped_image = img[y:y+h, x:x+w]\n",
    "        break\n",
    "    \n",
    "    if not cropped_image is None:\n",
    "        feature_test = feature_extractor.extract_image(cropped_image)\n",
    "        distance = euclidean(feature_test, base_feature)\n",
    "        same_person_distances.append(distance)\n",
    "        print(distance)\n",
    "end = time.time()\n",
    "print(end-start)"
   ]
  },
  {
   "cell_type": "code",
   "execution_count": 15,
   "metadata": {},
   "outputs": [
    {
     "name": "stdout",
     "output_type": "stream",
     "text": [
      "104.14433102491425\n"
     ]
    }
   ],
   "source": [
    "print(np.mean(same_person_distances))"
   ]
  },
  {
   "cell_type": "markdown",
   "metadata": {},
   "source": [
    "### Find Distance With Diff Person"
   ]
  },
  {
   "cell_type": "code",
   "execution_count": 16,
   "metadata": {
    "scrolled": true
   },
   "outputs": [
    {
     "name": "stdout",
     "output_type": "stream",
     "text": [
      "Checkpoint 0\n",
      "45.05798029899597\n"
     ]
    }
   ],
   "source": [
    "start = time.time()\n",
    "diff_person_distances = []\n",
    "min_distance = np.inf\n",
    "min_path = None\n",
    "distance_path_tuples = []\n",
    "for idx, image_path in enumerate(image_path_list[0:914]):\n",
    "    if idx % 1000 == 0:\n",
    "        print(\"Checkpoint\", idx)\n",
    "    img = cv.cvtColor(cv.imread(image_path), cv.COLOR_BGR2RGB)\n",
    "    detection_result = mtcnn_detector.detect_faces(img)\n",
    "    cropped_image = None\n",
    "    for face in detection_result:\n",
    "        face_bbox = face['box']\n",
    "        x, y, w, h = face_bbox\n",
    "        if x < 0:\n",
    "            x = 0\n",
    "        if y < 0:\n",
    "            y = 0\n",
    "        cropped_image = img[y:y+h, x:x+w]\n",
    "        break\n",
    "    \n",
    "    if not cropped_image is None:\n",
    "        feature_test = feature_extractor.extract_image(cropped_image)\n",
    "        distance = euclidean(feature_test, base_feature)\n",
    "        if distance < min_distance:\n",
    "            min_distance = distance\n",
    "            min_path = image_path\n",
    "        distance_path_tuples.append((distance, image_path))\n",
    "        diff_person_distances.append(distance)\n",
    "end = time.time()\n",
    "print(end-start)"
   ]
  },
  {
   "cell_type": "code",
   "execution_count": 17,
   "metadata": {
    "scrolled": true
   },
   "outputs": [
    {
     "name": "stdout",
     "output_type": "stream",
     "text": [
      "117.9339599609375 ../lfw/Arlen_Specter/Arlen_Specter_0002.jpg\n"
     ]
    }
   ],
   "source": [
    "print(min_distance, min_path)"
   ]
  },
  {
   "cell_type": "code",
   "execution_count": 18,
   "metadata": {},
   "outputs": [
    {
     "name": "stdout",
     "output_type": "stream",
     "text": [
      "AVG: 142.75825240888534\n"
     ]
    }
   ],
   "source": [
    "print(\"AVG:\", np.mean(diff_person_distances))"
   ]
  },
  {
   "cell_type": "code",
   "execution_count": 19,
   "metadata": {
    "scrolled": true
   },
   "outputs": [
    {
     "data": {
      "text/plain": [
       "[(117.9339599609375, '../lfw/Arlen_Specter/Arlen_Specter_0002.jpg'),\n",
       " (118.80604553222656, '../lfw/Andy_Graves/Andy_Graves_0001.jpg'),\n",
       " (120.54059600830078,\n",
       "  '../lfw/Alexandra_Vodjanikova/Alexandra_Vodjanikova_0002.jpg'),\n",
       " (122.3892593383789, '../lfw/Andrew_Cuomo/Andrew_Cuomo_0001.jpg'),\n",
       " (124.77921295166016,\n",
       "  '../lfw/Andrei_Konchalovsky/Andrei_Konchalovsky_0001.jpg')]"
      ]
     },
     "execution_count": 19,
     "metadata": {},
     "output_type": "execute_result"
    }
   ],
   "source": [
    "sorted(distance_path_tuples, key=lambda x: x[0])[0:5]"
   ]
  },
  {
   "cell_type": "markdown",
   "metadata": {},
   "source": [
    "Conclusion: Threshold VGG Face - RESNET50=110 (Rounding for simplicity)"
   ]
  },
  {
   "cell_type": "markdown",
   "metadata": {},
   "source": [
    "## VGG Face - VGG16"
   ]
  },
  {
   "cell_type": "code",
   "execution_count": 10,
   "metadata": {},
   "outputs": [],
   "source": [
    "feature_extractor = FaceFeatureExtractor(None, extractor_name='vgg_face_vgg16')"
   ]
  },
  {
   "cell_type": "markdown",
   "metadata": {},
   "source": [
    "## Finding Threshold"
   ]
  },
  {
   "cell_type": "markdown",
   "metadata": {},
   "source": [
    "### Base Feature Same Person"
   ]
  },
  {
   "cell_type": "code",
   "execution_count": 11,
   "metadata": {},
   "outputs": [],
   "source": [
    "import time"
   ]
  },
  {
   "cell_type": "code",
   "execution_count": 12,
   "metadata": {},
   "outputs": [
    {
     "name": "stdout",
     "output_type": "stream",
     "text": [
      "Checkpoint 0\n",
      "1.635918140411377\n"
     ]
    }
   ],
   "source": [
    "start = time.time()\n",
    "for idx, image_path in enumerate(image_path_list[914:915]):\n",
    "    if idx % 1000 == 0:\n",
    "        print(\"Checkpoint\", idx)\n",
    "    img = cv.cvtColor(cv.imread(image_path), cv.COLOR_BGR2RGB)\n",
    "    detection_result = mtcnn_detector.detect_faces(img)\n",
    "    cropped_image = None\n",
    "    for face in detection_result:\n",
    "        face_bbox = face['box']\n",
    "        x, y, w, h = face_bbox\n",
    "        if x < 0:\n",
    "            x = 0\n",
    "        if y < 0:\n",
    "            y = 0\n",
    "        cropped_image = img[y:y+h, x:x+w]\n",
    "        break\n",
    "    \n",
    "    if not cropped_image is None:\n",
    "        feature_test = feature_extractor.extract_image(cropped_image)\n",
    "end = time.time()\n",
    "print(end-start)"
   ]
  },
  {
   "cell_type": "code",
   "execution_count": 13,
   "metadata": {
    "scrolled": true
   },
   "outputs": [
    {
     "data": {
      "text/plain": [
       "array([ 1.4077013 ,  1.3582941 ,  2.3108914 , 12.696964  ,  0.66057533,\n",
       "        8.657581  ,  6.6378736 ,  4.1513515 , 19.366257  ,  5.5348983 ,\n",
       "        1.9713256 ,  2.5491025 ,  2.8445973 ,  2.9282236 ,  4.784899  ,\n",
       "        0.74430084,  0.71175086,  3.1242657 ,  0.        ,  1.1279885 ,\n",
       "        0.38169977,  3.7785678 ,  5.931838  ,  3.792674  ,  2.6644032 ,\n",
       "        2.0301652 ,  5.094228  ,  0.11026166,  7.648655  ,  3.6489034 ,\n",
       "        3.1503172 ,  1.5197755 ,  1.968137  ,  4.4670424 ,  2.1321075 ,\n",
       "       11.170228  ,  1.2401544 ,  0.0484705 ,  3.4934008 ,  7.498991  ,\n",
       "        1.5907533 ,  3.305893  , 13.593258  ,  1.2288194 ,  5.3461037 ,\n",
       "        0.40357628,  3.702315  ,  4.6441994 ,  0.45961383,  4.5244565 ,\n",
       "        1.5238193 ,  0.37125638,  3.1199276 ,  0.63186157,  0.02385144,\n",
       "        1.9004993 ,  7.260209  ,  2.9800382 ,  9.19739   ,  7.1565475 ,\n",
       "       10.90412   ,  4.3590226 ,  2.0069947 ,  4.46742   ,  0.53148746,\n",
       "        8.215119  ,  0.04808954,  4.1387305 ,  2.8458555 ,  1.3831782 ,\n",
       "        9.803212  ,  3.1981854 ,  6.7036543 ,  1.4138955 ,  1.9260771 ,\n",
       "        1.5898027 ,  3.804997  ,  2.076208  ,  0.59051734,  0.04158653,\n",
       "        1.0268772 ,  4.5408487 ,  0.13112314,  0.21908714,  2.903825  ,\n",
       "        1.1120031 ,  1.448268  ,  3.4888465 ,  5.980131  ,  2.8022661 ,\n",
       "        1.2130092 ,  0.8960249 ,  0.45108515,  1.2106777 ,  8.284304  ,\n",
       "        3.5932777 ,  1.830244  ,  0.68925357,  5.0329933 ,  9.687698  ,\n",
       "        1.7510725 ,  9.071595  ,  5.675457  ,  2.7561276 ,  2.3138435 ,\n",
       "        0.13676973,  2.0362902 ,  3.0539308 ,  0.43353018,  3.0794485 ,\n",
       "        0.9446576 ,  1.9015727 ,  0.7878144 ,  2.5393817 ,  3.574633  ,\n",
       "        0.31067008, 10.78564   , 16.592922  ,  9.133785  ,  1.0894825 ,\n",
       "        4.1655264 ,  5.4771504 ,  4.2361794 ,  5.5143394 ,  0.59196544,\n",
       "        0.29632196,  1.2230706 ,  0.        ,  0.74981606, 12.433228  ,\n",
       "        6.853566  ,  1.2193648 ,  2.0843265 ,  1.1974632 ,  2.711087  ,\n",
       "        7.3883815 ,  5.8294654 ,  3.624243  ,  6.3064337 ,  8.816727  ,\n",
       "        0.701735  ,  3.634744  ,  1.8674192 ,  4.9982133 , 10.162196  ,\n",
       "        2.5149827 ,  0.8501524 ,  0.20615798,  0.        ,  3.185433  ,\n",
       "        1.0672197 ,  9.37302   ,  0.28609934,  0.25265673,  2.2437294 ,\n",
       "        3.7664957 ,  2.4179735 ,  4.9943323 ,  6.93769   ,  4.452285  ,\n",
       "        3.2208436 ,  0.        ,  6.826857  ,  0.        ,  1.9526361 ,\n",
       "        6.5718513 ,  2.633832  ,  6.824076  ,  9.87463   ,  4.1019335 ,\n",
       "        7.1501675 ,  2.5776432 ,  1.0303206 ,  2.1916711 ,  6.4706774 ,\n",
       "        8.457348  ,  1.9985765 ,  0.        ,  2.766392  ,  6.1004643 ,\n",
       "        3.5891402 ,  2.9367921 , 15.460127  ,  2.5830102 ,  0.31587827,\n",
       "        1.7593378 , 11.855114  ,  9.193425  ,  3.292688  ,  1.7701186 ,\n",
       "        5.1871095 ,  4.4896097 ,  0.02793705,  6.2581344 ,  1.6895492 ,\n",
       "        1.7552041 ,  2.4107056 ,  2.998006  , 10.020952  ,  1.6827726 ,\n",
       "        2.3376565 ,  3.1246226 ,  2.755155  ,  0.51050717,  5.078496  ,\n",
       "        3.8892622 ,  1.7270544 ,  5.9580336 ,  0.4418443 ,  2.8903482 ,\n",
       "       10.471261  ,  3.9959958 ,  2.4225771 ,  1.8771791 ,  0.30103815,\n",
       "       12.103259  ,  0.15481474,  3.4210763 ,  0.18889108,  7.0909977 ,\n",
       "        2.7667549 ,  0.        ,  3.5377963 ,  5.0726924 ,  2.9742124 ,\n",
       "        2.0052533 ,  2.182678  ,  3.421121  ,  2.8150377 ,  3.005237  ,\n",
       "        7.631869  ,  0.09896883,  9.8359375 ,  8.405089  , 18.4618    ,\n",
       "        4.6770267 ,  1.0275984 , 12.417054  ,  4.210277  ,  2.473349  ,\n",
       "        2.465393  ,  2.1568737 ,  0.90266323,  2.2772958 ,  1.831851  ,\n",
       "        2.7756    ,  1.4991375 ,  0.20890018,  2.0340562 ,  0.97992766,\n",
       "        1.5648184 ,  3.9078076 ,  9.726773  ,  2.699428  ,  3.0570292 ,\n",
       "        1.5522317 ,  0.9592313 , 18.221624  ,  5.442696  ,  3.9189544 ,\n",
       "        2.7894666 ,  0.25983685,  0.463811  ,  1.2857975 ,  1.1358198 ,\n",
       "       10.1974    , 11.018975  ,  1.1701484 ,  2.1999452 ,  5.8567295 ,\n",
       "        0.24454905,  0.15450077,  4.363208  ,  4.0406814 ,  0.69126004,\n",
       "        2.017724  ,  9.675996  ,  2.5141826 ,  0.51566666,  5.220679  ,\n",
       "        3.0737936 ,  0.93839586,  7.6119127 ,  0.25529447,  2.917389  ,\n",
       "        5.2077885 ,  1.3758229 ,  1.3536236 ,  1.1759938 ,  3.0943933 ,\n",
       "        0.2213269 ,  2.9126844 ,  1.9512395 ,  5.6259336 ,  2.7341504 ,\n",
       "        2.3443708 ,  1.015504  , 11.832385  ,  2.9402528 ,  8.1877575 ,\n",
       "        1.7210746 ,  2.574162  ,  4.770695  ,  7.5582433 ,  1.9138831 ,\n",
       "        0.28618035,  5.5742764 ,  2.512925  ,  3.8674176 ,  3.8522878 ,\n",
       "        2.1970026 ,  2.097868  ,  6.5099826 ,  2.9465778 , 14.558259  ,\n",
       "        4.6463895 ,  2.8665426 ,  0.38252273,  0.        ,  0.15239619,\n",
       "        3.2660093 ,  5.584021  ,  1.9151957 ,  2.5092528 ,  5.48466   ,\n",
       "        2.3166718 ,  5.4563246 ,  2.180661  ,  0.        ,  0.6690367 ,\n",
       "        1.5152724 ,  2.0127509 ,  2.146762  ,  2.5956852 ,  0.        ,\n",
       "        1.3427    ,  9.538482  ,  5.4122233 ,  8.703943  ,  0.64960635,\n",
       "        3.444387  ,  7.972792  ,  0.8416387 , 12.128425  ,  2.5116568 ,\n",
       "       12.824703  ,  8.683718  ,  0.        ,  1.0795965 ,  4.921489  ,\n",
       "        0.70227957,  1.6338603 ,  2.1452084 ,  1.9492153 ,  1.2375581 ,\n",
       "        0.63469774,  1.9927484 ,  2.9883761 ,  1.7469143 ,  0.90224653,\n",
       "        0.5933119 ,  2.2087445 ,  3.54772   ,  3.2172415 , 10.478805  ,\n",
       "       17.423601  ,  2.4516509 ,  0.19605601,  2.496608  , 17.93701   ,\n",
       "        0.22230117,  3.4919758 ,  0.1711896 ,  3.8866584 ,  3.3477993 ,\n",
       "        2.738382  ,  3.0851948 ,  5.37574   ,  5.443176  ,  5.107706  ,\n",
       "       11.829756  ,  1.3148848 ,  3.7280805 ,  5.7095094 ,  2.186525  ,\n",
       "       16.514174  ,  2.7682767 ,  4.2402496 ,  1.67517   ,  0.7593783 ,\n",
       "        1.2899754 ,  0.70891243,  6.7178164 ,  2.6609826 ,  0.44991896,\n",
       "        3.8589003 ,  1.5481638 ,  3.7337587 ,  2.8005917 ,  5.947494  ,\n",
       "        1.1596382 ,  1.0357131 ,  4.3702517 ,  4.075686  ,  0.79871553,\n",
       "        5.3070087 ,  4.298273  ,  2.1356575 ,  2.4567814 ,  3.9348693 ,\n",
       "        3.5607624 ,  2.5889544 ,  1.4703104 ,  1.3590469 ,  0.9556399 ,\n",
       "        0.        ,  6.700947  ,  2.0544    , 13.345246  ,  4.8539896 ,\n",
       "       11.557699  ,  4.2559195 ,  4.7483954 ,  3.7729723 ,  5.338477  ,\n",
       "        3.3130717 ,  0.7164507 ,  7.713009  ,  1.0321665 ,  2.6059523 ,\n",
       "        1.8446562 ,  8.133702  ,  2.1873298 ,  1.8457509 ,  4.0285363 ,\n",
       "        3.4247613 ,  3.0622404 ,  1.5680676 ,  1.9010813 ,  1.4194322 ,\n",
       "        0.92609423,  1.7253394 ,  1.2033839 ,  0.10463868,  4.713137  ,\n",
       "        4.757008  , 10.296113  ,  0.        ,  2.1783617 ,  5.154139  ,\n",
       "        3.4284213 ,  1.7851263 ,  2.642007  ,  1.2808505 ,  9.820713  ,\n",
       "        2.7139158 ,  5.6133003 ,  5.716719  ,  3.789723  ,  0.05050336,\n",
       "        1.8274891 ,  0.81248975,  0.0440434 ,  1.8437113 ,  4.6411486 ,\n",
       "        0.        ,  2.333793  ,  2.3312426 ,  0.9662799 ,  5.234783  ,\n",
       "        1.8676579 ,  2.7262895 ,  1.3376067 ,  5.645762  ,  5.0491014 ,\n",
       "        0.27395856,  5.627529  ,  1.0140346 ,  1.7333587 ,  1.531772  ,\n",
       "        2.057411  ,  1.1951414 ,  6.701947  ,  5.459991  ,  4.555556  ,\n",
       "        1.5277909 ,  4.8944435 ,  4.776878  ,  4.2501235 ,  0.9066909 ,\n",
       "        5.2351437 ,  5.5674253 ,  1.6557282 ,  6.176164  ,  0.45820946,\n",
       "        2.3453615 ,  0.4562705 ,  4.891908  ,  9.166401  ,  1.1676774 ,\n",
       "       13.649451  ,  4.441475  ,  0.3330484 , 13.981616  ,  5.600847  ,\n",
       "        3.7895365 ,  0.685892  ,  3.2020721 ,  1.2984254 ,  2.3757272 ,\n",
       "        3.930606  ,  0.1374551 ], dtype=float32)"
      ]
     },
     "execution_count": 13,
     "metadata": {},
     "output_type": "execute_result"
    }
   ],
   "source": [
    "base_feature = feature_test.copy()\n",
    "base_feature"
   ]
  },
  {
   "cell_type": "markdown",
   "metadata": {},
   "source": [
    "### Find Distance With Same Person"
   ]
  },
  {
   "cell_type": "code",
   "execution_count": 14,
   "metadata": {},
   "outputs": [
    {
     "name": "stdout",
     "output_type": "stream",
     "text": [
      "Checkpoint 0\n",
      "76.0312271118164\n",
      "70.14006042480469\n",
      "76.6411361694336\n",
      "79.76544952392578\n",
      "80.1218490600586\n",
      "73.36663055419922\n",
      "96.03703308105469\n",
      "69.33124542236328\n",
      "77.12606811523438\n",
      "81.61902618408203\n",
      "66.47514343261719\n",
      "78.72716522216797\n",
      "84.24540710449219\n",
      "75.04613494873047\n",
      "78.3510971069336\n",
      "77.7195053100586\n",
      "77.39115905761719\n",
      "75.21018981933594\n",
      "82.17401885986328\n",
      "82.82440948486328\n",
      "90.06951904296875\n",
      "78.26701354980469\n",
      "68.37277221679688\n",
      "88.21449279785156\n",
      "77.79676818847656\n",
      "80.7114028930664\n",
      "80.67178344726562\n",
      "82.40435791015625\n",
      "85.88334655761719\n",
      "78.24168395996094\n",
      "67.40498352050781\n",
      "80.7934341430664\n",
      "73.52340698242188\n",
      "78.188232421875\n",
      "76.25434112548828\n",
      "73.22666931152344\n",
      "78.00362396240234\n",
      "81.79517364501953\n",
      "76.75397491455078\n",
      "78.59888458251953\n",
      "81.51033782958984\n",
      "2.1539828777313232\n"
     ]
    }
   ],
   "source": [
    "start = time.time()\n",
    "same_person_distances = []\n",
    "for idx, image_path in enumerate(image_path_list[915:956]):\n",
    "    if idx % 1000 == 0:\n",
    "        print(\"Checkpoint\", idx)\n",
    "    img = cv.cvtColor(cv.imread(image_path), cv.COLOR_BGR2RGB)\n",
    "    detection_result = mtcnn_detector.detect_faces(img)\n",
    "    cropped_image = None\n",
    "    for face in detection_result:\n",
    "        face_bbox = face['box']\n",
    "        x, y, w, h = face_bbox\n",
    "        if x < 0:\n",
    "            x = 0\n",
    "        if y < 0:\n",
    "            y = 0\n",
    "        cropped_image = img[y:y+h, x:x+w]\n",
    "        break\n",
    "    \n",
    "    if not cropped_image is None:\n",
    "        feature_test = feature_extractor.extract_image(cropped_image)\n",
    "        distance = euclidean(feature_test, base_feature)\n",
    "        same_person_distances.append(distance)\n",
    "        print(distance)\n",
    "end = time.time()\n",
    "print(end-start)"
   ]
  },
  {
   "cell_type": "code",
   "execution_count": 15,
   "metadata": {},
   "outputs": [
    {
     "name": "stdout",
     "output_type": "stream",
     "text": [
      "78.41536973162395\n"
     ]
    }
   ],
   "source": [
    "print(np.mean(same_person_distances))"
   ]
  },
  {
   "cell_type": "markdown",
   "metadata": {},
   "source": [
    "### Find Distance With Diff Person"
   ]
  },
  {
   "cell_type": "code",
   "execution_count": 16,
   "metadata": {
    "scrolled": true
   },
   "outputs": [
    {
     "name": "stdout",
     "output_type": "stream",
     "text": [
      "Checkpoint 0\n",
      "44.06254959106445\n"
     ]
    }
   ],
   "source": [
    "start = time.time()\n",
    "diff_person_distances = []\n",
    "min_distance = np.inf\n",
    "min_path = None\n",
    "distance_path_tuples = []\n",
    "for idx, image_path in enumerate(image_path_list[0:914]):\n",
    "    if idx % 1000 == 0:\n",
    "        print(\"Checkpoint\", idx)\n",
    "    img = cv.cvtColor(cv.imread(image_path), cv.COLOR_BGR2RGB)\n",
    "    detection_result = mtcnn_detector.detect_faces(img)\n",
    "    cropped_image = None\n",
    "    for face in detection_result:\n",
    "        face_bbox = face['box']\n",
    "        x, y, w, h = face_bbox\n",
    "        if x < 0:\n",
    "            x = 0\n",
    "        if y < 0:\n",
    "            y = 0\n",
    "        cropped_image = img[y:y+h, x:x+w]\n",
    "        break\n",
    "    \n",
    "    if not cropped_image is None:\n",
    "        feature_test = feature_extractor.extract_image(cropped_image)\n",
    "        distance = euclidean(feature_test, base_feature)\n",
    "        if distance < min_distance:\n",
    "            min_distance = distance\n",
    "            min_path = image_path\n",
    "        distance_path_tuples.append((distance, image_path))\n",
    "        diff_person_distances.append(distance)\n",
    "end = time.time()\n",
    "print(end-start)"
   ]
  },
  {
   "cell_type": "code",
   "execution_count": 17,
   "metadata": {
    "scrolled": true
   },
   "outputs": [
    {
     "name": "stdout",
     "output_type": "stream",
     "text": [
      "77.99311065673828 ../lfw/Andrew_Shutley/Andrew_Shutley_0001.jpg\n"
     ]
    }
   ],
   "source": [
    "print(min_distance, min_path)"
   ]
  },
  {
   "cell_type": "code",
   "execution_count": 18,
   "metadata": {},
   "outputs": [
    {
     "name": "stdout",
     "output_type": "stream",
     "text": [
      "AVG: 107.50245426102853\n"
     ]
    }
   ],
   "source": [
    "print(\"AVG:\", np.mean(diff_person_distances))"
   ]
  },
  {
   "cell_type": "code",
   "execution_count": 20,
   "metadata": {
    "scrolled": true
   },
   "outputs": [
    {
     "data": {
      "text/plain": [
       "[(77.99311065673828, '../lfw/Andrew_Shutley/Andrew_Shutley_0001.jpg'),\n",
       " (80.34715270996094,\n",
       "  '../lfw/Alexandre_Herchcovitch/Alexandre_Herchcovitch_0001.jpg'),\n",
       " (82.34191131591797, '../lfw/Abdoulaye_Wade/Abdoulaye_Wade_0003.jpg'),\n",
       " (82.74638366699219, '../lfw/Andre_Agassi/Andre_Agassi_0020.jpg'),\n",
       " (83.35167694091797, '../lfw/Adrien_Brody/Adrien_Brody_0002.jpg'),\n",
       " (83.41316223144531, '../lfw/Andrew_Wetzler/Andrew_Wetzler_0001.jpg'),\n",
       " (83.63124084472656, '../lfw/Alfredo_Pena/Alfredo_Pena_0001.jpg'),\n",
       " (84.55795288085938, '../lfw/Anthony_LaPaglia/Anthony_LaPaglia_0001.jpg'),\n",
       " (84.85908508300781, '../lfw/Alvaro_Uribe/Alvaro_Uribe_0031.jpg'),\n",
       " (85.12081909179688, '../lfw/Allan_Houston/Allan_Houston_0001.jpg')]"
      ]
     },
     "execution_count": 20,
     "metadata": {},
     "output_type": "execute_result"
    }
   ],
   "source": [
    "sorted(distance_path_tuples, key=lambda x: x[0])[0:10]"
   ]
  },
  {
   "cell_type": "markdown",
   "metadata": {},
   "source": [
    "Conclusion: Threshold VGG Face - VGG16=80 (Rounding for simplicity)"
   ]
  },
  {
   "cell_type": "code",
   "execution_count": null,
   "metadata": {},
   "outputs": [],
   "source": []
  }
 ],
 "metadata": {
  "kernelspec": {
   "display_name": "Python 3",
   "language": "python",
   "name": "python3"
  },
  "language_info": {
   "codemirror_mode": {
    "name": "ipython",
    "version": 3
   },
   "file_extension": ".py",
   "mimetype": "text/x-python",
   "name": "python",
   "nbconvert_exporter": "python",
   "pygments_lexer": "ipython3",
   "version": "3.6.8"
  }
 },
 "nbformat": 4,
 "nbformat_minor": 2
}
