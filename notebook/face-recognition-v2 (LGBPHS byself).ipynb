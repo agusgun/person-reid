{
 "cells": [
  {
   "cell_type": "markdown",
   "metadata": {},
   "source": [
    "# Load Image"
   ]
  },
  {
   "cell_type": "code",
   "execution_count": 1,
   "metadata": {},
   "outputs": [],
   "source": [
    "from PIL import Image\n",
    "import matplotlib.pyplot as plt\n",
    "from pylab import array\n",
    "import numpy as np"
   ]
  },
  {
   "cell_type": "code",
   "execution_count": 2,
   "metadata": {},
   "outputs": [
    {
     "data": {
      "image/png": "[encoded data removed]",
      "text/plain": [
       "<Figure size 432x288 with 1 Axes>"
      ]
     },
     "metadata": {
      "needs_background": "light"
     },
     "output_type": "display_data"
    }
   ],
   "source": [
    "size = (60, 60) #width, height\n",
    "\n",
    "image = array(Image.open('../face_data/1_0.png').convert('L').resize(size, Image.BILINEAR))\n",
    "plt.imshow(image, cmap='gray')\n",
    "plt.show()"
   ]
  },
  {
   "cell_type": "code",
   "execution_count": 3,
   "metadata": {},
   "outputs": [],
   "source": [
    "from skimage.filters import gabor_kernel\n",
    "from scipy import ndimage as ndi\n",
    "\n",
    "def prepare_gabor_filter_bank(n_orientations, n_frequencies):\n",
    "    # prepare filter bank kernels\n",
    "    kernels = []\n",
    "    for theta in range(n_orientations):\n",
    "        theta = theta / n_orientations * np.pi\n",
    "        kmax = np.pi / 2.\n",
    "        for frequency in np.arange(kmax / n_frequencies, kmax + 0.1, kmax / n_frequencies): # add 0.01 because 1.6 included\n",
    "            kernel = np.real(gabor_kernel(frequency, theta=theta))\n",
    "            kernels.append(kernel)\n",
    "                \n",
    "    return kernels\n",
    "\n",
    "def apply_kernels_to_image(image, kernels):\n",
    "    convolved_result_list = []\n",
    "    for k, kernel in enumerate(kernels):\n",
    "        convolved_result = ndi.convolve(image, kernel, mode='wrap')\n",
    "        convolved_result_list.append(convolved_result)\n",
    "    return convolved_result_list"
   ]
  },
  {
   "cell_type": "code",
   "execution_count": 4,
   "metadata": {},
   "outputs": [],
   "source": [
    "kernels = prepare_gabor_filter_bank(5, 8)"
   ]
  },
  {
   "cell_type": "code",
   "execution_count": 5,
   "metadata": {},
   "outputs": [
    {
     "name": "stdout",
     "output_type": "stream",
     "text": [
      "40\n"
     ]
    }
   ],
   "source": [
    "print(len(kernels))"
   ]
  },
  {
   "cell_type": "code",
   "execution_count": 6,
   "metadata": {},
   "outputs": [
    {
     "name": "stdout",
     "output_type": "stream",
     "text": [
      "(60, 60)\n"
     ]
    }
   ],
   "source": [
    "print(image.shape)"
   ]
  },
  {
   "cell_type": "code",
   "execution_count": 7,
   "metadata": {},
   "outputs": [],
   "source": [
    "convolved_result_list = apply_kernels_to_image(image, kernels)"
   ]
  },
  {
   "cell_type": "code",
   "execution_count": 8,
   "metadata": {},
   "outputs": [
    {
     "name": "stdout",
     "output_type": "stream",
     "text": [
      "40\n"
     ]
    }
   ],
   "source": [
    "print(len(convolved_result_list))"
   ]
  },
  {
   "cell_type": "code",
   "execution_count": 9,
   "metadata": {},
   "outputs": [
    {
     "data": {
      "text/plain": [
       "<matplotlib.image.AxesImage at 0x7ff7f45cc5f8>"
      ]
     },
     "execution_count": 9,
     "metadata": {},
     "output_type": "execute_result"
    },
    {
     "data": {
      "image/png": "[encoded data removed]",
      "text/plain": [
       "<Figure size 432x288 with 1 Axes>"
      ]
     },
     "metadata": {
      "needs_background": "light"
     },
     "output_type": "display_data"
    }
   ],
   "source": [
    "plt.imshow(convolved_result_list[6], cmap='gray')"
   ]
  },
  {
   "cell_type": "markdown",
   "metadata": {},
   "source": [
    "# Apply LBP"
   ]
  },
  {
   "cell_type": "code",
   "execution_count": 10,
   "metadata": {},
   "outputs": [],
   "source": [
    "from skimage.feature import local_binary_pattern"
   ]
  },
  {
   "cell_type": "code",
   "execution_count": 11,
   "metadata": {},
   "outputs": [],
   "source": [
    "def apply_lbp_operator_to_convolutional_list(conv_list, method, radius, n_points):\n",
    "    lbp_result_list = []\n",
    "    for conv in conv_list:\n",
    "        lbp_result = local_binary_pattern(conv, n_points, radius, method)\n",
    "        lbp_result_list.append(lbp_result)\n",
    "    return lbp_result_list"
   ]
  },
  {
   "cell_type": "code",
   "execution_count": 12,
   "metadata": {},
   "outputs": [],
   "source": [
    "lbp_result_list = apply_lbp_operator_to_convolutional_list(convolved_result_list, 'uniform', 1, 8)"
   ]
  },
  {
   "cell_type": "code",
   "execution_count": 13,
   "metadata": {
    "scrolled": true
   },
   "outputs": [
    {
     "data": {
      "text/plain": [
       "<matplotlib.image.AxesImage at 0x7ff7f1f7ca20>"
      ]
     },
     "execution_count": 13,
     "metadata": {},
     "output_type": "execute_result"
    },
    {
     "data": {
      "image/png": "[encoded data removed]",
      "text/plain": [
       "<Figure size 432x288 with 1 Axes>"
      ]
     },
     "metadata": {
      "needs_background": "light"
     },
     "output_type": "display_data"
    }
   ],
   "source": [
    "plt.imshow(lbp_result_list[3], cmap='gray')"
   ]
  },
  {
   "cell_type": "code",
   "execution_count": 14,
   "metadata": {},
   "outputs": [
    {
     "data": {
      "text/plain": [
       "<matplotlib.image.AxesImage at 0x7ff7fa7f8a58>"
      ]
     },
     "execution_count": 14,
     "metadata": {},
     "output_type": "execute_result"
    },
    {
     "data": {
      "image/png": "[encoded data removed]",
      "text/plain": [
       "<Figure size 432x288 with 1 Axes>"
      ]
     },
     "metadata": {
      "needs_background": "light"
     },
     "output_type": "display_data"
    }
   ],
   "source": [
    "plt.imshow(lbp_result_list[3])"
   ]
  },
  {
   "cell_type": "code",
   "execution_count": 15,
   "metadata": {},
   "outputs": [
    {
     "data": {
      "text/plain": [
       "array([9., 8., 8., 8., 6., 8., 5., 5., 5., 4., 4., 5., 3., 4., 4., 4., 5.,\n",
       "       4., 5., 5., 5., 5., 5., 5., 5., 5., 5., 4., 3., 4., 4., 4., 8., 8.,\n",
       "       8., 4., 4., 7., 5., 9., 8., 8., 8., 6., 5., 8., 8., 5., 8., 8., 8.,\n",
       "       8., 8., 8., 8., 8., 8., 8., 8., 9.])"
      ]
     },
     "execution_count": 15,
     "metadata": {},
     "output_type": "execute_result"
    }
   ],
   "source": [
    "lbp_result_list[3][1]"
   ]
  },
  {
   "cell_type": "markdown",
   "metadata": {},
   "source": [
    "# Partition Sub-region"
   ]
  },
  {
   "cell_type": "code",
   "execution_count": 16,
   "metadata": {},
   "outputs": [],
   "source": [
    "def partition_lbp_list(lbp_list, local_height, local_width):\n",
    "    partition_result_list = []\n",
    "    width, height = lbp_list[0].shape\n",
    "    for lbp in lbp_list:\n",
    "        for iterator_height in range(height // local_height):\n",
    "            for iterator_width in range(width // local_width):\n",
    "                x_start = iterator_width * local_width\n",
    "                x_end = (iterator_width + 1) * local_width\n",
    "                y_start = iterator_height * local_height\n",
    "                y_end = (iterator_height + 1) * local_height\n",
    "                \n",
    "                partition_result = lbp[y_start: y_end, x_start : x_end]\n",
    "                partition_result_list.append(partition_result)\n",
    "    return partition_result_list"
   ]
  },
  {
   "cell_type": "code",
   "execution_count": 17,
   "metadata": {},
   "outputs": [
    {
     "name": "stdout",
     "output_type": "stream",
     "text": [
      "640\n"
     ]
    }
   ],
   "source": [
    "partition_list = partition_lbp_list(lbp_result_list, 15, 15)\n",
    "print(len(partition_list))"
   ]
  },
  {
   "cell_type": "code",
   "execution_count": 18,
   "metadata": {},
   "outputs": [
    {
     "data": {
      "text/plain": [
       "array([[8., 1., 8., 8., 8., 8., 8., 8., 8., 8., 8., 8., 8., 8., 8.],\n",
       "       [8., 9., 8., 8., 8., 8., 8., 8., 8., 8., 8., 8., 8., 8., 8.],\n",
       "       [8., 9., 8., 8., 8., 8., 8., 8., 8., 8., 8., 8., 8., 8., 8.],\n",
       "       [8., 9., 8., 8., 8., 8., 8., 8., 8., 8., 8., 8., 8., 8., 8.],\n",
       "       [8., 9., 9., 8., 8., 8., 8., 8., 8., 8., 8., 8., 8., 8., 8.],\n",
       "       [8., 5., 9., 8., 8., 8., 8., 8., 8., 8., 8., 8., 8., 8., 8.],\n",
       "       [8., 4., 9., 8., 1., 8., 8., 8., 8., 8., 8., 8., 8., 8., 8.],\n",
       "       [8., 4., 1., 8., 9., 8., 8., 8., 8., 8., 8., 8., 8., 8., 8.],\n",
       "       [8., 4., 9., 6., 9., 8., 8., 8., 8., 8., 8., 8., 8., 8., 8.],\n",
       "       [8., 5., 9., 8., 5., 8., 8., 8., 8., 8., 8., 8., 8., 8., 8.],\n",
       "       [8., 4., 9., 8., 5., 8., 8., 8., 8., 8., 8., 8., 8., 8., 8.],\n",
       "       [1., 9., 1., 8., 5., 8., 8., 8., 8., 8., 8., 8., 8., 8., 8.],\n",
       "       [1., 8., 9., 8., 1., 8., 8., 8., 8., 8., 8., 8., 8., 8., 8.],\n",
       "       [9., 8., 1., 6., 9., 8., 8., 8., 8., 8., 8., 8., 8., 8., 8.],\n",
       "       [1., 8., 9., 8., 5., 8., 8., 8., 8., 8., 8., 8., 8., 8., 8.]])"
      ]
     },
     "execution_count": 18,
     "metadata": {},
     "output_type": "execute_result"
    }
   ],
   "source": [
    "partition_list[0]"
   ]
  },
  {
   "cell_type": "markdown",
   "metadata": {},
   "source": [
    "# Matching"
   ]
  },
  {
   "cell_type": "code",
   "execution_count": 19,
   "metadata": {},
   "outputs": [],
   "source": [
    "import math\n",
    "\n",
    "def bhattacharyya_distance(hist1, hist2):\n",
    "#     print(hist1, 'haha')\n",
    "#     print(hist2, 'hehe')\n",
    "    # calculate mean of hist1\n",
    "    h1_ = np.mean(hist1);\n",
    "\n",
    "    # calculate mean of hist2\n",
    "    h2_ = np.mean(hist2);\n",
    "\n",
    "    # calculate score\n",
    "    score = 0;\n",
    "    if (hist1.all() == hist2.all()):\n",
    "        return 0\n",
    "    else:\n",
    "        for i in range(len(hist1)):\n",
    "            score += math.sqrt( hist1[i] * hist2[i] );\n",
    "#         print(score, 'hahae')\n",
    "#         print(1 - (1 / math.sqrt(h1_*h2_*len(hist1)*len(hist1))) * score)\n",
    "#         print(( 1 / math.sqrt(h1_*h2_*len(hist1)*len(hist1)) ) * score )\n",
    "        score = math.sqrt( 1 - ( 1 / math.sqrt(h1_*h2_*len(hist1)*len(hist1)) ) * score );\n",
    "        return score\n",
    "\n",
    "def match_two_image(image1_hist, image2_hist):\n",
    "    aggregated_score = 0\n",
    "    \n",
    "    for idx_lbp, hist_lbp in enumerate(image1_hist):\n",
    "        for idx_partition, hist_partition in enumerate(hist_lbp):\n",
    "            aggregated_score += bhattacharyya_distance(hist_partition, image2_hist[idx_lbp][idx_partition])\n",
    "    return aggregated_score"
   ]
  },
  {
   "cell_type": "code",
   "execution_count": 20,
   "metadata": {},
   "outputs": [],
   "source": [
    "def generate_lgbphs_from_image(image_filename):\n",
    "    size = (100, 100) #width, height\n",
    "\n",
    "    image = array(Image.open(image_filename).convert('L').resize(size, Image.BILINEAR))\n",
    "#     plt.imshow(image, cmap='gray')\n",
    "#     plt.show()\n",
    "    \n",
    "    kernels = prepare_gabor_filter_bank(5, 8)\n",
    "    convolved_result_list = apply_kernels_to_image(image, kernels)\n",
    "    \n",
    "    lbp_result_list = apply_lbp_operator_to_convolutional_list(convolved_result_list, 'uniform', 1, 8)\n",
    "    \n",
    "    partition_list = partition_lbp_list(lbp_result_list, 20, 20)\n",
    "    \n",
    "    return partition_list"
   ]
  },
  {
   "cell_type": "code",
   "execution_count": 21,
   "metadata": {},
   "outputs": [],
   "source": [
    "lgbphs_feature_image1 = generate_lgbphs_from_image('../face_data/1_0.png')"
   ]
  },
  {
   "cell_type": "code",
   "execution_count": 22,
   "metadata": {},
   "outputs": [],
   "source": [
    "lgbphs_feature_image2 = generate_lgbphs_from_image('../face_data/1_7.png')"
   ]
  },
  {
   "cell_type": "code",
   "execution_count": 23,
   "metadata": {},
   "outputs": [
    {
     "data": {
      "text/plain": [
       "316.04640662127576"
      ]
     },
     "execution_count": 23,
     "metadata": {},
     "output_type": "execute_result"
    }
   ],
   "source": [
    "match_two_image(lgbphs_feature_image1, lgbphs_feature_image2)"
   ]
  },
  {
   "cell_type": "markdown",
   "metadata": {},
   "source": [
    "# Compare PCA vs LGBPHS"
   ]
  },
  {
   "cell_type": "code",
   "execution_count": 24,
   "metadata": {},
   "outputs": [],
   "source": [
    "import os\n",
    "import scipy"
   ]
  },
  {
   "cell_type": "code",
   "execution_count": 25,
   "metadata": {},
   "outputs": [],
   "source": [
    "img_path_list = os.listdir('../face_data')\n",
    "img_path_list = [os.path.join('../face_data', img_path) for img_path in img_path_list]"
   ]
  },
  {
   "cell_type": "code",
   "execution_count": 26,
   "metadata": {},
   "outputs": [],
   "source": [
    "target = []\n",
    "for img_path in img_path_list:\n",
    "    if ('/1_' in img_path):\n",
    "        target.append(1)\n",
    "    elif ('/2_' in img_path):\n",
    "        target.append(2)\n",
    "    elif ('/7_' in img_path):\n",
    "        target.append(3)\n",
    "    elif ('/12_' in img_path):\n",
    "        target.append(3)\n",
    "    elif ('/17_' in img_path):\n",
    "        target.append(4)"
   ]
  },
  {
   "cell_type": "code",
   "execution_count": 27,
   "metadata": {},
   "outputs": [],
   "source": [
    "from sklearn.model_selection import train_test_split"
   ]
  },
  {
   "cell_type": "code",
   "execution_count": 28,
   "metadata": {},
   "outputs": [],
   "source": [
    "X_train_filename, X_test_filename, y_train_filename, y_test_filename = train_test_split(\n",
    "    img_path_list, target, test_size=0.2, random_state=0\n",
    ")"
   ]
  },
  {
   "cell_type": "code",
   "execution_count": 29,
   "metadata": {},
   "outputs": [],
   "source": [
    "def read_batch_image(img_path_list, resized_dimension=(100,100)):\n",
    "    image_data_list = []\n",
    "    for img_path in img_path_list:\n",
    "        img = Image.open(img_path).convert('L')\n",
    "        img = array(img, dtype=float)/255.0\n",
    "        img = scipy.misc.imresize(img, resized_dimension, interp='bilinear', mode=None)\n",
    "        image_data_list.append(img)\n",
    "    return image_data_list\n",
    "\n",
    "def flatten_batch_image(image_data_list):\n",
    "    flattened_image_list = []\n",
    "    for i in range(len(image_data_list)):\n",
    "        flattened_image = image_data_list[i].flatten()\n",
    "        flattened_image_list.append(flattened_image)\n",
    "    return flattened_image_list"
   ]
  },
  {
   "cell_type": "markdown",
   "metadata": {},
   "source": [
    "## PCA"
   ]
  },
  {
   "cell_type": "code",
   "execution_count": 30,
   "metadata": {},
   "outputs": [
    {
     "name": "stderr",
     "output_type": "stream",
     "text": [
      "/home/agusgun/anaconda3/envs/basic/lib/python3.6/site-packages/ipykernel_launcher.py:6: DeprecationWarning: `imresize` is deprecated!\n",
      "`imresize` is deprecated in SciPy 1.0.0, and will be removed in 1.3.0.\n",
      "Use Pillow instead: ``numpy.array(Image.fromarray(arr).resize())``.\n",
      "  \n"
     ]
    }
   ],
   "source": [
    "X_train_image_data = np.matrix(flatten_batch_image(read_batch_image(X_train_filename)))\n",
    "X_test_image_data = np.matrix(flatten_batch_image(read_batch_image(X_test_filename)))"
   ]
  },
  {
   "cell_type": "code",
   "execution_count": 31,
   "metadata": {},
   "outputs": [],
   "source": [
    "from sklearn.decomposition import PCA\n",
    "from sklearn.neighbors import KNeighborsClassifier\n",
    "from sklearn.metrics import accuracy_score, f1_score"
   ]
  },
  {
   "cell_type": "code",
   "execution_count": 32,
   "metadata": {},
   "outputs": [],
   "source": [
    "pca_component = 15\n",
    "pca = PCA(pca_component, whiten=True).fit(X_train_image_data)"
   ]
  },
  {
   "cell_type": "code",
   "execution_count": 33,
   "metadata": {},
   "outputs": [],
   "source": [
    "X_train_pca = pca.transform(X_train_image_data)\n",
    "X_test_pca = pca.transform(X_test_image_data)"
   ]
  },
  {
   "cell_type": "code",
   "execution_count": 34,
   "metadata": {},
   "outputs": [
    {
     "data": {
      "text/plain": [
       "KNeighborsClassifier(algorithm='auto', leaf_size=30, metric='minkowski',\n",
       "           metric_params=None, n_jobs=None, n_neighbors=3, p=2,\n",
       "           weights='uniform')"
      ]
     },
     "execution_count": 34,
     "metadata": {},
     "output_type": "execute_result"
    }
   ],
   "source": [
    "knn_classifier = KNeighborsClassifier(n_neighbors = 3)\n",
    "knn_classifier.fit(X_train_pca, y_train_filename)"
   ]
  },
  {
   "cell_type": "code",
   "execution_count": 35,
   "metadata": {},
   "outputs": [
    {
     "name": "stdout",
     "output_type": "stream",
     "text": [
      "0.9298245614035088\n",
      "0.9296410962045637\n"
     ]
    }
   ],
   "source": [
    "predicted = knn_classifier.predict(X_test_pca)\n",
    "\n",
    "print(accuracy_score(predicted, y_test_filename))\n",
    "print(f1_score(predicted, y_test_filename, average='weighted'))"
   ]
  },
  {
   "cell_type": "markdown",
   "metadata": {},
   "source": [
    "## LGBPHS"
   ]
  },
  {
   "cell_type": "code",
   "execution_count": 36,
   "metadata": {},
   "outputs": [],
   "source": [
    "X_train_feature = []\n",
    "for image_filename in X_train_filename:\n",
    "    X_train_feature.append(generate_lgbphs_from_image(image_filename))\n",
    "    \n",
    "X_test_feature = []\n",
    "for image_filename in X_test_filename:\n",
    "    X_test_feature.append(generate_lgbphs_from_image(image_filename))"
   ]
  },
  {
   "cell_type": "code",
   "execution_count": 37,
   "metadata": {},
   "outputs": [],
   "source": [
    "def predict_lgbphs(image_test_feature, image_train_feature_list, train_label_list):\n",
    "    min_score = np.inf\n",
    "    predict_result = 0\n",
    "    for idx, image_feature in enumerate(image_train_feature_list):\n",
    "        score = match_two_image(image_feature, image_test_feature)\n",
    "        if score < min_score:\n",
    "            predict_result = train_label_list[idx]\n",
    "            min_score = score\n",
    "            \n",
    "    return predict_result"
   ]
  },
  {
   "cell_type": "code",
   "execution_count": 38,
   "metadata": {},
   "outputs": [
    {
     "name": "stdout",
     "output_type": "stream",
     "text": [
      "CPU times: user 1min 35s, sys: 0 ns, total: 1min 35s\n",
      "Wall time: 1min 35s\n"
     ]
    },
    {
     "data": {
      "text/plain": [
       "4"
      ]
     },
     "execution_count": 38,
     "metadata": {},
     "output_type": "execute_result"
    }
   ],
   "source": [
    "%%time\n",
    "\n",
    "predict_lgbphs(X_test_feature[0], X_train_feature, y_train_filename)"
   ]
  },
  {
   "cell_type": "code",
   "execution_count": 39,
   "metadata": {},
   "outputs": [
    {
     "data": {
      "text/plain": [
       "4"
      ]
     },
     "execution_count": 39,
     "metadata": {},
     "output_type": "execute_result"
    }
   ],
   "source": [
    "y_test_filename[0]"
   ]
  },
  {
   "cell_type": "markdown",
   "metadata": {},
   "source": [
    "# Final Conclusion: LGBPHS too slow to be used in the system\n",
    "\n",
    "Paper Source: Cho et al"
   ]
  }
 ],
 "metadata": {
  "kernelspec": {
   "display_name": "Python 3",
   "language": "python",
   "name": "python3"
  },
  "language_info": {
   "codemirror_mode": {
    "name": "ipython",
    "version": 3
   },
   "file_extension": ".py",
   "mimetype": "text/x-python",
   "name": "python",
   "nbconvert_exporter": "python",
   "pygments_lexer": "ipython3",
   "version": "3.6.8"
  }
 },
 "nbformat": 4,
 "nbformat_minor": 2
}
